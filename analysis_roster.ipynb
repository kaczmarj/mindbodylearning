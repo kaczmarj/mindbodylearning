{
 "cells": [
  {
   "cell_type": "markdown",
   "metadata": {
    "toc": "true"
   },
   "source": [
    "# Table of Contents\n",
    " <p><div class=\"lev1 toc-item\"><a href=\"#Descriptive-stats-&amp;-analysis-of-assessment-scores\" data-toc-modified-id=\"Descriptive-stats-&amp;-analysis-of-assessment-scores-1\"><span class=\"toc-item-num\">1&nbsp;&nbsp;</span>Descriptive stats &amp; analysis of assessment scores</a></div><div class=\"lev1 toc-item\"><a href=\"#Setup\" data-toc-modified-id=\"Setup-2\"><span class=\"toc-item-num\">2&nbsp;&nbsp;</span>Setup</a></div><div class=\"lev1 toc-item\"><a href=\"#Descriptive-statistics\" data-toc-modified-id=\"Descriptive-statistics-3\"><span class=\"toc-item-num\">3&nbsp;&nbsp;</span>Descriptive statistics</a></div><div class=\"lev2 toc-item\"><a href=\"#Percent-usage\" data-toc-modified-id=\"Percent-usage-31\"><span class=\"toc-item-num\">3.1&nbsp;&nbsp;</span>Percent usage</a></div><div class=\"lev2 toc-item\"><a href=\"#Sample-sizes\" data-toc-modified-id=\"Sample-sizes-32\"><span class=\"toc-item-num\">3.2&nbsp;&nbsp;</span>Sample sizes</a></div><div class=\"lev2 toc-item\"><a href=\"#Histogram-of-overall-scores\" data-toc-modified-id=\"Histogram-of-overall-scores-33\"><span class=\"toc-item-num\">3.3&nbsp;&nbsp;</span>Histogram of overall scores</a></div><div class=\"lev1 toc-item\"><a href=\"#Differences-in-assessment-scores\" data-toc-modified-id=\"Differences-in-assessment-scores-4\"><span class=\"toc-item-num\">4&nbsp;&nbsp;</span>Differences in assessment scores</a></div><div class=\"lev2 toc-item\"><a href=\"#By-gender\" data-toc-modified-id=\"By-gender-41\"><span class=\"toc-item-num\">4.1&nbsp;&nbsp;</span>By gender</a></div><div class=\"lev2 toc-item\"><a href=\"#By-condition\" data-toc-modified-id=\"By-condition-42\"><span class=\"toc-item-num\">4.2&nbsp;&nbsp;</span>By condition</a></div><div class=\"lev2 toc-item\"><a href=\"#By-morning-/-night-person\" data-toc-modified-id=\"By-morning-/-night-person-43\"><span class=\"toc-item-num\">4.3&nbsp;&nbsp;</span>By morning / night person</a></div>"
   ]
  },
  {
   "cell_type": "markdown",
   "metadata": {},
   "source": [
    "# Descriptive stats & analysis of assessment scores\n",
    "\n",
    "All of the analyses presented here are done without the excluded subjects."
   ]
  },
  {
   "cell_type": "markdown",
   "metadata": {},
   "source": [
    "# Setup"
   ]
  },
  {
   "cell_type": "code",
   "execution_count": 1,
   "metadata": {
    "collapsed": false
   },
   "outputs": [
    {
     "name": "stderr",
     "output_type": "stream",
     "text": [
      "/Users/jakubkaczmarzyk/anaconda/envs/fitbit/lib/python3.6/site-packages/IPython/html.py:14: ShimWarning: The `IPython.html` package has been deprecated since IPython 4.0. You should import from `notebook` instead. `IPython.html.widgets` has moved to `ipywidgets`.\n",
      "  \"`IPython.html.widgets` has moved to `ipywidgets`.\", ShimWarning)\n"
     ]
    }
   ],
   "source": [
    "%matplotlib inline\n",
    "\n",
    "from __future__ import division, print_function\n",
    "\n",
    "import matplotlib.pyplot as plt\n",
    "import numpy as np\n",
    "import pandas as pd\n",
    "import seaborn as sns\n",
    "\n",
    "import utils\n",
    "\n",
    "sns.set_context('notebook', font_scale=1.5)\n",
    "\n",
    "df_roster = utils.load_roster()\n",
    "df_hr = utils.load_heart_rate_data()"
   ]
  },
  {
   "cell_type": "markdown",
   "metadata": {},
   "source": [
    "# Descriptive statistics"
   ]
  },
  {
   "cell_type": "markdown",
   "metadata": {},
   "source": [
    "## Percent usage\n",
    "\n",
    "    number of non-nan heart rate samples / total number of samples"
   ]
  },
  {
   "cell_type": "code",
   "execution_count": 2,
   "metadata": {
    "collapsed": false,
    "scrolled": false
   },
   "outputs": [
    {
     "name": "stdout",
     "output_type": "stream",
     "text": [
      "FITBIT USAGE\n",
      "Mean: 89.385 %\n",
      "Median: 90.519 %\n"
     ]
    },
    {
     "data": {
      "image/png": "[encoded data removed]",
      "text/plain": [
       "<matplotlib.figure.Figure at 0x10eb522e8>"
      ]
     },
     "metadata": {},
     "output_type": "display_data"
    }
   ],
   "source": [
    "def get_percent_usage(subj_data):\n",
    "    non_nan = len(subj_data[~subj_data.isnull()])\n",
    "    total = len(subj_data)\n",
    "    return non_nan / total\n",
    "\n",
    "percent_usage = df_hr.groupby('subjectID').bpm.apply(get_percent_usage)\n",
    "\n",
    "print(\"FITBIT USAGE\\n\"\n",
    "      \"Mean: {:.3f} %\\n\"\n",
    "      \"Median: {:.3f} %\"\n",
    "      \"\".format(percent_usage.mean()*100, percent_usage.median()*100))\n",
    "\n",
    "percent_usage.hist(bins=20)\n",
    "plt.title(\"Histogram of Fitbit usage\\n(# non-zero samples / # total samples)\")\n",
    "plt.xlabel(\"Usage (ratio)\")\n",
    "plt.ylabel(\"N\")\n",
    "plt.show()"
   ]
  },
  {
   "cell_type": "markdown",
   "metadata": {},
   "source": [
    "## Sample sizes"
   ]
  },
  {
   "cell_type": "code",
   "execution_count": 3,
   "metadata": {
    "collapsed": false,
    "scrolled": false
   },
   "outputs": [
    {
     "name": "stdout",
     "output_type": "stream",
     "text": [
      "Total N = 87\n",
      "\n",
      "GROUP\n",
      "1    65\n",
      "2    22\n",
      "Name: group, dtype: int64\n",
      "\n",
      "GENDER\n",
      "Female    45\n",
      "Male      42\n",
      "Name: Gender, dtype: int64\n",
      "\n",
      "YEAR\n",
      "1    84\n",
      "4     2\n",
      "3     1\n",
      "Name: year, dtype: int64\n",
      "\n",
      "AGE\n",
      "18.0    68\n",
      "19.0     8\n",
      "17.0     7\n",
      "23.0     1\n",
      "21.0     1\n",
      "22.0     1\n",
      "20.0     1\n",
      "Name: Age, dtype: int64\n",
      "\n",
      "ETHNICITY\n",
      "White Non-Hispanic/Latino                                      27\n",
      "Asian                                                          25\n",
      "White Hispanic/Latino                                          20\n",
      "Black/African American                                          5\n",
      "White Non-Hispanic/Latino, Asian                                4\n",
      "White Non-Hispanic/Latino, Native Hawaiian/Pacific Islander     1\n",
      "White Non-Hispanic/Latino, White Hispanic/Latino                1\n",
      "Puerto Rican                                                    1\n",
      "Hispanic/Latino                                                 1\n",
      "White Hispanic/Latino, Asian                                    1\n",
      "Middle Eastern                                                  1\n",
      "Name: Ethnicity, dtype: int64\n"
     ]
    }
   ],
   "source": [
    "cols = ['group', 'Gender', 'year', 'Age', 'Ethnicity']\n",
    "message = \"Total N = {}\".format(len(df_roster))\n",
    "for c in cols:\n",
    "    vals = pd.value_counts(df_roster[c])\n",
    "    message += \"\\n\\n{}\\n{}\".format(c.upper(), vals)\n",
    "print(message)"
   ]
  },
  {
   "cell_type": "markdown",
   "metadata": {},
   "source": [
    "## Histogram of overall scores"
   ]
  },
  {
   "cell_type": "code",
   "execution_count": 4,
   "metadata": {
    "collapsed": false
   },
   "outputs": [
    {
     "data": {
      "image/png": "[encoded data removed]",
      "text/plain": [
       "<matplotlib.figure.Figure at 0x124b66208>"
      ]
     },
     "metadata": {},
     "output_type": "display_data"
    }
   ],
   "source": [
    "# Maximum possible score is 380.\n",
    "# 8 quizzes at 10 points each plus 3 midterms at 100 points each.\n",
    "\n",
    "df_roster['overall_score'].plot.hist()\n",
    "plt.title(\"Histogram of overall scores (sum of all quizzes and midterms)\")\n",
    "plt.show()"
   ]
  },
  {
   "cell_type": "markdown",
   "metadata": {
    "collapsed": true
   },
   "source": [
    "# Differences in assessment scores\n",
    "\n",
    "Using two-sample independent T-test."
   ]
  },
  {
   "cell_type": "code",
   "execution_count": 5,
   "metadata": {
    "collapsed": true
   },
   "outputs": [],
   "source": [
    "def print_ind_ttest(df, column, group_a, group_b, y_col):\n",
    "    \"\"\"Print results of two-sample ind. t-test between two groups on y_col.\"\"\"\n",
    "    from scipy.stats import ttest_ind\n",
    "\n",
    "    series_a = df.loc[df[column]==group_a, y_col]\n",
    "    series_b = df.loc[df[column]==group_b, y_col]\n",
    "    t_test = ttest_ind(series_a, series_b, nan_policy='omit')\n",
    "\n",
    "    asterisk = \" *\" if t_test.pvalue < 0.05 else \"\"\n",
    "    out = \"{}{}\\n\".format(y_col.upper(), asterisk)\n",
    "    out += (\"p = {:.3f}, T = {:.2f}\".format(t_test.pvalue, t_test.statistic))\n",
    "    out += (\"\\n\\t{}\\t{}\\nN\\t{}\\t{}\\nMean\\t{:.2f}\\t{:.2f}\"\n",
    "            \"\".format(group_a, group_b, len(series_a), len(series_b),\n",
    "                      series_a.mean(), series_b.mean()))\n",
    "    print(out)"
   ]
  },
  {
   "cell_type": "markdown",
   "metadata": {},
   "source": [
    "## By gender"
   ]
  },
  {
   "cell_type": "code",
   "execution_count": 6,
   "metadata": {
    "collapsed": false,
    "scrolled": false
   },
   "outputs": [
    {
     "name": "stdout",
     "output_type": "stream",
     "text": [
      "T-tests comparing assessment scores by gender\n",
      "\n",
      "QUIZ_1\n",
      "p = 0.779, T = -0.28\n",
      "\tFemale\tMale\n",
      "N\t45\t42\n",
      "Mean\t9.27\t9.34\n",
      "\n",
      "QUIZ_2\n",
      "p = 0.130, T = 1.53\n",
      "\tFemale\tMale\n",
      "N\t45\t42\n",
      "Mean\t8.36\t7.71\n",
      "\n",
      "QUIZ_3 *\n",
      "p = 0.031, T = 2.19\n",
      "\tFemale\tMale\n",
      "N\t45\t42\n",
      "Mean\t7.83\t6.90\n",
      "\n",
      "MIDTERM_1\n",
      "p = 0.132, T = 1.52\n",
      "\tFemale\tMale\n",
      "N\t45\t42\n",
      "Mean\t75.39\t70.76\n",
      "\n",
      "QUIZ_4\n",
      "p = 0.808, T = 0.24\n",
      "\tFemale\tMale\n",
      "N\t45\t42\n",
      "Mean\t7.99\t7.88\n",
      "\n",
      "QUIZ_5\n",
      "p = 0.145, T = 1.47\n",
      "\tFemale\tMale\n",
      "N\t45\t42\n",
      "Mean\t8.81\t8.45\n",
      "\n",
      "QUIZ_6 *\n",
      "p = 0.019, T = 2.39\n",
      "\tFemale\tMale\n",
      "N\t45\t42\n",
      "Mean\t7.44\t6.42\n",
      "\n",
      "MIDTERM_2\n",
      "p = 0.062, T = 1.89\n",
      "\tFemale\tMale\n",
      "N\t45\t42\n",
      "Mean\t79.87\t75.51\n",
      "\n",
      "QUIZ_7\n",
      "p = 0.263, T = 1.13\n",
      "\tFemale\tMale\n",
      "N\t45\t42\n",
      "Mean\t8.20\t7.62\n",
      "\n",
      "QUIZ_8\n",
      "p = 0.947, T = 0.07\n",
      "\tFemale\tMale\n",
      "N\t45\t42\n",
      "Mean\t7.33\t7.29\n",
      "\n",
      "MIDTERM_3\n",
      "p = 0.165, T = 1.40\n",
      "\tFemale\tMale\n",
      "N\t45\t42\n",
      "Mean\t76.95\t72.04\n",
      "\n"
     ]
    }
   ],
   "source": [
    "print(\"T-tests comparing assessment scores by gender\\n\")\n",
    "for assessment, _ in utils.assessment_dates:\n",
    "    print_ind_ttest(df_roster, \"Gender\", \"Female\", \"Male\", assessment)\n",
    "    print()"
   ]
  },
  {
   "cell_type": "markdown",
   "metadata": {},
   "source": [
    "## By condition"
   ]
  },
  {
   "cell_type": "code",
   "execution_count": 7,
   "metadata": {
    "collapsed": false,
    "scrolled": false
   },
   "outputs": [
    {
     "name": "stdout",
     "output_type": "stream",
     "text": [
      "T-tests comparing assessment scores by condition\n",
      "\n",
      "QUIZ_1\n",
      "p = 0.150, T = 1.45\n",
      "\t1\t2\n",
      "N\t65\t22\n",
      "Mean\t9.41\t9.00\n",
      "\n",
      "QUIZ_2\n",
      "p = 0.292, T = -1.06\n",
      "\t1\t2\n",
      "N\t65\t22\n",
      "Mean\t7.91\t8.43\n",
      "\n",
      "QUIZ_3\n",
      "p = 0.721, T = -0.36\n",
      "\t1\t2\n",
      "N\t65\t22\n",
      "Mean\t7.34\t7.52\n",
      "\n",
      "MIDTERM_1\n",
      "p = 0.089, T = -1.72\n",
      "\t1\t2\n",
      "N\t65\t22\n",
      "Mean\t71.64\t77.64\n",
      "\n",
      "QUIZ_4\n",
      "p = 0.140, T = -1.49\n",
      "\t1\t2\n",
      "N\t65\t22\n",
      "Mean\t7.76\t8.48\n",
      "\n",
      "QUIZ_5\n",
      "p = 0.635, T = -0.48\n",
      "\t1\t2\n",
      "N\t65\t22\n",
      "Mean\t8.60\t8.74\n",
      "\n",
      "QUIZ_6\n",
      "p = 0.468, T = 0.73\n",
      "\t1\t2\n",
      "N\t65\t22\n",
      "Mean\t7.05\t6.67\n",
      "\n",
      "MIDTERM_2\n",
      "p = 0.687, T = -0.40\n",
      "\t1\t2\n",
      "N\t65\t22\n",
      "Mean\t77.55\t78.64\n",
      "\n",
      "QUIZ_7\n",
      "p = 0.124, T = -1.56\n",
      "\t1\t2\n",
      "N\t65\t22\n",
      "Mean\t7.70\t8.59\n",
      "\n",
      "QUIZ_8 *\n",
      "p = 0.037, T = 2.12\n",
      "\t1\t2\n",
      "N\t65\t22\n",
      "Mean\t7.66\t6.33\n",
      "\n",
      "MIDTERM_3\n",
      "p = 0.119, T = -1.58\n",
      "\t1\t2\n",
      "N\t65\t22\n",
      "Mean\t73.02\t79.38\n",
      "\n"
     ]
    }
   ],
   "source": [
    "print(\"T-tests comparing assessment scores by condition\\n\")\n",
    "for assessment, _ in utils.assessment_dates:\n",
    "    print_ind_ttest(df_roster, \"group\", 1, 2, assessment)\n",
    "    print()"
   ]
  },
  {
   "cell_type": "markdown",
   "metadata": {},
   "source": [
    "## By morning / night person"
   ]
  },
  {
   "cell_type": "code",
   "execution_count": 8,
   "metadata": {
    "collapsed": false,
    "scrolled": false
   },
   "outputs": [
    {
     "name": "stdout",
     "output_type": "stream",
     "text": [
      "T-tests comparing assessment scores by morning/night person\n",
      "\n",
      "QUIZ_1\n",
      "p = 0.849, T = 0.19\n",
      "\tNight person\tMorning person\n",
      "N\t40\t15\n",
      "Mean\t9.36\t9.30\n",
      "\n",
      "QUIZ_2\n",
      "p = 0.171, T = -1.39\n",
      "\tNight person\tMorning person\n",
      "N\t40\t15\n",
      "Mean\t8.26\t8.97\n",
      "\n",
      "QUIZ_3\n",
      "p = 0.441, T = -0.78\n",
      "\tNight person\tMorning person\n",
      "N\t40\t15\n",
      "Mean\t7.35\t7.83\n",
      "\n",
      "MIDTERM_1\n",
      "p = 0.292, T = -1.06\n",
      "\tNight person\tMorning person\n",
      "N\t40\t15\n",
      "Mean\t72.08\t76.57\n",
      "\n",
      "QUIZ_4\n",
      "p = 0.204, T = -1.29\n",
      "\tNight person\tMorning person\n",
      "N\t40\t15\n",
      "Mean\t7.86\t8.57\n",
      "\n",
      "QUIZ_5\n",
      "p = 0.060, T = -1.92\n",
      "\tNight person\tMorning person\n",
      "N\t40\t15\n",
      "Mean\t8.46\t9.13\n",
      "\n",
      "QUIZ_6\n",
      "p = 0.751, T = 0.32\n",
      "\tNight person\tMorning person\n",
      "N\t40\t15\n",
      "Mean\t7.03\t6.82\n",
      "\n",
      "MIDTERM_2\n",
      "p = 0.340, T = -0.96\n",
      "\tNight person\tMorning person\n",
      "N\t40\t15\n",
      "Mean\t78.28\t81.23\n",
      "\n",
      "QUIZ_7\n",
      "p = 0.185, T = -1.34\n",
      "\tNight person\tMorning person\n",
      "N\t40\t15\n",
      "Mean\t7.64\t8.53\n",
      "\n",
      "QUIZ_8\n",
      "p = 0.677, T = -0.42\n",
      "\tNight person\tMorning person\n",
      "N\t40\t15\n",
      "Mean\t7.06\t7.43\n",
      "\n",
      "MIDTERM_3 *\n",
      "p = 0.027, T = -2.28\n",
      "\tNight person\tMorning person\n",
      "N\t40\t15\n",
      "Mean\t74.74\t83.37\n",
      "\n"
     ]
    }
   ],
   "source": [
    "print(\"T-tests comparing assessment scores by morning/night person\\n\")\n",
    "col = 'Are_you_a_morning_or_night_person___when_do_you_feel_most_productive__'\n",
    "for assessment, _ in utils.assessment_dates:\n",
    "    print_ind_ttest(df_roster, col, 'Night person', 'Morning person',\n",
    "                          assessment)\n",
    "    print()"
   ]
  }
 ],
 "metadata": {
  "kernelspec": {
   "display_name": "Python [conda env:fitbit]",
   "language": "python",
   "name": "conda-env-fitbit-py"
  },
  "language_info": {
   "codemirror_mode": {
    "name": "ipython",
    "version": 3
   },
   "file_extension": ".py",
   "mimetype": "text/x-python",
   "name": "python",
   "nbconvert_exporter": "python",
   "pygments_lexer": "ipython3",
   "version": "3.6.1"
  },
  "toc": {
   "colors": {
    "hover_highlight": "#DAA520",
    "running_highlight": "#FF0000",
    "selected_highlight": "#FFD700"
   },
   "moveMenuLeft": true,
   "nav_menu": {
    "height": "174px",
    "width": "252px"
   },
   "navigate_menu": true,
   "number_sections": true,
   "sideBar": true,
   "threshold": 4,
   "toc_cell": true,
   "toc_section_display": "block",
   "toc_window_display": false,
   "widenNotebook": false
  }
 },
 "nbformat": 4,
 "nbformat_minor": 2
}
