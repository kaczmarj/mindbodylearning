{
 "cells": [
  {
   "cell_type": "markdown",
   "metadata": {
    "toc": "true"
   },
   "source": [
    "# Table of Contents\n",
    " <p><div class=\"lev1 toc-item\"><a href=\"#Sleep-analyses\" data-toc-modified-id=\"Sleep-analyses-1\"><span class=\"toc-item-num\">1&nbsp;&nbsp;</span>Sleep analyses</a></div><div class=\"lev1 toc-item\"><a href=\"#Setup\" data-toc-modified-id=\"Setup-2\"><span class=\"toc-item-num\">2&nbsp;&nbsp;</span>Setup</a></div><div class=\"lev1 toc-item\"><a href=\"#General-functions\" data-toc-modified-id=\"General-functions-3\"><span class=\"toc-item-num\">3&nbsp;&nbsp;</span>General functions</a></div><div class=\"lev1 toc-item\"><a href=\"#Descriptive-plots\" data-toc-modified-id=\"Descriptive-plots-4\"><span class=\"toc-item-num\">4&nbsp;&nbsp;</span>Descriptive plots</a></div><div class=\"lev1 toc-item\"><a href=\"#Correlations\" data-toc-modified-id=\"Correlations-5\"><span class=\"toc-item-num\">5&nbsp;&nbsp;</span>Correlations</a></div><div class=\"lev2 toc-item\"><a href=\"#Correlate-mean-overall-sleep-duration-and-quality-with-total-score-across-all-assessments\" data-toc-modified-id=\"Correlate-mean-overall-sleep-duration-and-quality-with-total-score-across-all-assessments-51\"><span class=\"toc-item-num\">5.1&nbsp;&nbsp;</span>Correlate mean overall sleep duration and quality with total score across all assessments</a></div><div class=\"lev2 toc-item\"><a href=\"#Correlate-mean-overall-bedtime-and-waketime-with-overall-assessment-score\" data-toc-modified-id=\"Correlate-mean-overall-bedtime-and-waketime-with-overall-assessment-score-52\"><span class=\"toc-item-num\">5.2&nbsp;&nbsp;</span>Correlate mean overall bedtime and waketime with overall assessment score</a></div><div class=\"lev2 toc-item\"><a href=\"#Correlate-mean-sleep-duration/quality-with-assessment-score\" data-toc-modified-id=\"Correlate-mean-sleep-duration/quality-with-assessment-score-53\"><span class=\"toc-item-num\">5.3&nbsp;&nbsp;</span>Correlate mean sleep duration/quality with assessment score</a></div><div class=\"lev2 toc-item\"><a href=\"#Correlate-sleep-night-before-with-assessment-score\" data-toc-modified-id=\"Correlate-sleep-night-before-with-assessment-score-54\"><span class=\"toc-item-num\">5.4&nbsp;&nbsp;</span>Correlate sleep night before with assessment score</a></div><div class=\"lev2 toc-item\"><a href=\"#Correlate-sleep-week-before-with-assessment-score\" data-toc-modified-id=\"Correlate-sleep-week-before-with-assessment-score-55\"><span class=\"toc-item-num\">5.5&nbsp;&nbsp;</span>Correlate sleep week before with assessment score</a></div><div class=\"lev2 toc-item\"><a href=\"#Correlation:-assessment-scores-and-sleep-duration/quality-during-relevant-content-for-assessment\" data-toc-modified-id=\"Correlation:-assessment-scores-and-sleep-duration/quality-during-relevant-content-for-assessment-56\"><span class=\"toc-item-num\">5.6&nbsp;&nbsp;</span>Correlation: assessment scores and sleep duration/quality during relevant content for assessment</a></div><div class=\"lev2 toc-item\"><a href=\"#Correlate-average-bedtime-and-waketime-week-before-with-assessment-score\" data-toc-modified-id=\"Correlate-average-bedtime-and-waketime-week-before-with-assessment-score-57\"><span class=\"toc-item-num\">5.7&nbsp;&nbsp;</span>Correlate average bedtime and waketime week before with assessment score</a></div><div class=\"lev2 toc-item\"><a href=\"#Correlation-of-assessment-scores-and-sleep-duration/quality-in-longest-sleepers\" data-toc-modified-id=\"Correlation-of-assessment-scores-and-sleep-duration/quality-in-longest-sleepers-58\"><span class=\"toc-item-num\">5.8&nbsp;&nbsp;</span>Correlation of assessment scores and sleep duration/quality in longest sleepers</a></div><div class=\"lev1 toc-item\"><a href=\"#Assessment-scores-by-bedtime-and/or-wake-time\" data-toc-modified-id=\"Assessment-scores-by-bedtime-and/or-wake-time-6\"><span class=\"toc-item-num\">6&nbsp;&nbsp;</span>Assessment scores by bedtime and/or wake time</a></div><div class=\"lev2 toc-item\"><a href=\"#T-test:-scores-by-bedtime-and-waketime-median-split\" data-toc-modified-id=\"T-test:-scores-by-bedtime-and-waketime-median-split-61\"><span class=\"toc-item-num\">6.1&nbsp;&nbsp;</span>T-test: scores by bedtime and waketime median-split</a></div><div class=\"lev2 toc-item\"><a href=\"#ANOVA:-scores-by-bedtime-x-assessment\" data-toc-modified-id=\"ANOVA:-scores-by-bedtime-x-assessment-62\"><span class=\"toc-item-num\">6.2&nbsp;&nbsp;</span>ANOVA: scores by bedtime x assessment</a></div><div class=\"lev2 toc-item\"><a href=\"#ANOVA:-scores-by-bedtime-x-recitation-time\" data-toc-modified-id=\"ANOVA:-scores-by-bedtime-x-recitation-time-63\"><span class=\"toc-item-num\">6.3&nbsp;&nbsp;</span>ANOVA: scores by bedtime x recitation time</a></div><div class=\"lev2 toc-item\"><a href=\"#ANOVA:-scores-by-wake-time-x-assessment\" data-toc-modified-id=\"ANOVA:-scores-by-wake-time-x-assessment-64\"><span class=\"toc-item-num\">6.4&nbsp;&nbsp;</span>ANOVA: scores by wake time x assessment</a></div><div class=\"lev2 toc-item\"><a href=\"#ANOVA:-scores-by-wake-time-x-recitation-time\" data-toc-modified-id=\"ANOVA:-scores-by-wake-time-x-recitation-time-65\"><span class=\"toc-item-num\">6.5&nbsp;&nbsp;</span>ANOVA: scores by wake time x recitation time</a></div><div class=\"lev2 toc-item\"><a href=\"#ANOVA:-scores-by-wake-time-x-bedtime-x-assessment\" data-toc-modified-id=\"ANOVA:-scores-by-wake-time-x-bedtime-x-assessment-66\"><span class=\"toc-item-num\">6.6&nbsp;&nbsp;</span>ANOVA: scores by wake time x bedtime x assessment</a></div><div class=\"lev2 toc-item\"><a href=\"#ANOVA:-scores-by-mean-bedtime-x-mean-wake-time-x-morning/night-person\" data-toc-modified-id=\"ANOVA:-scores-by-mean-bedtime-x-mean-wake-time-x-morning/night-person-67\"><span class=\"toc-item-num\">6.7&nbsp;&nbsp;</span>ANOVA: scores by mean bedtime x mean wake time x morning/night person</a></div><div class=\"lev2 toc-item\"><a href=\"#ANOVA:-scores-by-mean-bedtime-x-mean-wake-time-x-assessment\" data-toc-modified-id=\"ANOVA:-scores-by-mean-bedtime-x-mean-wake-time-x-assessment-68\"><span class=\"toc-item-num\">6.8&nbsp;&nbsp;</span>ANOVA: scores by mean bedtime x mean wake time x assessment</a></div><div class=\"lev2 toc-item\"><a href=\"#ANOVA:-overall-score-at-end-of-semester-by-mean-bedtime-and-mean-wake-up-time\" data-toc-modified-id=\"ANOVA:-overall-score-at-end-of-semester-by-mean-bedtime-and-mean-wake-up-time-69\"><span class=\"toc-item-num\">6.9&nbsp;&nbsp;</span>ANOVA: overall score at end of semester by mean bedtime and mean wake-up time</a></div><div class=\"lev3 toc-item\"><a href=\"#Median-split\" data-toc-modified-id=\"Median-split-691\"><span class=\"toc-item-num\">6.9.1&nbsp;&nbsp;</span>Median split</a></div><div class=\"lev3 toc-item\"><a href=\"#Split-in-thirds\" data-toc-modified-id=\"Split-in-thirds-692\"><span class=\"toc-item-num\">6.9.2&nbsp;&nbsp;</span>Split in thirds</a></div><div class=\"lev1 toc-item\"><a href=\"#Scores-by-sleep-duration-and-quality\" data-toc-modified-id=\"Scores-by-sleep-duration-and-quality-7\"><span class=\"toc-item-num\">7&nbsp;&nbsp;</span>Scores by sleep duration and quality</a></div><div class=\"lev2 toc-item\"><a href=\"#T-test-of-assessment-scores-by-outer-thirds-of-sleep-duration-and-quality\" data-toc-modified-id=\"T-test-of-assessment-scores-by-outer-thirds-of-sleep-duration-and-quality-71\"><span class=\"toc-item-num\">7.1&nbsp;&nbsp;</span>T-test of assessment scores by outer thirds of sleep duration and quality</a></div><div class=\"lev2 toc-item\"><a href=\"#ANOVA:-sleep-(duration-&amp;-quality)-x-morning/night/no-preference\" data-toc-modified-id=\"ANOVA:-sleep-(duration-&amp;-quality)-x-morning/night/no-preference-72\"><span class=\"toc-item-num\">7.2&nbsp;&nbsp;</span>ANOVA: sleep (duration &amp; quality) x morning/night/no-preference</a></div><div class=\"lev2 toc-item\"><a href=\"#Sleep-duration/quality-x-sleep-time-or-wake-time\" data-toc-modified-id=\"Sleep-duration/quality-x-sleep-time-or-wake-time-73\"><span class=\"toc-item-num\">7.3&nbsp;&nbsp;</span>Sleep duration/quality x sleep time or wake time</a></div><div class=\"lev1 toc-item\"><a href=\"#Sleep-and-exercise\" data-toc-modified-id=\"Sleep-and-exercise-8\"><span class=\"toc-item-num\">8&nbsp;&nbsp;</span>Sleep and exercise</a></div><div class=\"lev2 toc-item\"><a href=\"#T-test-between-most-and-least-amount-of-moderately-to-very-intense-activity-of-...\" data-toc-modified-id=\"T-test-between-most-and-least-amount-of-moderately-to-very-intense-activity-of-...-81\"><span class=\"toc-item-num\">8.1&nbsp;&nbsp;</span>T-test between most and least amount of moderately to very intense activity of ...</a></div><div class=\"lev3 toc-item\"><a href=\"#Assessment-scores\" data-toc-modified-id=\"Assessment-scores-811\"><span class=\"toc-item-num\">8.1.1&nbsp;&nbsp;</span>Assessment scores</a></div><div class=\"lev3 toc-item\"><a href=\"#Sleep-quality\" data-toc-modified-id=\"Sleep-quality-812\"><span class=\"toc-item-num\">8.1.2&nbsp;&nbsp;</span>Sleep quality</a></div><div class=\"lev3 toc-item\"><a href=\"#Sleep-quality-excluding-varisty-and-club-athletes\" data-toc-modified-id=\"Sleep-quality-excluding-varisty-and-club-athletes-813\"><span class=\"toc-item-num\">8.1.3&nbsp;&nbsp;</span>Sleep quality excluding varisty and club athletes</a></div><div class=\"lev2 toc-item\"><a href=\"#Correlation-between-exercise-and-sleep-duration/quality\" data-toc-modified-id=\"Correlation-between-exercise-and-sleep-duration/quality-82\"><span class=\"toc-item-num\">8.2&nbsp;&nbsp;</span>Correlation between exercise and sleep duration/quality</a></div><div class=\"lev1 toc-item\"><a href=\"#Napping\" data-toc-modified-id=\"Napping-9\"><span class=\"toc-item-num\">9&nbsp;&nbsp;</span>Napping</a></div><div class=\"lev1 toc-item\"><a href=\"#Misc\" data-toc-modified-id=\"Misc-10\"><span class=\"toc-item-num\">10&nbsp;&nbsp;</span>Misc</a></div><div class=\"lev1 toc-item\"><a href=\"#Correlation-dataframes\" data-toc-modified-id=\"Correlation-dataframes-11\"><span class=\"toc-item-num\">11&nbsp;&nbsp;</span>Correlation dataframes</a></div>"
   ]
  },
  {
   "cell_type": "markdown",
   "metadata": {},
   "source": [
    "# Sleep analyses"
   ]
  },
  {
   "cell_type": "markdown",
   "metadata": {},
   "source": [
    "# Setup"
   ]
  },
  {
   "cell_type": "code",
   "execution_count": 1,
   "metadata": {
    "collapsed": false,
    "scrolled": false
   },
   "outputs": [
    {
     "name": "stderr",
     "output_type": "stream",
     "text": [
      "/Users/jakubkaczmarzyk/anaconda/envs/fitbit/lib/python3.6/site-packages/IPython/html.py:14: ShimWarning: The `IPython.html` package has been deprecated since IPython 4.0. You should import from `notebook` instead. `IPython.html.widgets` has moved to `ipywidgets`.\n",
      "  \"`IPython.html.widgets` has moved to `ipywidgets`.\", ShimWarning)\n"
     ]
    }
   ],
   "source": [
    "%load_ext rpy2.ipython\n",
    "%matplotlib inline\n",
    "\n",
    "from __future__ import division, print_function\n",
    "\n",
    "import matplotlib.pyplot as plt\n",
    "import pandas as pd\n",
    "import seaborn as sns\n",
    "from statsmodels.graphics.factorplots import interaction_plot\n",
    "\n",
    "import utils\n",
    "\n",
    "df_roster = utils.load_roster()\n",
    "df_sleep = utils.load_sleep_data()\n",
    "\n",
    "# At various points in the script, check that functions do not change the\n",
    "# original data.\n",
    "_df_roster_orig = df_roster.copy()\n",
    "_df_sleep_orig = df_sleep.copy()\n",
    "\n",
    "sns.set_context('notebook', font_scale=1.5)"
   ]
  },
  {
   "cell_type": "markdown",
   "metadata": {},
   "source": [
    "# General functions"
   ]
  },
  {
   "cell_type": "code",
   "execution_count": 2,
   "metadata": {
    "collapsed": true
   },
   "outputs": [],
   "source": [
    "def check_dfs():\n",
    "    \"\"\"Raise error if roster or sleep dataframe is different from original.\"\"\"\n",
    "    msg = \"Unexpected change in {}\"\n",
    "    assert df_roster.equals(_df_roster_orig), msg.format(\"roster data\")\n",
    "    assert df_sleep.equals(_df_sleep_orig), msg.format(\"sleep data\")\n",
    "\n",
    "\n",
    "def correlate_two_series(series_a, series_b):\n",
    "    \"\"\"Return tuple of (R-coefficient, p-value) of series_a with series_b. \n",
    "    The two series should have the same index.\n",
    "    \"\"\"\n",
    "    from scipy.stats import pearsonr\n",
    "\n",
    "    tmp = pd.concat((series_a, series_b), axis=1).dropna()\n",
    "    return pearsonr(tmp.iloc[:, 0], tmp.iloc[:, 1])\n",
    "\n",
    "\n",
    "def get_sleep_measure_stat(df, measure, stat='mean', start=None, stop=None):\n",
    "    \"\"\"Return statistic of sleep measure by subject from start to stop\n",
    "    (inclusive). Subject ID is the index. If start and stop are None, return \n",
    "    statistic by subject across all samples.\n",
    "\n",
    "    Example\n",
    "    -------\n",
    "    get_sleep_measure_stat(df_sleep, \"sleepDuration\", \"mean\", \n",
    "                           start=\"2016-11-01\", stop=\"2016-12-01\") \n",
    "    \"\"\"\n",
    "    tmp = df.loc[start:stop, :].groupby('subjectID')[measure] \n",
    "    if stat == 'mean':\n",
    "        return tmp.mean()\n",
    "    elif stat == 'median':\n",
    "        return tmp.median()\n",
    "    elif stat == 'min':\n",
    "        return tmp.min()\n",
    "    elif stat == 'max':\n",
    "        return tmp.max()\n",
    "\n",
    "\n",
    "def _flip_clock(datetimeobj):\n",
    "    \"\"\"Convert time so that midnight is 12 in 24H time. For example, 22:30 \n",
    "    becomes 10:30; 1:10 becomes 13:10. This is done so that times later in the \n",
    "    night are larger values. Used when calculating bedtime means.\n",
    "    \"\"\"\n",
    "    delta = pd.Timedelta(12, unit='h')\n",
    "    if datetimeobj.hour >= 12:\n",
    "        return datetimeobj - delta\n",
    "    else:\n",
    "        return datetimeobj + delta\n",
    "\n",
    "\n",
    "def get_time_stat(times, flip=False, stat='mean'):\n",
    "    \"\"\"Return mean time given a series of times. If flip is true, convert time \n",
    "    so that midnight is 12 in 24H time. For example, 22:30 becomes 10:30; 1:10 \n",
    "    becomes 13:10. This is done so that times later in the night are larger \n",
    "    values.\n",
    "    \"\"\"\n",
    "    if flip:\n",
    "        times = times.apply(_flip_clock)\n",
    "    sec = (times.dt.hour*3600 + times.dt.minute*60 + times.dt.second)\n",
    "    if stat == 'mean':\n",
    "        val = sec.mean()\n",
    "    elif stat == 'median':\n",
    "        val = sec.median()\n",
    "    elif stat == 'min':\n",
    "        val = sec.min()\n",
    "    elif stat == 'max':\n",
    "        val = sec.max()\n",
    "    return pd.to_timedelta(int(val), unit='s')"
   ]
  },
  {
   "cell_type": "markdown",
   "metadata": {},
   "source": [
    "# Descriptive plots"
   ]
  },
  {
   "cell_type": "code",
   "execution_count": 3,
   "metadata": {
    "collapsed": false,
    "scrolled": false
   },
   "outputs": [
    {
     "name": "stdout",
     "output_type": "stream",
     "text": [
      "Mean: 428.443020552\n"
     ]
    },
    {
     "data": {
      "image/png": "[encoded data removed]",
      "text/plain": [
       "<matplotlib.figure.Figure at 0x10e530940>"
      ]
     },
     "metadata": {},
     "output_type": "display_data"
    },
    {
     "name": "stdout",
     "output_type": "stream",
     "text": [
      "Mean: 80.0059314637\n"
     ]
    },
    {
     "data": {
      "image/png": "[encoded data removed]",
      "text/plain": [
       "<matplotlib.figure.Figure at 0x11d26dc50>"
      ]
     },
     "metadata": {},
     "output_type": "display_data"
    },
    {
     "name": "stdout",
     "output_type": "stream",
     "text": [
      "Mean: 13.8883268734\n"
     ]
    },
    {
     "data": {
      "image/png": "[encoded data removed]",
      "text/plain": [
       "<matplotlib.figure.Figure at 0x11c784be0>"
      ]
     },
     "metadata": {},
     "output_type": "display_data"
    },
    {
     "name": "stdout",
     "output_type": "stream",
     "text": [
      "Mean: 9.28230297158\n"
     ]
    },
    {
     "data": {
      "image/png": "[encoded data removed]",
      "text/plain": [
       "<matplotlib.figure.Figure at 0x11cdc3748>"
      ]
     },
     "metadata": {},
     "output_type": "display_data"
    },
    {
     "name": "stdout",
     "output_type": "stream",
     "text": [
      "Max possible score: 380 (8 quizzes + 3 midterms)\n",
      "Mean: 282.252873563\n"
     ]
    },
    {
     "data": {
      "image/png": "[encoded data removed]",
      "text/plain": [
       "<matplotlib.figure.Figure at 0x11f5b8cf8>"
      ]
     },
     "metadata": {},
     "output_type": "display_data"
    }
   ],
   "source": [
    "def plot_distribution(df_sleep, measure, start=None, stop=None, **kwargs):\n",
    "    mean = get_sleep_measure_stat(df_sleep, measure, stat='mean', start=start, \n",
    "                                  stop=stop)\n",
    "    print(\"Mean:\", mean.mean())\n",
    "    sns.distplot(mean, **kwargs)\n",
    "    plt.axvline(x=mean.mean())\n",
    "    plt.show()\n",
    "\n",
    "\n",
    "def plot_distribution_bedtime_waketime(df_sleep, **kwargs):\n",
    "    bedtimes = df_sleep.groupby('subjectID')['startDateTime'] \\\n",
    "               .apply(get_time_stat, flip=True)\n",
    "    bedtimes = bedtimes.dt.total_seconds() / (60**2)\n",
    "    print(\"Mean:\", bedtimes.mean())\n",
    "    sns.distplot(bedtimes, axlabel=\"bed time (flipped 24h)\", **kwargs)\n",
    "    plt.annotate(\"Times are flipped\\n(e.g., 14 is 2am)\", xy=(11.5, 16.5))\n",
    "    plt.axvline(bedtimes.mean())\n",
    "    plt.show()\n",
    "\n",
    "    waketimes = df_sleep.groupby('subjectID')['endDateTime'] \\\n",
    "                .apply(get_time_stat)\n",
    "    waketimes = waketimes.dt.total_seconds() / (60**2)\n",
    "    print(\"Mean:\", waketimes.mean())\n",
    "    sns.distplot(waketimes, axlabel=\"wake time (24h)\", **kwargs)\n",
    "    plt.axvline(waketimes.mean())\n",
    "    plt.show()\n",
    "\n",
    "\n",
    "def plot_distribution_scores(df_roster, **kwargs):\n",
    "    print(\"Max possible score: 380 (8 quizzes + 3 midterms)\")\n",
    "    print(\"Mean:\", df_roster['overall_score'].mean())\n",
    "    sns.distplot(df_roster['overall_score'], **kwargs)\n",
    "    plt.axvline(df_roster['overall_score'].mean())\n",
    "    plt.show()\n",
    "\n",
    "\n",
    "plot_distribution(df_sleep, 'sleepDuration', kde=False,\n",
    "                   axlabel=\"sleep duration (minutes)\")\n",
    "plot_distribution(df_sleep, 'sleepQualityScoreA', kde=False)\n",
    "\n",
    "plot_distribution_bedtime_waketime(df_sleep, kde=False)\n",
    "\n",
    "plot_distribution_scores(df_roster, axlabel=\"sum of scores\", kde=False)"
   ]
  },
  {
   "cell_type": "markdown",
   "metadata": {},
   "source": [
    "# Correlations"
   ]
  },
  {
   "cell_type": "markdown",
   "metadata": {
    "collapsed": true
   },
   "source": [
    "## Correlate mean overall sleep duration and quality with total score across all assessments"
   ]
  },
  {
   "cell_type": "code",
   "execution_count": 4,
   "metadata": {
    "collapsed": false
   },
   "outputs": [
    {
     "data": {
      "image/png": "[encoded data removed]",
      "text/plain": [
       "<matplotlib.figure.Figure at 0x11d333048>"
      ]
     },
     "metadata": {},
     "output_type": "display_data"
    },
    {
     "name": "stdout",
     "output_type": "stream",
     "text": [
      "R = 0.38004; p = 0.00031\n",
      "\n"
     ]
    },
    {
     "data": {
      "image/png": "[encoded data removed]",
      "text/plain": [
       "<matplotlib.figure.Figure at 0x11d1d1c88>"
      ]
     },
     "metadata": {},
     "output_type": "display_data"
    },
    {
     "name": "stdout",
     "output_type": "stream",
     "text": [
      "R = 0.43856; p = 0.00002\n"
     ]
    }
   ],
   "source": [
    "def _correlate_plot(df_sleep, df_roster):\n",
    "    \"\"\"Correlate mean overall sleep duration and quality with total score\n",
    "    across all assessments.\n",
    "    \"\"\"\n",
    "    mean_dur = get_sleep_measure_stat(df_sleep, 'sleepDuration')\n",
    "    mean_qual = get_sleep_measure_stat(df_sleep, 'sleepQualityScoreA')\n",
    "\n",
    "    corr_dur = correlate_two_series(mean_dur, df_roster.loc[:, 'overall_score'])\n",
    "    corr_qual = correlate_two_series(mean_qual, df_roster.loc[:, 'overall_score'])\n",
    "\n",
    "    data = pd.concat((mean_dur, mean_qual, df_roster.loc[:, 'overall_score']),\n",
    "                     axis=1).dropna()\n",
    "    data.columns = ['mean overall sleep duration', 'mean overall sleep quality',\n",
    "                    'total scores']\n",
    "\n",
    "    sns.lmplot('mean overall sleep duration', 'total scores', data)\n",
    "    plt.annotate(\"R = {:.2f}\".format(corr_dur[0]), xy=(465, 150))\n",
    "    plt.annotate(\"p = {:.3f}\".format(corr_dur[1]), xy=(465, 130))\n",
    "    plt.show()\n",
    "    print(\"R = {:.5f}; p = {:.5f}\\n\".format(*corr_dur))\n",
    "\n",
    "    sns.lmplot('mean overall sleep quality', 'total scores', data)\n",
    "    plt.annotate(\"R = {:.2f}\".format(corr_qual[0]), xy=(83, 150))\n",
    "    plt.annotate(\"p = {:.3f}\".format(corr_qual[1]), xy=(83, 130))\n",
    "    plt.show()\n",
    "    print(\"R = {:.5f}; p = {:.5f}\".format(*corr_qual))\n",
    "\n",
    "\n",
    "_correlate_plot(df_sleep, df_roster)"
   ]
  },
  {
   "cell_type": "markdown",
   "metadata": {},
   "source": [
    "## Correlate mean overall bedtime and waketime with overall assessment score"
   ]
  },
  {
   "cell_type": "code",
   "execution_count": 5,
   "metadata": {
    "collapsed": false
   },
   "outputs": [
    {
     "data": {
      "image/png": "[encoded data removed]",
      "text/plain": [
       "<matplotlib.figure.Figure at 0x11f5b1588>"
      ]
     },
     "metadata": {},
     "output_type": "display_data"
    },
    {
     "name": "stdout",
     "output_type": "stream",
     "text": [
      "R = -0.44142; p = 0.00002\n"
     ]
    },
    {
     "data": {
      "image/png": "[encoded data removed]",
      "text/plain": [
       "<matplotlib.figure.Figure at 0x11d274320>"
      ]
     },
     "metadata": {},
     "output_type": "display_data"
    },
    {
     "name": "stdout",
     "output_type": "stream",
     "text": [
      "R = -0.35017; p = 0.00095\n"
     ]
    }
   ],
   "source": [
    "def _correlate_plot(df_sleep, df_roster):\n",
    "    tmp = df_roster.copy()\n",
    "    group = df_sleep.groupby('subjectID')\n",
    "    tmp.loc[:, 'mean_bedtime'] = \\\n",
    "        group['startDateTime'].apply(get_time_stat, flip=True).dt.total_seconds() / 3600\n",
    "    tmp.loc[:, 'mean_waketime'] = \\\n",
    "        group['endDateTime'].apply(get_time_stat, flip=False).dt.total_seconds() / 3600\n",
    "\n",
    "    corr_bed = correlate_two_series(tmp.loc[:, 'mean_bedtime'],\n",
    "                                    tmp.loc[:, 'overall_score'])\n",
    "\n",
    "    corr_wake = correlate_two_series(tmp.loc[:, 'mean_waketime'],\n",
    "                                     tmp.loc[:, 'overall_score'])\n",
    "\n",
    "    sns.lmplot('mean_bedtime', 'overall_score', tmp)\n",
    "    plt.annotate(\"R = {:.2f}\".format(corr_bed[0]), xy=(12, 150))\n",
    "    plt.annotate(\"p = {:.3f}\".format(corr_bed[1]), xy=(12, 130))\n",
    "    plt.show()\n",
    "    print(\"R = {:.5f}; p = {:.5f}\".format(*corr_bed))\n",
    "\n",
    "    sns.lmplot('mean_waketime', 'overall_score', tmp)\n",
    "    plt.annotate(\"R = {:.2f}\".format(corr_wake[0]), xy=(7, 150))\n",
    "    plt.annotate(\"p = {:.3f}\".format(corr_wake[1]), xy=(7, 130))\n",
    "    plt.show()\n",
    "    print(\"R = {:.5f}; p = {:.5f}\".format(*corr_wake))\n",
    "    \n",
    "_correlate_plot(df_sleep, df_roster)"
   ]
  },
  {
   "cell_type": "markdown",
   "metadata": {},
   "source": [
    "## Correlate mean sleep duration/quality with assessment score"
   ]
  },
  {
   "cell_type": "code",
   "execution_count": 6,
   "metadata": {
    "collapsed": false
   },
   "outputs": [
    {
     "name": "stdout",
     "output_type": "stream",
     "text": [
      "Correlation between mean sleep duration and quality with asssessment score\n"
     ]
    },
    {
     "data": {
      "text/html": [
       "<div>\n",
       "<table border=\"1\" class=\"dataframe\">\n",
       "  <thead>\n",
       "    <tr style=\"text-align: right;\">\n",
       "      <th></th>\n",
       "      <th>R-coeff duration</th>\n",
       "      <th>p-val duration</th>\n",
       "      <th>R-coeff quality</th>\n",
       "      <th>p-val quality</th>\n",
       "    </tr>\n",
       "    <tr>\n",
       "      <th>assessment</th>\n",
       "      <th></th>\n",
       "      <th></th>\n",
       "      <th></th>\n",
       "      <th></th>\n",
       "    </tr>\n",
       "  </thead>\n",
       "  <tbody>\n",
       "    <tr>\n",
       "      <th>Quiz_1</th>\n",
       "      <td>0.196344</td>\n",
       "      <td>0.073449</td>\n",
       "      <td>0.097393</td>\n",
       "      <td>0.378130</td>\n",
       "    </tr>\n",
       "    <tr>\n",
       "      <th>Quiz_2</th>\n",
       "      <td>0.187379</td>\n",
       "      <td>0.085939</td>\n",
       "      <td>0.225248</td>\n",
       "      <td>0.038205</td>\n",
       "    </tr>\n",
       "    <tr>\n",
       "      <th>Quiz_3</th>\n",
       "      <td>0.363479</td>\n",
       "      <td>0.000628</td>\n",
       "      <td>0.201360</td>\n",
       "      <td>0.064612</td>\n",
       "    </tr>\n",
       "    <tr>\n",
       "      <th>Midterm_1</th>\n",
       "      <td>0.262326</td>\n",
       "      <td>0.014687</td>\n",
       "      <td>0.310503</td>\n",
       "      <td>0.003619</td>\n",
       "    </tr>\n",
       "    <tr>\n",
       "      <th>Quiz_4</th>\n",
       "      <td>0.311971</td>\n",
       "      <td>0.004328</td>\n",
       "      <td>0.348321</td>\n",
       "      <td>0.001342</td>\n",
       "    </tr>\n",
       "    <tr>\n",
       "      <th>Quiz_5</th>\n",
       "      <td>0.308076</td>\n",
       "      <td>0.004606</td>\n",
       "      <td>0.207434</td>\n",
       "      <td>0.059880</td>\n",
       "    </tr>\n",
       "    <tr>\n",
       "      <th>Quiz_6</th>\n",
       "      <td>0.169159</td>\n",
       "      <td>0.131127</td>\n",
       "      <td>0.184515</td>\n",
       "      <td>0.099144</td>\n",
       "    </tr>\n",
       "    <tr>\n",
       "      <th>Midterm_2</th>\n",
       "      <td>0.367821</td>\n",
       "      <td>0.000577</td>\n",
       "      <td>0.376027</td>\n",
       "      <td>0.000423</td>\n",
       "    </tr>\n",
       "    <tr>\n",
       "      <th>Quiz_7</th>\n",
       "      <td>0.101852</td>\n",
       "      <td>0.365584</td>\n",
       "      <td>0.136834</td>\n",
       "      <td>0.223183</td>\n",
       "    </tr>\n",
       "    <tr>\n",
       "      <th>Quiz_8</th>\n",
       "      <td>0.070905</td>\n",
       "      <td>0.534631</td>\n",
       "      <td>0.104972</td>\n",
       "      <td>0.357213</td>\n",
       "    </tr>\n",
       "    <tr>\n",
       "      <th>Midterm_3</th>\n",
       "      <td>0.316000</td>\n",
       "      <td>0.003612</td>\n",
       "      <td>0.287342</td>\n",
       "      <td>0.008441</td>\n",
       "    </tr>\n",
       "  </tbody>\n",
       "</table>\n",
       "</div>"
      ],
      "text/plain": [
       "            R-coeff duration  p-val duration  R-coeff quality  p-val quality\n",
       "assessment                                                                  \n",
       "Quiz_1              0.196344        0.073449         0.097393       0.378130\n",
       "Quiz_2              0.187379        0.085939         0.225248       0.038205\n",
       "Quiz_3              0.363479        0.000628         0.201360       0.064612\n",
       "Midterm_1           0.262326        0.014687         0.310503       0.003619\n",
       "Quiz_4              0.311971        0.004328         0.348321       0.001342\n",
       "Quiz_5              0.308076        0.004606         0.207434       0.059880\n",
       "Quiz_6              0.169159        0.131127         0.184515       0.099144\n",
       "Midterm_2           0.367821        0.000577         0.376027       0.000423\n",
       "Quiz_7              0.101852        0.365584         0.136834       0.223183\n",
       "Quiz_8              0.070905        0.534631         0.104972       0.357213\n",
       "Midterm_3           0.316000        0.003612         0.287342       0.008441"
      ]
     },
     "execution_count": 6,
     "metadata": {},
     "output_type": "execute_result"
    }
   ],
   "source": [
    "def _correlate(df_sleep, df_roster):\n",
    "    \"\"\"Correlate mean sleep duration & quality with assessment score for all\n",
    "    assessments.\n",
    "    \"\"\"\n",
    "    results = []\n",
    "    for assessment, _ in utils.assessment_dates:\n",
    "        mean_dur = get_sleep_measure_stat(df_sleep, 'sleepDuration')\n",
    "        corr_dur = correlate_two_series(df_roster[assessment], mean_dur)\n",
    "        mean_qual = get_sleep_measure_stat(df_sleep, 'sleepQualityScoreA')\n",
    "        corr_qual = correlate_two_series(df_roster[assessment], mean_qual)\n",
    "        results.append((assessment, *corr_dur, *corr_qual))\n",
    "\n",
    "    columns = ['assessment', 'R-coeff duration', 'p-val duration',\n",
    "               'R-coeff quality', 'p-val quality']\n",
    "    return pd.DataFrame(results, columns=columns).set_index('assessment')\n",
    "\n",
    "\n",
    "print(\"Correlation between mean sleep duration and quality with \"\n",
    "      \"asssessment score\")\n",
    "check_dfs()\n",
    "_correlate(df_sleep, df_roster)"
   ]
  },
  {
   "cell_type": "markdown",
   "metadata": {},
   "source": [
    "## Correlate sleep night before with assessment score"
   ]
  },
  {
   "cell_type": "code",
   "execution_count": 7,
   "metadata": {
    "collapsed": false,
    "scrolled": false
   },
   "outputs": [
    {
     "name": "stdout",
     "output_type": "stream",
     "text": [
      "Correlation between sleep duration and quality night before assessment with asssessment score\n"
     ]
    },
    {
     "data": {
      "text/html": [
       "<div>\n",
       "<table border=\"1\" class=\"dataframe\">\n",
       "  <thead>\n",
       "    <tr style=\"text-align: right;\">\n",
       "      <th></th>\n",
       "      <th>date</th>\n",
       "      <th>R-coeff duration</th>\n",
       "      <th>p-val duration</th>\n",
       "      <th>R-coeff quality</th>\n",
       "      <th>p-val quality</th>\n",
       "    </tr>\n",
       "    <tr>\n",
       "      <th>assessment</th>\n",
       "      <th></th>\n",
       "      <th></th>\n",
       "      <th></th>\n",
       "      <th></th>\n",
       "      <th></th>\n",
       "    </tr>\n",
       "  </thead>\n",
       "  <tbody>\n",
       "    <tr>\n",
       "      <th>Quiz_1</th>\n",
       "      <td>2016-09-15</td>\n",
       "      <td>0.096956</td>\n",
       "      <td>0.428051</td>\n",
       "      <td>0.107892</td>\n",
       "      <td>0.377546</td>\n",
       "    </tr>\n",
       "    <tr>\n",
       "      <th>Quiz_2</th>\n",
       "      <td>2016-09-22</td>\n",
       "      <td>0.063369</td>\n",
       "      <td>0.596927</td>\n",
       "      <td>0.031442</td>\n",
       "      <td>0.793175</td>\n",
       "    </tr>\n",
       "    <tr>\n",
       "      <th>Quiz_3</th>\n",
       "      <td>2016-09-29</td>\n",
       "      <td>0.244295</td>\n",
       "      <td>0.031123</td>\n",
       "      <td>0.183664</td>\n",
       "      <td>0.107483</td>\n",
       "    </tr>\n",
       "    <tr>\n",
       "      <th>Midterm_1</th>\n",
       "      <td>2016-10-05</td>\n",
       "      <td>0.111894</td>\n",
       "      <td>0.316905</td>\n",
       "      <td>0.071345</td>\n",
       "      <td>0.524156</td>\n",
       "    </tr>\n",
       "    <tr>\n",
       "      <th>Quiz_4</th>\n",
       "      <td>2016-10-13</td>\n",
       "      <td>0.177296</td>\n",
       "      <td>0.130740</td>\n",
       "      <td>0.205864</td>\n",
       "      <td>0.078465</td>\n",
       "    </tr>\n",
       "    <tr>\n",
       "      <th>Quiz_5</th>\n",
       "      <td>2016-10-20</td>\n",
       "      <td>0.102156</td>\n",
       "      <td>0.367219</td>\n",
       "      <td>0.023780</td>\n",
       "      <td>0.834152</td>\n",
       "    </tr>\n",
       "    <tr>\n",
       "      <th>Quiz_6</th>\n",
       "      <td>2016-10-27</td>\n",
       "      <td>0.170947</td>\n",
       "      <td>0.134542</td>\n",
       "      <td>0.150255</td>\n",
       "      <td>0.189163</td>\n",
       "    </tr>\n",
       "    <tr>\n",
       "      <th>Midterm_2</th>\n",
       "      <td>2016-11-02</td>\n",
       "      <td>0.069187</td>\n",
       "      <td>0.536813</td>\n",
       "      <td>0.035612</td>\n",
       "      <td>0.750767</td>\n",
       "    </tr>\n",
       "    <tr>\n",
       "      <th>Quiz_7</th>\n",
       "      <td>2016-11-10</td>\n",
       "      <td>0.101745</td>\n",
       "      <td>0.375413</td>\n",
       "      <td>0.068102</td>\n",
       "      <td>0.553556</td>\n",
       "    </tr>\n",
       "    <tr>\n",
       "      <th>Quiz_8</th>\n",
       "      <td>2016-11-17</td>\n",
       "      <td>0.121081</td>\n",
       "      <td>0.297455</td>\n",
       "      <td>0.090501</td>\n",
       "      <td>0.436869</td>\n",
       "    </tr>\n",
       "    <tr>\n",
       "      <th>Midterm_3</th>\n",
       "      <td>2016-11-30</td>\n",
       "      <td>0.172644</td>\n",
       "      <td>0.123257</td>\n",
       "      <td>0.123066</td>\n",
       "      <td>0.273715</td>\n",
       "    </tr>\n",
       "  </tbody>\n",
       "</table>\n",
       "</div>"
      ],
      "text/plain": [
       "                  date  R-coeff duration  p-val duration  R-coeff quality  \\\n",
       "assessment                                                                  \n",
       "Quiz_1      2016-09-15          0.096956        0.428051         0.107892   \n",
       "Quiz_2      2016-09-22          0.063369        0.596927         0.031442   \n",
       "Quiz_3      2016-09-29          0.244295        0.031123         0.183664   \n",
       "Midterm_1   2016-10-05          0.111894        0.316905         0.071345   \n",
       "Quiz_4      2016-10-13          0.177296        0.130740         0.205864   \n",
       "Quiz_5      2016-10-20          0.102156        0.367219         0.023780   \n",
       "Quiz_6      2016-10-27          0.170947        0.134542         0.150255   \n",
       "Midterm_2   2016-11-02          0.069187        0.536813         0.035612   \n",
       "Quiz_7      2016-11-10          0.101745        0.375413         0.068102   \n",
       "Quiz_8      2016-11-17          0.121081        0.297455         0.090501   \n",
       "Midterm_3   2016-11-30          0.172644        0.123257         0.123066   \n",
       "\n",
       "            p-val quality  \n",
       "assessment                 \n",
       "Quiz_1           0.377546  \n",
       "Quiz_2           0.793175  \n",
       "Quiz_3           0.107483  \n",
       "Midterm_1        0.524156  \n",
       "Quiz_4           0.078465  \n",
       "Quiz_5           0.834152  \n",
       "Quiz_6           0.189163  \n",
       "Midterm_2        0.750767  \n",
       "Quiz_7           0.553556  \n",
       "Quiz_8           0.436869  \n",
       "Midterm_3        0.273715  "
      ]
     },
     "execution_count": 7,
     "metadata": {},
     "output_type": "execute_result"
    }
   ],
   "source": [
    "def _correlate(df_sleep, df_roster):\n",
    "    \"\"\"Correlate sleep duration & quality night before assessment with\n",
    "    assessment score for all assessments.\n",
    "    \"\"\"\n",
    "    results = []\n",
    "    for assessment, date in utils.assessment_dates:\n",
    "        this_date = df_sleep.loc[date, :].copy()\n",
    "        this_date.set_index('subjectID', inplace=True)\n",
    "\n",
    "        corr_dur = correlate_two_series(df_roster[assessment], \n",
    "                                        this_date['sleepDuration'])\n",
    "        corr_qual = correlate_two_series(df_roster[assessment],\n",
    "                                         this_date['sleepQualityScoreA'])\n",
    "        results.append((assessment, date, *corr_dur, *corr_qual))\n",
    "\n",
    "    columns = ['assessment', 'date', 'R-coeff duration', 'p-val duration',\n",
    "               'R-coeff quality', 'p-val quality']\n",
    "    return pd.DataFrame(results, columns=columns).set_index('assessment')\n",
    "\n",
    "print(\"Correlation between sleep duration and quality night before \"\n",
    "      \"assessment with asssessment score\")\n",
    "check_dfs()\n",
    "_correlate(df_sleep, df_roster)"
   ]
  },
  {
   "cell_type": "markdown",
   "metadata": {},
   "source": [
    "## Correlate sleep week before with assessment score"
   ]
  },
  {
   "cell_type": "code",
   "execution_count": 8,
   "metadata": {
    "collapsed": false,
    "scrolled": false
   },
   "outputs": [
    {
     "name": "stdout",
     "output_type": "stream",
     "text": [
      "Correlation between mean sleep duration and quality week before assessment with asssessment score\n"
     ]
    },
    {
     "data": {
      "text/html": [
       "<div>\n",
       "<table border=\"1\" class=\"dataframe\">\n",
       "  <thead>\n",
       "    <tr style=\"text-align: right;\">\n",
       "      <th></th>\n",
       "      <th>start</th>\n",
       "      <th>end</th>\n",
       "      <th>R-coeff duration</th>\n",
       "      <th>p-val duration</th>\n",
       "      <th>R-coeff quality</th>\n",
       "      <th>p-val quality</th>\n",
       "    </tr>\n",
       "    <tr>\n",
       "      <th>assessment</th>\n",
       "      <th></th>\n",
       "      <th></th>\n",
       "      <th></th>\n",
       "      <th></th>\n",
       "      <th></th>\n",
       "      <th></th>\n",
       "    </tr>\n",
       "  </thead>\n",
       "  <tbody>\n",
       "    <tr>\n",
       "      <th>Quiz_1</th>\n",
       "      <td>2016-09-08</td>\n",
       "      <td>2016-09-15</td>\n",
       "      <td>0.210170</td>\n",
       "      <td>0.080758</td>\n",
       "      <td>0.182757</td>\n",
       "      <td>0.129948</td>\n",
       "    </tr>\n",
       "    <tr>\n",
       "      <th>Quiz_2</th>\n",
       "      <td>2016-09-15</td>\n",
       "      <td>2016-09-22</td>\n",
       "      <td>0.153423</td>\n",
       "      <td>0.177039</td>\n",
       "      <td>0.191622</td>\n",
       "      <td>0.090696</td>\n",
       "    </tr>\n",
       "    <tr>\n",
       "      <th>Quiz_3</th>\n",
       "      <td>2016-09-22</td>\n",
       "      <td>2016-09-29</td>\n",
       "      <td>0.324374</td>\n",
       "      <td>0.002948</td>\n",
       "      <td>0.270472</td>\n",
       "      <td>0.013986</td>\n",
       "    </tr>\n",
       "    <tr>\n",
       "      <th>Midterm_1</th>\n",
       "      <td>2016-09-28</td>\n",
       "      <td>2016-10-05</td>\n",
       "      <td>0.190708</td>\n",
       "      <td>0.084172</td>\n",
       "      <td>0.219810</td>\n",
       "      <td>0.045859</td>\n",
       "    </tr>\n",
       "    <tr>\n",
       "      <th>Quiz_4</th>\n",
       "      <td>2016-10-06</td>\n",
       "      <td>2016-10-13</td>\n",
       "      <td>0.388277</td>\n",
       "      <td>0.000406</td>\n",
       "      <td>0.397765</td>\n",
       "      <td>0.000283</td>\n",
       "    </tr>\n",
       "    <tr>\n",
       "      <th>Quiz_5</th>\n",
       "      <td>2016-10-13</td>\n",
       "      <td>2016-10-20</td>\n",
       "      <td>0.296777</td>\n",
       "      <td>0.007513</td>\n",
       "      <td>0.219971</td>\n",
       "      <td>0.049926</td>\n",
       "    </tr>\n",
       "    <tr>\n",
       "      <th>Quiz_6</th>\n",
       "      <td>2016-10-20</td>\n",
       "      <td>2016-10-27</td>\n",
       "      <td>0.253903</td>\n",
       "      <td>0.024890</td>\n",
       "      <td>0.240940</td>\n",
       "      <td>0.033588</td>\n",
       "    </tr>\n",
       "    <tr>\n",
       "      <th>Midterm_2</th>\n",
       "      <td>2016-10-26</td>\n",
       "      <td>2016-11-02</td>\n",
       "      <td>0.174978</td>\n",
       "      <td>0.111390</td>\n",
       "      <td>0.208005</td>\n",
       "      <td>0.057610</td>\n",
       "    </tr>\n",
       "    <tr>\n",
       "      <th>Quiz_7</th>\n",
       "      <td>2016-11-03</td>\n",
       "      <td>2016-11-10</td>\n",
       "      <td>0.183574</td>\n",
       "      <td>0.100909</td>\n",
       "      <td>0.116211</td>\n",
       "      <td>0.301533</td>\n",
       "    </tr>\n",
       "    <tr>\n",
       "      <th>Quiz_8</th>\n",
       "      <td>2016-11-10</td>\n",
       "      <td>2016-11-17</td>\n",
       "      <td>0.050264</td>\n",
       "      <td>0.659998</td>\n",
       "      <td>0.033158</td>\n",
       "      <td>0.771745</td>\n",
       "    </tr>\n",
       "    <tr>\n",
       "      <th>Midterm_3</th>\n",
       "      <td>2016-11-23</td>\n",
       "      <td>2016-11-30</td>\n",
       "      <td>0.214832</td>\n",
       "      <td>0.051133</td>\n",
       "      <td>0.193732</td>\n",
       "      <td>0.079279</td>\n",
       "    </tr>\n",
       "  </tbody>\n",
       "</table>\n",
       "</div>"
      ],
      "text/plain": [
       "                 start         end  R-coeff duration  p-val duration  \\\n",
       "assessment                                                             \n",
       "Quiz_1      2016-09-08  2016-09-15          0.210170        0.080758   \n",
       "Quiz_2      2016-09-15  2016-09-22          0.153423        0.177039   \n",
       "Quiz_3      2016-09-22  2016-09-29          0.324374        0.002948   \n",
       "Midterm_1   2016-09-28  2016-10-05          0.190708        0.084172   \n",
       "Quiz_4      2016-10-06  2016-10-13          0.388277        0.000406   \n",
       "Quiz_5      2016-10-13  2016-10-20          0.296777        0.007513   \n",
       "Quiz_6      2016-10-20  2016-10-27          0.253903        0.024890   \n",
       "Midterm_2   2016-10-26  2016-11-02          0.174978        0.111390   \n",
       "Quiz_7      2016-11-03  2016-11-10          0.183574        0.100909   \n",
       "Quiz_8      2016-11-10  2016-11-17          0.050264        0.659998   \n",
       "Midterm_3   2016-11-23  2016-11-30          0.214832        0.051133   \n",
       "\n",
       "            R-coeff quality  p-val quality  \n",
       "assessment                                  \n",
       "Quiz_1             0.182757       0.129948  \n",
       "Quiz_2             0.191622       0.090696  \n",
       "Quiz_3             0.270472       0.013986  \n",
       "Midterm_1          0.219810       0.045859  \n",
       "Quiz_4             0.397765       0.000283  \n",
       "Quiz_5             0.219971       0.049926  \n",
       "Quiz_6             0.240940       0.033588  \n",
       "Midterm_2          0.208005       0.057610  \n",
       "Quiz_7             0.116211       0.301533  \n",
       "Quiz_8             0.033158       0.771745  \n",
       "Midterm_3          0.193732       0.079279  "
      ]
     },
     "execution_count": 8,
     "metadata": {},
     "output_type": "execute_result"
    }
   ],
   "source": [
    "def _correlate(df_sleep, df_roster):\n",
    "    \"\"\"Correlate mean sleep duration & quality week before assessment with\n",
    "    assessment score for all assessments.\n",
    "    \"\"\"\n",
    "    results = []\n",
    "    for assessment, date in utils.assessment_dates:\n",
    "        start = pd.to_datetime(date) - pd.Timedelta(7, unit='D')\n",
    "        start = start.strftime(\"%Y-%m-%d\")\n",
    "\n",
    "        mean_dur = get_sleep_measure_stat(df_sleep, 'sleepDuration', 'mean',\n",
    "                                          start, date)\n",
    "        corr_dur = correlate_two_series(df_roster[assessment], mean_dur)\n",
    "        mean_qual = get_sleep_measure_stat(df_sleep, 'sleepQualityScoreA', \n",
    "                                           'mean', start, date)\n",
    "        corr_qual = correlate_two_series(df_roster[assessment], mean_qual)\n",
    "        results.append((assessment, start, date, *corr_dur, *corr_qual))\n",
    "\n",
    "    columns = ['assessment', 'start', 'end', 'R-coeff duration',\n",
    "               'p-val duration', 'R-coeff quality', 'p-val quality']\n",
    "    return pd.DataFrame(results, columns=columns).set_index('assessment')\n",
    "\n",
    "\n",
    "print(\"Correlation between mean sleep duration and quality week before \"\n",
    "      \"assessment with asssessment score\")\n",
    "check_dfs()\n",
    "_correlate(df_sleep, df_roster)"
   ]
  },
  {
   "cell_type": "markdown",
   "metadata": {},
   "source": [
    "## Correlation: assessment scores and sleep duration/quality during relevant content for assessment"
   ]
  },
  {
   "cell_type": "code",
   "execution_count": 9,
   "metadata": {
    "collapsed": false
   },
   "outputs": [
    {
     "name": "stdout",
     "output_type": "stream",
     "text": [
      "Correlation between score and sleep duration/quality during relevant content for assessment.\n"
     ]
    },
    {
     "data": {
      "text/html": [
       "<div>\n",
       "<table border=\"1\" class=\"dataframe\">\n",
       "  <thead>\n",
       "    <tr style=\"text-align: right;\">\n",
       "      <th></th>\n",
       "      <th>start</th>\n",
       "      <th>end</th>\n",
       "      <th>R-coeff duration</th>\n",
       "      <th>p-val duration</th>\n",
       "      <th>R-coeff quality</th>\n",
       "      <th>p-val quality</th>\n",
       "    </tr>\n",
       "    <tr>\n",
       "      <th>assessment</th>\n",
       "      <th></th>\n",
       "      <th></th>\n",
       "      <th></th>\n",
       "      <th></th>\n",
       "      <th></th>\n",
       "      <th></th>\n",
       "    </tr>\n",
       "  </thead>\n",
       "  <tbody>\n",
       "    <tr>\n",
       "      <th>Quiz_1</th>\n",
       "      <td>2016-09-07</td>\n",
       "      <td>2016-09-15</td>\n",
       "      <td>0.210170</td>\n",
       "      <td>0.080758</td>\n",
       "      <td>0.182757</td>\n",
       "      <td>0.129948</td>\n",
       "    </tr>\n",
       "    <tr>\n",
       "      <th>Quiz_2</th>\n",
       "      <td>2016-09-16</td>\n",
       "      <td>2016-09-22</td>\n",
       "      <td>0.126860</td>\n",
       "      <td>0.265238</td>\n",
       "      <td>0.153788</td>\n",
       "      <td>0.175999</td>\n",
       "    </tr>\n",
       "    <tr>\n",
       "      <th>Quiz_3</th>\n",
       "      <td>2016-09-23</td>\n",
       "      <td>2016-09-29</td>\n",
       "      <td>0.297677</td>\n",
       "      <td>0.006606</td>\n",
       "      <td>0.265295</td>\n",
       "      <td>0.016005</td>\n",
       "    </tr>\n",
       "    <tr>\n",
       "      <th>Midterm_1</th>\n",
       "      <td>2016-09-07</td>\n",
       "      <td>2016-10-05</td>\n",
       "      <td>0.254998</td>\n",
       "      <td>0.019991</td>\n",
       "      <td>0.295571</td>\n",
       "      <td>0.006671</td>\n",
       "    </tr>\n",
       "    <tr>\n",
       "      <th>Quiz_4</th>\n",
       "      <td>2016-10-06</td>\n",
       "      <td>2016-10-13</td>\n",
       "      <td>0.388277</td>\n",
       "      <td>0.000406</td>\n",
       "      <td>0.397765</td>\n",
       "      <td>0.000283</td>\n",
       "    </tr>\n",
       "    <tr>\n",
       "      <th>Quiz_5</th>\n",
       "      <td>2016-10-14</td>\n",
       "      <td>2016-10-21</td>\n",
       "      <td>0.245847</td>\n",
       "      <td>0.027937</td>\n",
       "      <td>0.198057</td>\n",
       "      <td>0.078223</td>\n",
       "    </tr>\n",
       "    <tr>\n",
       "      <th>Quiz_6</th>\n",
       "      <td>2016-10-22</td>\n",
       "      <td>2016-10-28</td>\n",
       "      <td>0.268162</td>\n",
       "      <td>0.017608</td>\n",
       "      <td>0.270771</td>\n",
       "      <td>0.016496</td>\n",
       "    </tr>\n",
       "    <tr>\n",
       "      <th>Midterm_2</th>\n",
       "      <td>2016-10-06</td>\n",
       "      <td>2016-11-02</td>\n",
       "      <td>0.333366</td>\n",
       "      <td>0.001944</td>\n",
       "      <td>0.378842</td>\n",
       "      <td>0.000380</td>\n",
       "    </tr>\n",
       "    <tr>\n",
       "      <th>Quiz_7</th>\n",
       "      <td>2016-11-03</td>\n",
       "      <td>2016-11-10</td>\n",
       "      <td>0.183574</td>\n",
       "      <td>0.100909</td>\n",
       "      <td>0.116211</td>\n",
       "      <td>0.301533</td>\n",
       "    </tr>\n",
       "    <tr>\n",
       "      <th>Quiz_8</th>\n",
       "      <td>2016-11-16</td>\n",
       "      <td>2016-11-24</td>\n",
       "      <td>0.034409</td>\n",
       "      <td>0.763375</td>\n",
       "      <td>0.050664</td>\n",
       "      <td>0.657462</td>\n",
       "    </tr>\n",
       "    <tr>\n",
       "      <th>Midterm_3</th>\n",
       "      <td>2016-11-03</td>\n",
       "      <td>2016-11-30</td>\n",
       "      <td>0.314267</td>\n",
       "      <td>0.003811</td>\n",
       "      <td>0.230285</td>\n",
       "      <td>0.036223</td>\n",
       "    </tr>\n",
       "  </tbody>\n",
       "</table>\n",
       "</div>"
      ],
      "text/plain": [
       "                 start         end  R-coeff duration  p-val duration  \\\n",
       "assessment                                                             \n",
       "Quiz_1      2016-09-07  2016-09-15          0.210170        0.080758   \n",
       "Quiz_2      2016-09-16  2016-09-22          0.126860        0.265238   \n",
       "Quiz_3      2016-09-23  2016-09-29          0.297677        0.006606   \n",
       "Midterm_1   2016-09-07  2016-10-05          0.254998        0.019991   \n",
       "Quiz_4      2016-10-06  2016-10-13          0.388277        0.000406   \n",
       "Quiz_5      2016-10-14  2016-10-21          0.245847        0.027937   \n",
       "Quiz_6      2016-10-22  2016-10-28          0.268162        0.017608   \n",
       "Midterm_2   2016-10-06  2016-11-02          0.333366        0.001944   \n",
       "Quiz_7      2016-11-03  2016-11-10          0.183574        0.100909   \n",
       "Quiz_8      2016-11-16  2016-11-24          0.034409        0.763375   \n",
       "Midterm_3   2016-11-03  2016-11-30          0.314267        0.003811   \n",
       "\n",
       "            R-coeff quality  p-val quality  \n",
       "assessment                                  \n",
       "Quiz_1             0.182757       0.129948  \n",
       "Quiz_2             0.153788       0.175999  \n",
       "Quiz_3             0.265295       0.016005  \n",
       "Midterm_1          0.295571       0.006671  \n",
       "Quiz_4             0.397765       0.000283  \n",
       "Quiz_5             0.198057       0.078223  \n",
       "Quiz_6             0.270771       0.016496  \n",
       "Midterm_2          0.378842       0.000380  \n",
       "Quiz_7             0.116211       0.301533  \n",
       "Quiz_8             0.050664       0.657462  \n",
       "Midterm_3          0.230285       0.036223  "
      ]
     },
     "execution_count": 9,
     "metadata": {},
     "output_type": "execute_result"
    }
   ],
   "source": [
    "def _correlate(df_sleep, df_roster):\n",
    "    \"\"\"Correlate mean sleep duration & quality week before assessment with\n",
    "    assessment score for all assessments.\n",
    "    \"\"\"\n",
    "    # TODO: mismatch between end date here and in utils.assessment_dates in \n",
    "    # Quiz 5, Quiz 6, and Quiz 8.\n",
    "    assessment_content = [('Quiz_1', '2016-09-07', '2016-09-15'),\n",
    "                          ('Quiz_2', '2016-09-16', '2016-09-22'),\n",
    "                          ('Quiz_3', '2016-09-23', '2016-09-29'),\n",
    "                          ('Midterm_1', '2016-09-07', '2016-10-05'),\n",
    "                          ('Quiz_4', '2016-10-06', '2016-10-13'),\n",
    "                          ('Quiz_5', '2016-10-14', '2016-10-21'),\n",
    "                          ('Quiz_6', '2016-10-22', '2016-10-28'),\n",
    "                          ('Midterm_2', '2016-10-06', '2016-11-02'),\n",
    "                          ('Quiz_7', '2016-11-03', '2016-11-10'),\n",
    "                          ('Quiz_8', '2016-11-16', '2016-11-24'),\n",
    "                          ('Midterm_3', '2016-11-03', '2016-11-30')]\n",
    "    results = []\n",
    "    for assessment, start, end in assessment_content:\n",
    "        mean_dur = get_sleep_measure_stat(df_sleep, 'sleepDuration', 'mean',\n",
    "                                          start, end)\n",
    "        corr_dur = correlate_two_series(df_roster[assessment], mean_dur)        \n",
    "        mean_qual = get_sleep_measure_stat(df_sleep, 'sleepQualityScoreA',\n",
    "                                           'mean', start, end)\n",
    "        corr_qual = correlate_two_series(df_roster[assessment], mean_qual)\n",
    "        results.append((assessment, start, end, *corr_dur, *corr_qual))\n",
    "\n",
    "    columns = ['assessment', 'start', 'end', 'R-coeff duration',\n",
    "               'p-val duration', 'R-coeff quality', 'p-val quality']\n",
    "    return pd.DataFrame(results, columns=columns).set_index('assessment')\n",
    "\n",
    "\n",
    "print(\"Correlation between score and sleep duration/quality during relevant \"\n",
    "      \"content for assessment.\")\n",
    "check_dfs()\n",
    "_correlate(df_sleep, df_roster)"
   ]
  },
  {
   "cell_type": "markdown",
   "metadata": {},
   "source": [
    "## Correlate average bedtime and waketime week before with assessment score"
   ]
  },
  {
   "cell_type": "code",
   "execution_count": 10,
   "metadata": {
    "collapsed": false,
    "scrolled": false
   },
   "outputs": [
    {
     "name": "stdout",
     "output_type": "stream",
     "text": [
      "Correlation between mean bedtime and mean waketime week before assessment with assessment score.\n",
      "\n",
      "NOTE: a negative correlation indicates that earlier bedtimes and/or earlier waketimes (i.e., lower values) are associated with higher scores and vice versa.\n"
     ]
    },
    {
     "data": {
      "text/html": [
       "<div>\n",
       "<table border=\"1\" class=\"dataframe\">\n",
       "  <thead>\n",
       "    <tr style=\"text-align: right;\">\n",
       "      <th></th>\n",
       "      <th>start</th>\n",
       "      <th>end</th>\n",
       "      <th>R-coeff bedtime</th>\n",
       "      <th>p-val bedtime</th>\n",
       "      <th>R-coeff waketime</th>\n",
       "      <th>p-val waketime</th>\n",
       "    </tr>\n",
       "    <tr>\n",
       "      <th>assessment</th>\n",
       "      <th></th>\n",
       "      <th></th>\n",
       "      <th></th>\n",
       "      <th></th>\n",
       "      <th></th>\n",
       "      <th></th>\n",
       "    </tr>\n",
       "  </thead>\n",
       "  <tbody>\n",
       "    <tr>\n",
       "      <th>Quiz_1</th>\n",
       "      <td>2016-09-08</td>\n",
       "      <td>2016-09-15</td>\n",
       "      <td>0.041831</td>\n",
       "      <td>0.730971</td>\n",
       "      <td>0.045653</td>\n",
       "      <td>0.707452</td>\n",
       "    </tr>\n",
       "    <tr>\n",
       "      <th>Quiz_2</th>\n",
       "      <td>2016-09-15</td>\n",
       "      <td>2016-09-22</td>\n",
       "      <td>-0.319537</td>\n",
       "      <td>0.004098</td>\n",
       "      <td>-0.166735</td>\n",
       "      <td>0.141926</td>\n",
       "    </tr>\n",
       "    <tr>\n",
       "      <th>Quiz_3</th>\n",
       "      <td>2016-09-22</td>\n",
       "      <td>2016-09-29</td>\n",
       "      <td>-0.296130</td>\n",
       "      <td>0.006907</td>\n",
       "      <td>-0.103541</td>\n",
       "      <td>0.354600</td>\n",
       "    </tr>\n",
       "    <tr>\n",
       "      <th>Midterm_1</th>\n",
       "      <td>2016-09-28</td>\n",
       "      <td>2016-10-05</td>\n",
       "      <td>-0.216980</td>\n",
       "      <td>0.048799</td>\n",
       "      <td>-0.044721</td>\n",
       "      <td>0.688088</td>\n",
       "    </tr>\n",
       "    <tr>\n",
       "      <th>Quiz_4</th>\n",
       "      <td>2016-10-06</td>\n",
       "      <td>2016-10-13</td>\n",
       "      <td>-0.228241</td>\n",
       "      <td>0.043063</td>\n",
       "      <td>0.052333</td>\n",
       "      <td>0.646921</td>\n",
       "    </tr>\n",
       "    <tr>\n",
       "      <th>Quiz_5</th>\n",
       "      <td>2016-10-13</td>\n",
       "      <td>2016-10-20</td>\n",
       "      <td>-0.392060</td>\n",
       "      <td>0.000322</td>\n",
       "      <td>-0.206322</td>\n",
       "      <td>0.066332</td>\n",
       "    </tr>\n",
       "    <tr>\n",
       "      <th>Quiz_6</th>\n",
       "      <td>2016-10-20</td>\n",
       "      <td>2016-10-27</td>\n",
       "      <td>-0.110066</td>\n",
       "      <td>0.337407</td>\n",
       "      <td>0.077152</td>\n",
       "      <td>0.501976</td>\n",
       "    </tr>\n",
       "    <tr>\n",
       "      <th>Midterm_2</th>\n",
       "      <td>2016-10-26</td>\n",
       "      <td>2016-11-02</td>\n",
       "      <td>-0.192541</td>\n",
       "      <td>0.079313</td>\n",
       "      <td>-0.124197</td>\n",
       "      <td>0.260339</td>\n",
       "    </tr>\n",
       "    <tr>\n",
       "      <th>Quiz_7</th>\n",
       "      <td>2016-11-03</td>\n",
       "      <td>2016-11-10</td>\n",
       "      <td>0.086410</td>\n",
       "      <td>0.443057</td>\n",
       "      <td>0.197141</td>\n",
       "      <td>0.077724</td>\n",
       "    </tr>\n",
       "    <tr>\n",
       "      <th>Quiz_8</th>\n",
       "      <td>2016-11-10</td>\n",
       "      <td>2016-11-17</td>\n",
       "      <td>-0.200090</td>\n",
       "      <td>0.077058</td>\n",
       "      <td>-0.188048</td>\n",
       "      <td>0.096994</td>\n",
       "    </tr>\n",
       "    <tr>\n",
       "      <th>Midterm_3</th>\n",
       "      <td>2016-11-23</td>\n",
       "      <td>2016-11-30</td>\n",
       "      <td>-0.328201</td>\n",
       "      <td>0.002453</td>\n",
       "      <td>-0.224813</td>\n",
       "      <td>0.041021</td>\n",
       "    </tr>\n",
       "  </tbody>\n",
       "</table>\n",
       "</div>"
      ],
      "text/plain": [
       "                 start         end  R-coeff bedtime  p-val bedtime  \\\n",
       "assessment                                                           \n",
       "Quiz_1      2016-09-08  2016-09-15         0.041831       0.730971   \n",
       "Quiz_2      2016-09-15  2016-09-22        -0.319537       0.004098   \n",
       "Quiz_3      2016-09-22  2016-09-29        -0.296130       0.006907   \n",
       "Midterm_1   2016-09-28  2016-10-05        -0.216980       0.048799   \n",
       "Quiz_4      2016-10-06  2016-10-13        -0.228241       0.043063   \n",
       "Quiz_5      2016-10-13  2016-10-20        -0.392060       0.000322   \n",
       "Quiz_6      2016-10-20  2016-10-27        -0.110066       0.337407   \n",
       "Midterm_2   2016-10-26  2016-11-02        -0.192541       0.079313   \n",
       "Quiz_7      2016-11-03  2016-11-10         0.086410       0.443057   \n",
       "Quiz_8      2016-11-10  2016-11-17        -0.200090       0.077058   \n",
       "Midterm_3   2016-11-23  2016-11-30        -0.328201       0.002453   \n",
       "\n",
       "            R-coeff waketime  p-val waketime  \n",
       "assessment                                    \n",
       "Quiz_1              0.045653        0.707452  \n",
       "Quiz_2             -0.166735        0.141926  \n",
       "Quiz_3             -0.103541        0.354600  \n",
       "Midterm_1          -0.044721        0.688088  \n",
       "Quiz_4              0.052333        0.646921  \n",
       "Quiz_5             -0.206322        0.066332  \n",
       "Quiz_6              0.077152        0.501976  \n",
       "Midterm_2          -0.124197        0.260339  \n",
       "Quiz_7              0.197141        0.077724  \n",
       "Quiz_8             -0.188048        0.096994  \n",
       "Midterm_3          -0.224813        0.041021  "
      ]
     },
     "execution_count": 10,
     "metadata": {},
     "output_type": "execute_result"
    }
   ],
   "source": [
    "def _correlate(df_sleep, df_roster):\n",
    "    \"\"\"Correlate mean bedtime and mean wake time week before assessment with\n",
    "    assessment score.\n",
    "    \"\"\"\n",
    "    results = []\n",
    "    for assessment, date in utils.assessment_dates:\n",
    "        start = pd.to_datetime(date) - pd.Timedelta(7, unit='D')\n",
    "        start = start.strftime(\"%Y-%m-%d\")\n",
    "        \n",
    "        tmp = df_sleep.loc[start:date, :]\n",
    "        tmp = tmp.groupby('subjectID')\n",
    "        bedtimes = tmp['startDateTime'].apply(get_time_stat, flip=True)\n",
    "        corr_bed = correlate_two_series(df_roster[assessment], \n",
    "                                bedtimes.dt.total_seconds())\n",
    "        waketimes = tmp['endDateTime'].apply(get_time_stat, flip=False)\n",
    "        corr_wake = correlate_two_series(df_roster[assessment],\n",
    "                                         waketimes.dt.total_seconds())\n",
    "        results.append((assessment, start, date, *corr_bed, *corr_wake))\n",
    "\n",
    "    columns = ['assessment', 'start', 'end', 'R-coeff bedtime',\n",
    "               'p-val bedtime', 'R-coeff waketime', 'p-val waketime']\n",
    "    return pd.DataFrame(results, columns=columns).set_index('assessment')\n",
    "\n",
    "\n",
    "print(\"Correlation between mean bedtime and mean waketime week before \"\n",
    "      \"assessment with assessment score.\")\n",
    "print(\"\\nNOTE: a negative correlation indicates that earlier bedtimes \"\n",
    "      \"and/or earlier waketimes (i.e., lower values) are associated \"\n",
    "      \"with higher scores and vice versa.\")\n",
    "check_dfs()\n",
    "_correlate(df_sleep, df_roster)"
   ]
  },
  {
   "cell_type": "markdown",
   "metadata": {},
   "source": [
    "## Correlation of assessment scores and sleep duration/quality in longest sleepers"
   ]
  },
  {
   "cell_type": "code",
   "execution_count": 11,
   "metadata": {
    "collapsed": false,
    "scrolled": false
   },
   "outputs": [
    {
     "name": "stdout",
     "output_type": "stream",
     "text": [
      "Correlate assessment scores with sleep duration and quality in subjects who slept longer than 7 hours per night on average.\n"
     ]
    },
    {
     "data": {
      "text/html": [
       "<div>\n",
       "<table border=\"1\" class=\"dataframe\">\n",
       "  <thead>\n",
       "    <tr style=\"text-align: right;\">\n",
       "      <th></th>\n",
       "      <th>R-coeff duration</th>\n",
       "      <th>p-val duration</th>\n",
       "      <th>R-coeff quality</th>\n",
       "      <th>p-val quality</th>\n",
       "    </tr>\n",
       "    <tr>\n",
       "      <th>assessment</th>\n",
       "      <th></th>\n",
       "      <th></th>\n",
       "      <th></th>\n",
       "      <th></th>\n",
       "    </tr>\n",
       "  </thead>\n",
       "  <tbody>\n",
       "    <tr>\n",
       "      <th>Quiz_1</th>\n",
       "      <td>0.031854</td>\n",
       "      <td>0.773616</td>\n",
       "      <td>-0.108175</td>\n",
       "      <td>0.327353</td>\n",
       "    </tr>\n",
       "    <tr>\n",
       "      <th>Quiz_2</th>\n",
       "      <td>-0.089333</td>\n",
       "      <td>0.416192</td>\n",
       "      <td>0.024977</td>\n",
       "      <td>0.820502</td>\n",
       "    </tr>\n",
       "    <tr>\n",
       "      <th>Quiz_3</th>\n",
       "      <td>0.137761</td>\n",
       "      <td>0.208648</td>\n",
       "      <td>-0.101105</td>\n",
       "      <td>0.357204</td>\n",
       "    </tr>\n",
       "    <tr>\n",
       "      <th>Midterm_1</th>\n",
       "      <td>-0.058945</td>\n",
       "      <td>0.589815</td>\n",
       "      <td>0.065915</td>\n",
       "      <td>0.546523</td>\n",
       "    </tr>\n",
       "    <tr>\n",
       "      <th>Quiz_4</th>\n",
       "      <td>0.147327</td>\n",
       "      <td>0.186554</td>\n",
       "      <td>0.193340</td>\n",
       "      <td>0.081797</td>\n",
       "    </tr>\n",
       "    <tr>\n",
       "      <th>Quiz_5</th>\n",
       "      <td>0.072050</td>\n",
       "      <td>0.517441</td>\n",
       "      <td>-0.074201</td>\n",
       "      <td>0.504984</td>\n",
       "    </tr>\n",
       "    <tr>\n",
       "      <th>Quiz_6</th>\n",
       "      <td>0.057003</td>\n",
       "      <td>0.613235</td>\n",
       "      <td>0.030816</td>\n",
       "      <td>0.784779</td>\n",
       "    </tr>\n",
       "    <tr>\n",
       "      <th>Midterm_2</th>\n",
       "      <td>0.133467</td>\n",
       "      <td>0.226148</td>\n",
       "      <td>0.127203</td>\n",
       "      <td>0.248886</td>\n",
       "    </tr>\n",
       "    <tr>\n",
       "      <th>Quiz_7</th>\n",
       "      <td>-0.026664</td>\n",
       "      <td>0.813211</td>\n",
       "      <td>0.042688</td>\n",
       "      <td>0.705141</td>\n",
       "    </tr>\n",
       "    <tr>\n",
       "      <th>Quiz_8</th>\n",
       "      <td>-0.092746</td>\n",
       "      <td>0.416240</td>\n",
       "      <td>0.038688</td>\n",
       "      <td>0.734976</td>\n",
       "    </tr>\n",
       "    <tr>\n",
       "      <th>Midterm_3</th>\n",
       "      <td>-0.033911</td>\n",
       "      <td>0.760866</td>\n",
       "      <td>-0.035374</td>\n",
       "      <td>0.750879</td>\n",
       "    </tr>\n",
       "  </tbody>\n",
       "</table>\n",
       "</div>"
      ],
      "text/plain": [
       "            R-coeff duration  p-val duration  R-coeff quality  p-val quality\n",
       "assessment                                                                  \n",
       "Quiz_1              0.031854        0.773616        -0.108175       0.327353\n",
       "Quiz_2             -0.089333        0.416192         0.024977       0.820502\n",
       "Quiz_3              0.137761        0.208648        -0.101105       0.357204\n",
       "Midterm_1          -0.058945        0.589815         0.065915       0.546523\n",
       "Quiz_4              0.147327        0.186554         0.193340       0.081797\n",
       "Quiz_5              0.072050        0.517441        -0.074201       0.504984\n",
       "Quiz_6              0.057003        0.613235         0.030816       0.784779\n",
       "Midterm_2           0.133467        0.226148         0.127203       0.248886\n",
       "Quiz_7             -0.026664        0.813211         0.042688       0.705141\n",
       "Quiz_8             -0.092746        0.416240         0.038688       0.734976\n",
       "Midterm_3          -0.033911        0.760866        -0.035374       0.750879"
      ]
     },
     "execution_count": 11,
     "metadata": {},
     "output_type": "execute_result"
    }
   ],
   "source": [
    "def _correlate(df_sleep, df_roster, thresh, op):\n",
    "    \"\"\"For each assessment, split subjects by threshold, select subjects above\n",
    "    or below the threshold, and correlate their mean, overall sleep duration\n",
    "    and quality with each assessment score.\n",
    "    \n",
    "    thresh: sleep duration in minutes by which to separate subjects.\n",
    "    op: operator to select subjects. For example, '<' will select subjects\n",
    "        with sleep duration less than the threshold.\n",
    "    \"\"\"\n",
    "    import operator\n",
    "    ops = {'>': operator.gt,\n",
    "           '<': operator.lt,\n",
    "           '>=': operator.ge,\n",
    "           '<=': operator.le,\n",
    "           '=': operator.eq}\n",
    "\n",
    "    results = []\n",
    "    for assessment, _ in utils.assessment_dates:\n",
    "        mask = ops[op](df_sleep['sleepDuration'], thresh)\n",
    "        df_sleep = df_sleep.loc[mask, :].copy()\n",
    "        \n",
    "        mean_dur = get_sleep_measure_stat(df_sleep, 'sleepDuration')\n",
    "        corr_dur = correlate_two_series(mean_dur, df_roster[assessment])\n",
    "        \n",
    "        mean_qual = get_sleep_measure_stat(df_sleep, 'sleepQualityScoreA')\n",
    "        corr_qual = correlate_two_series(mean_qual, df_roster[assessment])\n",
    "        results.append((assessment, *corr_dur, *corr_qual))\n",
    "\n",
    "    columns = ['assessment', 'R-coeff duration', 'p-val duration', \n",
    "               'R-coeff quality', 'p-val quality']\n",
    "    return pd.DataFrame(results, columns=columns).set_index('assessment')\n",
    "\n",
    "\n",
    "print(\"Correlate assessment scores with sleep duration and quality in \"\n",
    "      \"subjects who slept longer than 7 hours per night on average.\")\n",
    "check_dfs()\n",
    "_correlate(df_sleep, df_roster, 420, '>')"
   ]
  },
  {
   "cell_type": "markdown",
   "metadata": {},
   "source": [
    "# Assessment scores by bedtime and/or wake time"
   ]
  },
  {
   "cell_type": "code",
   "execution_count": 12,
   "metadata": {
    "collapsed": true
   },
   "outputs": [],
   "source": [
    "def _create_bedtime_waketime_df(df_sleep, df_roster):\n",
    "    \"\"\"Return pd.DataFrame of roster merged with mean bedtime, mean \n",
    "    waketime, and median split.\n",
    "    \"\"\"\n",
    "    group = df_sleep.groupby('subjectID')\n",
    "\n",
    "    bedtimes = group['startDateTime'].apply(get_time_stat, flip=True)\n",
    "    bedtimes.name = 'bedtime_mean'\n",
    "    waketimes = group['endDateTime'].apply(get_time_stat, flip=False)\n",
    "    waketimes.name = 'waketime_mean'\n",
    "\n",
    "    tmp = pd.concat((bedtimes, waketimes), axis=1)\n",
    "    median = bedtimes.median()\n",
    "    print(\"Median bedtime:\", median)\n",
    "    tmp.loc[tmp['bedtime_mean']>median, 'bedtime_category'] = 'above_median'\n",
    "    tmp.loc[tmp['bedtime_mean']<median, 'bedtime_category'] = 'below_median'\n",
    "\n",
    "    median = waketimes.median()\n",
    "    print(\"Median waketime:\", median)\n",
    "    tmp.loc[tmp['waketime_mean']>median, 'waketime_category'] = 'above_median'\n",
    "    tmp.loc[tmp['waketime_mean']<median, 'waketime_category'] = 'below_median'\n",
    "\n",
    "    return df_roster.merge(tmp, left_index=True, right_index=True)"
   ]
  },
  {
   "cell_type": "markdown",
   "metadata": {},
   "source": [
    "## T-test: scores by bedtime and waketime median-split"
   ]
  },
  {
   "cell_type": "code",
   "execution_count": 13,
   "metadata": {
    "collapsed": false
   },
   "outputs": [
    {
     "name": "stdout",
     "output_type": "stream",
     "text": [
      "\n",
      "Median bedtime: 0 days 13:46:47\n",
      "Median waketime: 0 days 09:12:24\n"
     ]
    },
    {
     "data": {
      "text/html": [
       "<div>\n",
       "<table border=\"1\" class=\"dataframe\">\n",
       "  <thead>\n",
       "    <tr style=\"text-align: right;\">\n",
       "      <th></th>\n",
       "      <th>assessment</th>\n",
       "      <th>mean_below_median</th>\n",
       "      <th>mean_above_median</th>\n",
       "      <th>T-score</th>\n",
       "      <th>p-value</th>\n",
       "    </tr>\n",
       "    <tr>\n",
       "      <th>time</th>\n",
       "      <th></th>\n",
       "      <th></th>\n",
       "      <th></th>\n",
       "      <th></th>\n",
       "      <th></th>\n",
       "    </tr>\n",
       "  </thead>\n",
       "  <tbody>\n",
       "    <tr>\n",
       "      <th>bedtime</th>\n",
       "      <td>Quiz_1</td>\n",
       "      <td>9.428571</td>\n",
       "      <td>9.178571</td>\n",
       "      <td>1.018767</td>\n",
       "      <td>0.311310</td>\n",
       "    </tr>\n",
       "    <tr>\n",
       "      <th>bedtime</th>\n",
       "      <td>Quiz_2</td>\n",
       "      <td>8.081395</td>\n",
       "      <td>7.964286</td>\n",
       "      <td>0.271480</td>\n",
       "      <td>0.786696</td>\n",
       "    </tr>\n",
       "    <tr>\n",
       "      <th>bedtime</th>\n",
       "      <td>Quiz_3</td>\n",
       "      <td>7.581395</td>\n",
       "      <td>7.130952</td>\n",
       "      <td>1.038156</td>\n",
       "      <td>0.302212</td>\n",
       "    </tr>\n",
       "    <tr>\n",
       "      <th>bedtime</th>\n",
       "      <td>Midterm_1</td>\n",
       "      <td>74.627907</td>\n",
       "      <td>71.406977</td>\n",
       "      <td>1.044759</td>\n",
       "      <td>0.299132</td>\n",
       "    </tr>\n",
       "    <tr>\n",
       "      <th>bedtime</th>\n",
       "      <td>Quiz_4</td>\n",
       "      <td>8.309524</td>\n",
       "      <td>7.525000</td>\n",
       "      <td>1.865247</td>\n",
       "      <td>0.065813</td>\n",
       "    </tr>\n",
       "    <tr>\n",
       "      <th>bedtime</th>\n",
       "      <td>Quiz_5</td>\n",
       "      <td>8.953488</td>\n",
       "      <td>8.275000</td>\n",
       "      <td>2.876594</td>\n",
       "      <td>0.005136</td>\n",
       "    </tr>\n",
       "    <tr>\n",
       "      <th>bedtime</th>\n",
       "      <td>Quiz_6</td>\n",
       "      <td>7.023256</td>\n",
       "      <td>6.894737</td>\n",
       "      <td>0.287231</td>\n",
       "      <td>0.774688</td>\n",
       "    </tr>\n",
       "    <tr>\n",
       "      <th>bedtime</th>\n",
       "      <td>Midterm_2</td>\n",
       "      <td>79.569767</td>\n",
       "      <td>75.560976</td>\n",
       "      <td>1.748563</td>\n",
       "      <td>0.084109</td>\n",
       "    </tr>\n",
       "    <tr>\n",
       "      <th>bedtime</th>\n",
       "      <td>Quiz_7</td>\n",
       "      <td>8.158537</td>\n",
       "      <td>7.712500</td>\n",
       "      <td>0.859596</td>\n",
       "      <td>0.392613</td>\n",
       "    </tr>\n",
       "    <tr>\n",
       "      <th>bedtime</th>\n",
       "      <td>Quiz_8</td>\n",
       "      <td>7.695122</td>\n",
       "      <td>6.842105</td>\n",
       "      <td>1.515669</td>\n",
       "      <td>0.133698</td>\n",
       "    </tr>\n",
       "    <tr>\n",
       "      <th>bedtime</th>\n",
       "      <td>Midterm_3</td>\n",
       "      <td>76.369048</td>\n",
       "      <td>72.463415</td>\n",
       "      <td>1.102219</td>\n",
       "      <td>0.273631</td>\n",
       "    </tr>\n",
       "    <tr>\n",
       "      <th>waketime</th>\n",
       "      <td>Quiz_1</td>\n",
       "      <td>9.524390</td>\n",
       "      <td>9.093023</td>\n",
       "      <td>1.779743</td>\n",
       "      <td>0.078823</td>\n",
       "    </tr>\n",
       "    <tr>\n",
       "      <th>waketime</th>\n",
       "      <td>Quiz_2</td>\n",
       "      <td>8.360465</td>\n",
       "      <td>7.678571</td>\n",
       "      <td>1.604354</td>\n",
       "      <td>0.112435</td>\n",
       "    </tr>\n",
       "    <tr>\n",
       "      <th>waketime</th>\n",
       "      <td>Quiz_3</td>\n",
       "      <td>7.604651</td>\n",
       "      <td>7.107143</td>\n",
       "      <td>1.148270</td>\n",
       "      <td>0.254156</td>\n",
       "    </tr>\n",
       "    <tr>\n",
       "      <th>waketime</th>\n",
       "      <td>Midterm_1</td>\n",
       "      <td>76.011628</td>\n",
       "      <td>70.023256</td>\n",
       "      <td>1.974188</td>\n",
       "      <td>0.051647</td>\n",
       "    </tr>\n",
       "    <tr>\n",
       "      <th>waketime</th>\n",
       "      <td>Quiz_4</td>\n",
       "      <td>7.926829</td>\n",
       "      <td>7.926829</td>\n",
       "      <td>0.000000</td>\n",
       "      <td>1.000000</td>\n",
       "    </tr>\n",
       "    <tr>\n",
       "      <th>waketime</th>\n",
       "      <td>Quiz_5</td>\n",
       "      <td>8.768293</td>\n",
       "      <td>8.488095</td>\n",
       "      <td>1.141287</td>\n",
       "      <td>0.257113</td>\n",
       "    </tr>\n",
       "    <tr>\n",
       "      <th>waketime</th>\n",
       "      <td>Quiz_6</td>\n",
       "      <td>7.214286</td>\n",
       "      <td>6.692308</td>\n",
       "      <td>1.177603</td>\n",
       "      <td>0.242490</td>\n",
       "    </tr>\n",
       "    <tr>\n",
       "      <th>waketime</th>\n",
       "      <td>Midterm_2</td>\n",
       "      <td>79.686047</td>\n",
       "      <td>75.439024</td>\n",
       "      <td>1.856716</td>\n",
       "      <td>0.066943</td>\n",
       "    </tr>\n",
       "    <tr>\n",
       "      <th>waketime</th>\n",
       "      <td>Quiz_7</td>\n",
       "      <td>8.046512</td>\n",
       "      <td>7.815789</td>\n",
       "      <td>0.442316</td>\n",
       "      <td>0.659469</td>\n",
       "    </tr>\n",
       "    <tr>\n",
       "      <th>waketime</th>\n",
       "      <td>Quiz_8</td>\n",
       "      <td>7.707317</td>\n",
       "      <td>6.828947</td>\n",
       "      <td>1.562123</td>\n",
       "      <td>0.122360</td>\n",
       "    </tr>\n",
       "    <tr>\n",
       "      <th>waketime</th>\n",
       "      <td>Midterm_3</td>\n",
       "      <td>77.418605</td>\n",
       "      <td>71.237500</td>\n",
       "      <td>1.763345</td>\n",
       "      <td>0.081614</td>\n",
       "    </tr>\n",
       "  </tbody>\n",
       "</table>\n",
       "</div>"
      ],
      "text/plain": [
       "         assessment  mean_below_median  mean_above_median   T-score   p-value\n",
       "time                                                                         \n",
       "bedtime      Quiz_1           9.428571           9.178571  1.018767  0.311310\n",
       "bedtime      Quiz_2           8.081395           7.964286  0.271480  0.786696\n",
       "bedtime      Quiz_3           7.581395           7.130952  1.038156  0.302212\n",
       "bedtime   Midterm_1          74.627907          71.406977  1.044759  0.299132\n",
       "bedtime      Quiz_4           8.309524           7.525000  1.865247  0.065813\n",
       "bedtime      Quiz_5           8.953488           8.275000  2.876594  0.005136\n",
       "bedtime      Quiz_6           7.023256           6.894737  0.287231  0.774688\n",
       "bedtime   Midterm_2          79.569767          75.560976  1.748563  0.084109\n",
       "bedtime      Quiz_7           8.158537           7.712500  0.859596  0.392613\n",
       "bedtime      Quiz_8           7.695122           6.842105  1.515669  0.133698\n",
       "bedtime   Midterm_3          76.369048          72.463415  1.102219  0.273631\n",
       "waketime     Quiz_1           9.524390           9.093023  1.779743  0.078823\n",
       "waketime     Quiz_2           8.360465           7.678571  1.604354  0.112435\n",
       "waketime     Quiz_3           7.604651           7.107143  1.148270  0.254156\n",
       "waketime  Midterm_1          76.011628          70.023256  1.974188  0.051647\n",
       "waketime     Quiz_4           7.926829           7.926829  0.000000  1.000000\n",
       "waketime     Quiz_5           8.768293           8.488095  1.141287  0.257113\n",
       "waketime     Quiz_6           7.214286           6.692308  1.177603  0.242490\n",
       "waketime  Midterm_2          79.686047          75.439024  1.856716  0.066943\n",
       "waketime     Quiz_7           8.046512           7.815789  0.442316  0.659469\n",
       "waketime     Quiz_8           7.707317           6.828947  1.562123  0.122360\n",
       "waketime  Midterm_3          77.418605          71.237500  1.763345  0.081614"
      ]
     },
     "execution_count": 13,
     "metadata": {},
     "output_type": "execute_result"
    }
   ],
   "source": [
    "def _ttest(df_sleep, df_roster):\n",
    "    \"\"\"Return T-score and p-value of independent t-test of assessments\n",
    "    between subjects median-split by bedtime and waketime.\n",
    "    \"\"\"\n",
    "    from scipy import stats\n",
    "    tmp = _create_bedtime_waketime_df(df_sleep, df_roster)\n",
    "\n",
    "    results = []\n",
    "    for time in ['bedtime', 'waketime']:\n",
    "        column = \"{}_category\".format(time)\n",
    "        for assessment, _ in utils.assessment_dates:\n",
    "            a = tmp.loc[tmp[column] == 'below_median', assessment]\n",
    "            b = tmp.loc[tmp[column] == 'above_median', assessment]\n",
    "            t, p = stats.ttest_ind(a, b, nan_policy='omit')\n",
    "            results.append((time, assessment, a.mean(), b.mean(), t, p))\n",
    "    columns = ['time', 'assessment', 'mean_below_median', 'mean_above_median',\n",
    "               'T-score', 'p-value']\n",
    "    return pd.DataFrame(results, columns=columns).set_index('time')\n",
    "\n",
    "check_dfs()\n",
    "print()\n",
    "_ttest(df_sleep, df_roster)"
   ]
  },
  {
   "cell_type": "markdown",
   "metadata": {},
   "source": [
    "## ANOVA: scores by bedtime x assessment"
   ]
  },
  {
   "cell_type": "code",
   "execution_count": 14,
   "metadata": {
    "collapsed": false
   },
   "outputs": [
    {
     "name": "stdout",
     "output_type": "stream",
     "text": [
      "Median bedtime: 0 days 13:46:47\n",
      "Median waketime: 0 days 09:12:24\n"
     ]
    },
    {
     "data": {
      "image/png": "[encoded data removed]",
      "text/plain": [
       "<matplotlib.figure.Figure at 0x11d2190f0>"
      ]
     },
     "metadata": {},
     "output_type": "display_data"
    },
    {
     "data": {
      "text/html": [
       "<div>\n",
       "<table border=\"1\" class=\"dataframe\">\n",
       "  <thead>\n",
       "    <tr style=\"text-align: right;\">\n",
       "      <th></th>\n",
       "      <th>subjectID</th>\n",
       "      <th>bedtime_category</th>\n",
       "      <th>assessment</th>\n",
       "      <th>value</th>\n",
       "    </tr>\n",
       "  </thead>\n",
       "  <tbody>\n",
       "    <tr>\n",
       "      <th>0</th>\n",
       "      <td>MBL001</td>\n",
       "      <td>below_median</td>\n",
       "      <td>Quiz_1</td>\n",
       "      <td>9.5</td>\n",
       "    </tr>\n",
       "    <tr>\n",
       "      <th>1</th>\n",
       "      <td>MBL002</td>\n",
       "      <td>above_median</td>\n",
       "      <td>Quiz_1</td>\n",
       "      <td>8.5</td>\n",
       "    </tr>\n",
       "    <tr>\n",
       "      <th>2</th>\n",
       "      <td>MBL003</td>\n",
       "      <td>below_median</td>\n",
       "      <td>Quiz_1</td>\n",
       "      <td>10.0</td>\n",
       "    </tr>\n",
       "    <tr>\n",
       "      <th>3</th>\n",
       "      <td>MBL004</td>\n",
       "      <td>above_median</td>\n",
       "      <td>Quiz_1</td>\n",
       "      <td>9.5</td>\n",
       "    </tr>\n",
       "    <tr>\n",
       "      <th>4</th>\n",
       "      <td>MBL005</td>\n",
       "      <td>above_median</td>\n",
       "      <td>Quiz_1</td>\n",
       "      <td>10.0</td>\n",
       "    </tr>\n",
       "  </tbody>\n",
       "</table>\n",
       "</div>"
      ],
      "text/plain": [
       "  subjectID bedtime_category assessment  value\n",
       "0    MBL001     below_median     Quiz_1    9.5\n",
       "1    MBL002     above_median     Quiz_1    8.5\n",
       "2    MBL003     below_median     Quiz_1   10.0\n",
       "3    MBL004     above_median     Quiz_1    9.5\n",
       "4    MBL005     above_median     Quiz_1   10.0"
      ]
     },
     "execution_count": 14,
     "metadata": {},
     "output_type": "execute_result"
    }
   ],
   "source": [
    "def _anova(df_sleep, df_roster):\n",
    "    assessments = [j for j, _ in utils.assessment_dates]\n",
    "    tmp = _create_bedtime_waketime_df(df_sleep, df_roster)\n",
    "    melted = pd.melt(tmp, id_vars=['subjectID', 'bedtime_category'], \n",
    "                     var_name='assessment', value_vars=assessments)\n",
    "    # Scale midterm scores to same range as quiz scores.\n",
    "    melted.loc[melted['assessment'].str.contains(\"Midterm\"), 'value'] /= 10\n",
    "\n",
    "    interaction_plot(melted['bedtime_category'], melted['assessment'],\n",
    "                     melted['value'])\n",
    "    plt.title(\"Assessment score by bedtime category and assessment\")\n",
    "    plt.show()\n",
    "\n",
    "    return melted\n",
    "\n",
    "# Interaction is not significant after midterm scores are scaled to\n",
    "# same range as quizzes.\n",
    "\n",
    "melted = _anova(df_sleep, df_roster)\n",
    "melted.head()"
   ]
  },
  {
   "cell_type": "code",
   "execution_count": 15,
   "metadata": {
    "collapsed": false
   },
   "outputs": [
    {
     "data": {
      "text/plain": [
       "ANOVA of scores by bedtime x assessment                                   Df Sum Sq Mean Sq F value   Pr(>F)    \n",
       "C(bedtime_category)                 1   41.6   41.61  13.003 0.000328 ***\n",
       "C(assessment)                      10  381.4   38.14  11.920  < 2e-16 ***\n",
       "C(bedtime_category):C(assessment)  10   12.3    1.23   0.384 0.953930    \n",
       "Residuals                         891 2851.0    3.20                     \n",
       "---\n",
       "Signif. codes:  0 ‘***’ 0.001 ‘**’ 0.01 ‘*’ 0.05 ‘.’ 0.1 ‘ ’ 1\n",
       "33 observations deleted due to missingness\n"
      ]
     },
     "metadata": {},
     "output_type": "display_data"
    }
   ],
   "source": [
    "%%R --input melted\n",
    "\n",
    "cat(\"ANOVA of scores by bedtime x assessment\")\n",
    "\n",
    "fit <- aov(value ~ C(bedtime_category) * C(assessment), melted)\n",
    "summary(fit)"
   ]
  },
  {
   "cell_type": "markdown",
   "metadata": {},
   "source": [
    "## ANOVA: scores by bedtime x recitation time"
   ]
  },
  {
   "cell_type": "code",
   "execution_count": 16,
   "metadata": {
    "collapsed": false,
    "scrolled": false
   },
   "outputs": [
    {
     "name": "stdout",
     "output_type": "stream",
     "text": [
      "Median bedtime: 0 days 13:46:47\n",
      "Median waketime: 0 days 09:12:24\n"
     ]
    }
   ],
   "source": [
    "tmp = _create_bedtime_waketime_df(df_sleep, df_roster)\n",
    "tmp.loc[:, 'Recitation_Time'].replace([2,3,4], [14, 15, 16], inplace=True)\n",
    "tmp = tmp[~tmp['Recitation_Time'].isin([12, 16])]\n",
    "\n",
    "def _get_am_pm(val):\n",
    "    return \"AM\" if val < 12 else \"PM\"\n",
    "\n",
    "tmp.loc[:, 'recitation'] = tmp['Recitation_Time'].apply(_get_am_pm)"
   ]
  },
  {
   "cell_type": "code",
   "execution_count": 17,
   "metadata": {
    "collapsed": false,
    "scrolled": false
   },
   "outputs": [
    {
     "name": "stderr",
     "output_type": "stream",
     "text": [
      "/Users/jakubkaczmarzyk/anaconda/envs/fitbit/lib/python3.6/site-packages/rpy2/robjects/pandas2ri.py:57: UserWarning: Error while trying to convert the column \"bedtime_mean\". Fall back to string conversion. The error is: Unknown numpy array type 'timedelta64[ns]'.\n",
      "  (name, str(e)))\n",
      "/Users/jakubkaczmarzyk/anaconda/envs/fitbit/lib/python3.6/site-packages/rpy2/robjects/pandas2ri.py:57: UserWarning: Error while trying to convert the column \"waketime_mean\". Fall back to string conversion. The error is: Unknown numpy array type 'timedelta64[ns]'.\n",
      "  (name, str(e)))\n"
     ]
    },
    {
     "data": {
      "text/plain": [
       "Analysis of Variance Table\n",
       "\n",
       "Response: Quiz_1\n",
       "                                  Df Sum Sq Mean Sq F value  Pr(>F)  \n",
       "C(bedtime_category)                1  2.684  2.6839  2.1241 0.14966  \n",
       "C(recitation)                      1  0.192  0.1921  0.1521 0.69780  \n",
       "C(bedtime_category):C(recitation)  1  6.708  6.7082  5.3091 0.02432 *\n",
       "Residuals                         67 84.655  1.2635                  \n",
       "---\n",
       "Signif. codes:  0 ‘***’ 0.001 ‘**’ 0.01 ‘*’ 0.05 ‘.’ 0.1 ‘ ’ 1\n"
      ]
     },
     "metadata": {},
     "output_type": "display_data"
    }
   ],
   "source": [
    "%%R --input tmp\n",
    "\n",
    "fit <- aov(Quiz_1 ~ C(bedtime_category) * C(recitation), tmp)\n",
    "anova(fit)"
   ]
  },
  {
   "cell_type": "markdown",
   "metadata": {},
   "source": [
    "## ANOVA: scores by wake time x assessment"
   ]
  },
  {
   "cell_type": "code",
   "execution_count": 18,
   "metadata": {
    "collapsed": false,
    "scrolled": false
   },
   "outputs": [
    {
     "name": "stdout",
     "output_type": "stream",
     "text": [
      "Median bedtime: 0 days 13:46:47\n",
      "Median waketime: 0 days 09:12:24\n"
     ]
    },
    {
     "data": {
      "image/png": "[encoded data removed]",
      "text/plain": [
       "<matplotlib.figure.Figure at 0x11d02b208>"
      ]
     },
     "metadata": {},
     "output_type": "display_data"
    },
    {
     "data": {
      "text/html": [
       "<div>\n",
       "<table border=\"1\" class=\"dataframe\">\n",
       "  <thead>\n",
       "    <tr style=\"text-align: right;\">\n",
       "      <th></th>\n",
       "      <th>subjectID</th>\n",
       "      <th>waketime_category</th>\n",
       "      <th>assessment</th>\n",
       "      <th>value</th>\n",
       "    </tr>\n",
       "  </thead>\n",
       "  <tbody>\n",
       "    <tr>\n",
       "      <th>0</th>\n",
       "      <td>MBL001</td>\n",
       "      <td>below_median</td>\n",
       "      <td>Quiz_1</td>\n",
       "      <td>9.5</td>\n",
       "    </tr>\n",
       "    <tr>\n",
       "      <th>1</th>\n",
       "      <td>MBL002</td>\n",
       "      <td>below_median</td>\n",
       "      <td>Quiz_1</td>\n",
       "      <td>8.5</td>\n",
       "    </tr>\n",
       "    <tr>\n",
       "      <th>2</th>\n",
       "      <td>MBL003</td>\n",
       "      <td>below_median</td>\n",
       "      <td>Quiz_1</td>\n",
       "      <td>10.0</td>\n",
       "    </tr>\n",
       "    <tr>\n",
       "      <th>3</th>\n",
       "      <td>MBL004</td>\n",
       "      <td>below_median</td>\n",
       "      <td>Quiz_1</td>\n",
       "      <td>9.5</td>\n",
       "    </tr>\n",
       "    <tr>\n",
       "      <th>4</th>\n",
       "      <td>MBL005</td>\n",
       "      <td>above_median</td>\n",
       "      <td>Quiz_1</td>\n",
       "      <td>10.0</td>\n",
       "    </tr>\n",
       "  </tbody>\n",
       "</table>\n",
       "</div>"
      ],
      "text/plain": [
       "  subjectID waketime_category assessment  value\n",
       "0    MBL001      below_median     Quiz_1    9.5\n",
       "1    MBL002      below_median     Quiz_1    8.5\n",
       "2    MBL003      below_median     Quiz_1   10.0\n",
       "3    MBL004      below_median     Quiz_1    9.5\n",
       "4    MBL005      above_median     Quiz_1   10.0"
      ]
     },
     "execution_count": 18,
     "metadata": {},
     "output_type": "execute_result"
    }
   ],
   "source": [
    "def _anova(df_sleep, df_roster):\n",
    "    assessments = [j for j, _ in utils.assessment_dates]\n",
    "    tmp = _create_bedtime_waketime_df(df_sleep, df_roster)\n",
    "    melted = pd.melt(tmp, id_vars=['subjectID', 'waketime_category'], \n",
    "                     var_name='assessment', value_vars=assessments)\n",
    "    # Scale midterm scores to same range as quiz scores.\n",
    "    melted.loc[melted['assessment'].str.contains(\"Midterm\"), 'value'] /= 10\n",
    "\n",
    "    interaction_plot(melted['waketime_category'], melted['assessment'],\n",
    "                     melted['value'])\n",
    "    plt.title(\"Assessment score by wake time category and assessment\")\n",
    "    plt.show()\n",
    "    return melted\n",
    "\n",
    "# Interaction is not significant after midterm scores are scaled to\n",
    "# same range as quizzes.\n",
    "\n",
    "melted = _anova(df_sleep, df_roster)\n",
    "melted.head()"
   ]
  },
  {
   "cell_type": "code",
   "execution_count": 19,
   "metadata": {
    "collapsed": false,
    "scrolled": false
   },
   "outputs": [
    {
     "data": {
      "text/plain": [
       "ANOVA of scores by waketime x assessment                                    Df Sum Sq Mean Sq F value   Pr(>F)    \n",
       "C(waketime_category)                 1   46.2   46.19  14.467 0.000152 ***\n",
       "C(assessment)                       10  383.8   38.38  12.022  < 2e-16 ***\n",
       "C(waketime_category):C(assessment)  10   11.6    1.16   0.364 0.961697    \n",
       "Residuals                          891 2844.7    3.19                     \n",
       "---\n",
       "Signif. codes:  0 ‘***’ 0.001 ‘**’ 0.01 ‘*’ 0.05 ‘.’ 0.1 ‘ ’ 1\n",
       "33 observations deleted due to missingness\n"
      ]
     },
     "metadata": {},
     "output_type": "display_data"
    }
   ],
   "source": [
    "%%R --input melted\n",
    "\n",
    "cat(\"ANOVA of scores by waketime x assessment\")\n",
    "\n",
    "fit <- aov(value ~ C(waketime_category) * C(assessment), melted)\n",
    "summary(fit)"
   ]
  },
  {
   "cell_type": "markdown",
   "metadata": {},
   "source": [
    "## ANOVA: scores by wake time x recitation time"
   ]
  },
  {
   "cell_type": "code",
   "execution_count": 20,
   "metadata": {
    "collapsed": false
   },
   "outputs": [
    {
     "name": "stdout",
     "output_type": "stream",
     "text": [
      "Median bedtime: 0 days 13:46:47\n",
      "Median waketime: 0 days 09:12:24\n"
     ]
    }
   ],
   "source": [
    "tmp = _create_bedtime_waketime_df(df_sleep, df_roster)\n",
    "tmp.loc[:, 'Recitation_Time'].replace([2,3,4], [14, 15, 16], inplace=True)\n",
    "tmp = tmp[~tmp['Recitation_Time'].isin([12, 16])]\n",
    "\n",
    "def _get_am_pm(val):\n",
    "    return \"AM\" if val < 12 else \"PM\"\n",
    "\n",
    "tmp.loc[:, 'recitation'] = tmp['Recitation_Time'].apply(_get_am_pm)"
   ]
  },
  {
   "cell_type": "code",
   "execution_count": 21,
   "metadata": {
    "collapsed": false
   },
   "outputs": [
    {
     "name": "stderr",
     "output_type": "stream",
     "text": [
      "/Users/jakubkaczmarzyk/anaconda/envs/fitbit/lib/python3.6/site-packages/rpy2/robjects/pandas2ri.py:57: UserWarning: Error while trying to convert the column \"bedtime_mean\". Fall back to string conversion. The error is: Unknown numpy array type 'timedelta64[ns]'.\n",
      "  (name, str(e)))\n",
      "/Users/jakubkaczmarzyk/anaconda/envs/fitbit/lib/python3.6/site-packages/rpy2/robjects/pandas2ri.py:57: UserWarning: Error while trying to convert the column \"waketime_mean\". Fall back to string conversion. The error is: Unknown numpy array type 'timedelta64[ns]'.\n",
      "  (name, str(e)))\n"
     ]
    },
    {
     "data": {
      "text/plain": [
       "                                   Df Sum Sq Mean Sq F value Pr(>F)  \n",
       "C(waketime_category)                1   4.88   4.877   3.703 0.0586 .\n",
       "C(recitation)                       1   0.06   0.062   0.047 0.8283  \n",
       "C(waketime_category):C(recitation)  1   1.06   1.063   0.807 0.3722  \n",
       "Residuals                          67  88.24   1.317                 \n",
       "---\n",
       "Signif. codes:  0 ‘***’ 0.001 ‘**’ 0.01 ‘*’ 0.05 ‘.’ 0.1 ‘ ’ 1\n",
       "2 observations deleted due to missingness\n"
      ]
     },
     "metadata": {},
     "output_type": "display_data"
    }
   ],
   "source": [
    "%%R --input tmp\n",
    "\n",
    "fit <- aov(Quiz_1 ~ C(waketime_category) * C(recitation), tmp)\n",
    "summary(fit)"
   ]
  },
  {
   "cell_type": "markdown",
   "metadata": {},
   "source": [
    "## ANOVA: scores by wake time x bedtime x assessment"
   ]
  },
  {
   "cell_type": "code",
   "execution_count": 22,
   "metadata": {
    "collapsed": false,
    "scrolled": true
   },
   "outputs": [
    {
     "name": "stdout",
     "output_type": "stream",
     "text": [
      "Median bedtime: 0 days 13:46:47\n",
      "Median waketime: 0 days 09:12:24\n"
     ]
    },
    {
     "data": {
      "text/html": [
       "<div>\n",
       "<table border=\"1\" class=\"dataframe\">\n",
       "  <thead>\n",
       "    <tr style=\"text-align: right;\">\n",
       "      <th></th>\n",
       "      <th>subjectID</th>\n",
       "      <th>waketime_category</th>\n",
       "      <th>bedtime_category</th>\n",
       "      <th>assessment</th>\n",
       "      <th>value</th>\n",
       "    </tr>\n",
       "  </thead>\n",
       "  <tbody>\n",
       "    <tr>\n",
       "      <th>0</th>\n",
       "      <td>MBL001</td>\n",
       "      <td>below_median</td>\n",
       "      <td>below_median</td>\n",
       "      <td>Quiz_1</td>\n",
       "      <td>9.5</td>\n",
       "    </tr>\n",
       "    <tr>\n",
       "      <th>1</th>\n",
       "      <td>MBL002</td>\n",
       "      <td>below_median</td>\n",
       "      <td>above_median</td>\n",
       "      <td>Quiz_1</td>\n",
       "      <td>8.5</td>\n",
       "    </tr>\n",
       "    <tr>\n",
       "      <th>2</th>\n",
       "      <td>MBL003</td>\n",
       "      <td>below_median</td>\n",
       "      <td>below_median</td>\n",
       "      <td>Quiz_1</td>\n",
       "      <td>10.0</td>\n",
       "    </tr>\n",
       "    <tr>\n",
       "      <th>3</th>\n",
       "      <td>MBL004</td>\n",
       "      <td>below_median</td>\n",
       "      <td>above_median</td>\n",
       "      <td>Quiz_1</td>\n",
       "      <td>9.5</td>\n",
       "    </tr>\n",
       "    <tr>\n",
       "      <th>4</th>\n",
       "      <td>MBL005</td>\n",
       "      <td>above_median</td>\n",
       "      <td>above_median</td>\n",
       "      <td>Quiz_1</td>\n",
       "      <td>10.0</td>\n",
       "    </tr>\n",
       "  </tbody>\n",
       "</table>\n",
       "</div>"
      ],
      "text/plain": [
       "  subjectID waketime_category bedtime_category assessment  value\n",
       "0    MBL001      below_median     below_median     Quiz_1    9.5\n",
       "1    MBL002      below_median     above_median     Quiz_1    8.5\n",
       "2    MBL003      below_median     below_median     Quiz_1   10.0\n",
       "3    MBL004      below_median     above_median     Quiz_1    9.5\n",
       "4    MBL005      above_median     above_median     Quiz_1   10.0"
      ]
     },
     "execution_count": 22,
     "metadata": {},
     "output_type": "execute_result"
    }
   ],
   "source": [
    "def _anova(df_sleep, df_roster):\n",
    "    assessments = [j for j, _ in utils.assessment_dates]\n",
    "    tmp = _create_bedtime_waketime_df(df_sleep, df_roster)\n",
    "    id_vars = ['subjectID', 'waketime_category', 'bedtime_category']\n",
    "    melted = pd.melt(tmp, id_vars=id_vars, var_name='assessment',\n",
    "                     value_vars=assessments)\n",
    "    \n",
    "    # Scale midterm scores to same range as quiz scores.\n",
    "    melted.loc[melted['assessment'].str.contains(\"Midterm\"), 'value'] /= 10\n",
    "\n",
    "    # interaction_plot(melted['waketime_category'], melted['assessment'],\n",
    "    #                  melted['value'])\n",
    "#    plt.title(\"Assessment score by wake time category and assessment\")\n",
    "#    plt.show()\n",
    "    return melted\n",
    "\n",
    "# Interaction is not significant after midterm scores are scaled to\n",
    "# same range as quizzes.\n",
    "\n",
    "melted = _anova(df_sleep, df_roster)\n",
    "melted.head()"
   ]
  },
  {
   "cell_type": "code",
   "execution_count": 23,
   "metadata": {
    "collapsed": false
   },
   "outputs": [
    {
     "data": {
      "text/plain": [
       "ANOVA of scores by waketime x bedtime x assessment                                                        Df Sum Sq Mean Sq\n",
       "C(waketime_category)                                     1   46.2   46.19\n",
       "C(bedtime_category)                                      1   14.7   14.70\n",
       "C(assessment)                                           10  383.8   38.38\n",
       "C(waketime_category):C(bedtime_category)                 1    0.5    0.50\n",
       "C(waketime_category):C(assessment)                      10   11.8    1.18\n",
       "C(bedtime_category):C(assessment)                       10   21.4    2.14\n",
       "C(waketime_category):C(bedtime_category):C(assessment)  10    4.1    0.41\n",
       "Residuals                                              869 2803.9    3.23\n",
       "                                                       F value   Pr(>F)    \n",
       "C(waketime_category)                                    14.315 0.000165 ***\n",
       "C(bedtime_category)                                      4.557 0.033063 *  \n",
       "C(assessment)                                           11.895  < 2e-16 ***\n",
       "C(waketime_category):C(bedtime_category)                 0.156 0.692886    \n",
       "C(waketime_category):C(assessment)                       0.364 0.961727    \n",
       "C(bedtime_category):C(assessment)                        0.662 0.760422    \n",
       "C(waketime_category):C(bedtime_category):C(assessment)   0.128 0.999456    \n",
       "Residuals                                                                  \n",
       "---\n",
       "Signif. codes:  0 ‘***’ 0.001 ‘**’ 0.01 ‘*’ 0.05 ‘.’ 0.1 ‘ ’ 1\n",
       "33 observations deleted due to missingness\n"
      ]
     },
     "metadata": {},
     "output_type": "display_data"
    }
   ],
   "source": [
    "%%R --input melted\n",
    "\n",
    "cat(\"ANOVA of scores by waketime x bedtime x assessment\")\n",
    "\n",
    "fit <- aov(value ~ C(waketime_category) * C(bedtime_category)\n",
    "           * C(assessment), melted)\n",
    "summary(fit)"
   ]
  },
  {
   "cell_type": "markdown",
   "metadata": {},
   "source": [
    "## ANOVA: scores by mean bedtime x mean wake time x morning/night person"
   ]
  },
  {
   "cell_type": "code",
   "execution_count": 24,
   "metadata": {
    "collapsed": false,
    "scrolled": false
   },
   "outputs": [
    {
     "data": {
      "text/html": [
       "<div>\n",
       "<table border=\"1\" class=\"dataframe\">\n",
       "  <thead>\n",
       "    <tr style=\"text-align: right;\">\n",
       "      <th></th>\n",
       "      <th>subjectID</th>\n",
       "      <th>mean_bedtime</th>\n",
       "      <th>mean_waketime</th>\n",
       "      <th>morning_night</th>\n",
       "      <th>variable</th>\n",
       "      <th>value</th>\n",
       "    </tr>\n",
       "  </thead>\n",
       "  <tbody>\n",
       "    <tr>\n",
       "      <th>0</th>\n",
       "      <td>MBL004</td>\n",
       "      <td>51087.0</td>\n",
       "      <td>31772.0</td>\n",
       "      <td>No preference</td>\n",
       "      <td>Quiz_1</td>\n",
       "      <td>9.5</td>\n",
       "    </tr>\n",
       "    <tr>\n",
       "      <th>1</th>\n",
       "      <td>MBL005</td>\n",
       "      <td>52273.0</td>\n",
       "      <td>34533.0</td>\n",
       "      <td>Night person</td>\n",
       "      <td>Quiz_1</td>\n",
       "      <td>10.0</td>\n",
       "    </tr>\n",
       "    <tr>\n",
       "      <th>2</th>\n",
       "      <td>MBL008</td>\n",
       "      <td>46126.0</td>\n",
       "      <td>35137.0</td>\n",
       "      <td>Night person</td>\n",
       "      <td>Quiz_1</td>\n",
       "      <td>8.0</td>\n",
       "    </tr>\n",
       "    <tr>\n",
       "      <th>3</th>\n",
       "      <td>MBL026</td>\n",
       "      <td>47369.0</td>\n",
       "      <td>29857.0</td>\n",
       "      <td>Night person</td>\n",
       "      <td>Quiz_1</td>\n",
       "      <td>8.5</td>\n",
       "    </tr>\n",
       "    <tr>\n",
       "      <th>4</th>\n",
       "      <td>MBL033</td>\n",
       "      <td>41451.0</td>\n",
       "      <td>29927.0</td>\n",
       "      <td>No preference</td>\n",
       "      <td>Quiz_1</td>\n",
       "      <td>10.0</td>\n",
       "    </tr>\n",
       "  </tbody>\n",
       "</table>\n",
       "</div>"
      ],
      "text/plain": [
       "  subjectID  mean_bedtime  mean_waketime  morning_night variable  value\n",
       "0    MBL004       51087.0        31772.0  No preference   Quiz_1    9.5\n",
       "1    MBL005       52273.0        34533.0   Night person   Quiz_1   10.0\n",
       "2    MBL008       46126.0        35137.0   Night person   Quiz_1    8.0\n",
       "3    MBL026       47369.0        29857.0   Night person   Quiz_1    8.5\n",
       "4    MBL033       41451.0        29927.0  No preference   Quiz_1   10.0"
      ]
     },
     "execution_count": 24,
     "metadata": {},
     "output_type": "execute_result"
    }
   ],
   "source": [
    "def _anova(df_sleep, df_roster):\n",
    "    tmp = df_roster.copy()\n",
    "    tmp.loc[:, 'mean_bedtime'] = (df_sleep.groupby('subjectID')\n",
    "                                  ['startDateTime'].agg(get_time_stat, \n",
    "                                                        flip=True))\n",
    "    tmp.loc[:, 'mean_waketime'] = (df_sleep.groupby('subjectID')\n",
    "                                   ['endDateTime'].agg(get_time_stat,\n",
    "                                                       flip=False))\n",
    "\n",
    "    _col = 'Are_you_a_morning_or_night_person___when_do_you_feel_most_productive__'\n",
    "    tmp = tmp.rename(columns={_col: 'morning_night'}).dropna()\n",
    "\n",
    "    tmp.loc[:, 'mean_bedtime']= tmp.loc[:, 'mean_bedtime'].dt.total_seconds()\n",
    "    tmp.loc[:, 'mean_waketime'] = tmp.loc[:, 'mean_waketime'].dt.total_seconds()\n",
    "\n",
    "\n",
    "    assessments = [j for j, _ in utils.assessment_dates]\n",
    "\n",
    "    id_vars = ['subjectID', 'mean_bedtime', 'mean_waketime', 'morning_night']\n",
    "    return pd.melt(tmp, id_vars=id_vars, value_vars=assessments)\n",
    "\n",
    "\n",
    "melted = _anova(df_sleep, df_roster)\n",
    "melted.head()"
   ]
  },
  {
   "cell_type": "code",
   "execution_count": 25,
   "metadata": {
    "collapsed": false
   },
   "outputs": [
    {
     "data": {
      "text/plain": [
       "Analysis of Variance Table\n",
       "\n",
       "Response: value\n",
       "                                             Df Sum Sq Mean Sq F value Pr(>F)\n",
       "mean_bedtime                                  1    503  503.14  0.4250 0.5160\n",
       "mean_waketime                                 1     32   32.37  0.0273 0.8690\n",
       "C(morning_night)                              2    389  194.38  0.1642 0.8488\n",
       "mean_bedtime:mean_waketime                    1      5    4.70  0.0040 0.9499\n",
       "mean_bedtime:C(morning_night)                 2     89   44.66  0.0377 0.9630\n",
       "mean_waketime:C(morning_night)                1      3    3.22  0.0027 0.9585\n",
       "mean_bedtime:mean_waketime:C(morning_night)   1    202  201.59  0.1703 0.6808\n",
       "Residuals                                   100 118392 1183.92               \n"
      ]
     },
     "metadata": {},
     "output_type": "display_data"
    }
   ],
   "source": [
    "%%R --input melted\n",
    "\n",
    "fit <- aov(value ~ mean_bedtime * mean_waketime * C(morning_night), \n",
    "           data=melted)\n",
    "anova(fit)"
   ]
  },
  {
   "cell_type": "markdown",
   "metadata": {},
   "source": [
    "## ANOVA: scores by mean bedtime x mean wake time x assessment"
   ]
  },
  {
   "cell_type": "code",
   "execution_count": null,
   "metadata": {
    "collapsed": true
   },
   "outputs": [],
   "source": []
  },
  {
   "cell_type": "markdown",
   "metadata": {},
   "source": [
    "## ANOVA: overall score at end of semester by mean bedtime and mean wake-up time"
   ]
  },
  {
   "cell_type": "code",
   "execution_count": 26,
   "metadata": {
    "collapsed": false
   },
   "outputs": [
    {
     "data": {
      "text/html": [
       "<div>\n",
       "<table border=\"1\" class=\"dataframe\">\n",
       "  <thead>\n",
       "    <tr style=\"text-align: right;\">\n",
       "      <th></th>\n",
       "      <th>overall_score</th>\n",
       "      <th>mean_bedtime</th>\n",
       "      <th>mean_waketime</th>\n",
       "      <th>cut_bed_med</th>\n",
       "      <th>cut_bed_thirds</th>\n",
       "      <th>cut_wake_med</th>\n",
       "      <th>cut_wake_thirds</th>\n",
       "    </tr>\n",
       "    <tr>\n",
       "      <th>subjectID</th>\n",
       "      <th></th>\n",
       "      <th></th>\n",
       "      <th></th>\n",
       "      <th></th>\n",
       "      <th></th>\n",
       "      <th></th>\n",
       "      <th></th>\n",
       "    </tr>\n",
       "  </thead>\n",
       "  <tbody>\n",
       "    <tr>\n",
       "      <th>MBL001</th>\n",
       "      <td>291.0</td>\n",
       "      <td>49416.0</td>\n",
       "      <td>30602.0</td>\n",
       "      <td>before_med</td>\n",
       "      <td>mid</td>\n",
       "      <td>before_med</td>\n",
       "      <td>early</td>\n",
       "    </tr>\n",
       "    <tr>\n",
       "      <th>MBL002</th>\n",
       "      <td>281.5</td>\n",
       "      <td>53824.0</td>\n",
       "      <td>32946.0</td>\n",
       "      <td>after_med</td>\n",
       "      <td>late</td>\n",
       "      <td>before_med</td>\n",
       "      <td>mid</td>\n",
       "    </tr>\n",
       "    <tr>\n",
       "      <th>MBL003</th>\n",
       "      <td>239.5</td>\n",
       "      <td>45123.0</td>\n",
       "      <td>30275.0</td>\n",
       "      <td>before_med</td>\n",
       "      <td>early</td>\n",
       "      <td>before_med</td>\n",
       "      <td>early</td>\n",
       "    </tr>\n",
       "    <tr>\n",
       "      <th>MBL004</th>\n",
       "      <td>295.0</td>\n",
       "      <td>51087.0</td>\n",
       "      <td>31772.0</td>\n",
       "      <td>after_med</td>\n",
       "      <td>mid</td>\n",
       "      <td>before_med</td>\n",
       "      <td>early</td>\n",
       "    </tr>\n",
       "    <tr>\n",
       "      <th>MBL005</th>\n",
       "      <td>291.5</td>\n",
       "      <td>52273.0</td>\n",
       "      <td>34533.0</td>\n",
       "      <td>after_med</td>\n",
       "      <td>late</td>\n",
       "      <td>after_med</td>\n",
       "      <td>mid</td>\n",
       "    </tr>\n",
       "  </tbody>\n",
       "</table>\n",
       "</div>"
      ],
      "text/plain": [
       "           overall_score  mean_bedtime  mean_waketime cut_bed_med  \\\n",
       "subjectID                                                           \n",
       "MBL001             291.0       49416.0        30602.0  before_med   \n",
       "MBL002             281.5       53824.0        32946.0   after_med   \n",
       "MBL003             239.5       45123.0        30275.0  before_med   \n",
       "MBL004             295.0       51087.0        31772.0   after_med   \n",
       "MBL005             291.5       52273.0        34533.0   after_med   \n",
       "\n",
       "          cut_bed_thirds cut_wake_med cut_wake_thirds  \n",
       "subjectID                                              \n",
       "MBL001               mid   before_med           early  \n",
       "MBL002              late   before_med             mid  \n",
       "MBL003             early   before_med           early  \n",
       "MBL004               mid   before_med           early  \n",
       "MBL005              late    after_med             mid  "
      ]
     },
     "execution_count": 26,
     "metadata": {},
     "output_type": "execute_result"
    }
   ],
   "source": [
    "def _anova(df_sleep, df_roster):\n",
    "    tmp = df_roster.copy()\n",
    "\n",
    "    # Get mean bedtime and mean waketime in seconds.\n",
    "    tmp.loc[:, 'mean_bedtime'] = (df_sleep.groupby('subjectID')\n",
    "                                  .startDateTime.agg(get_time_stat, flip=True)\n",
    "                                  .dt.total_seconds())\n",
    "    tmp.loc[:, 'mean_waketime'] = (df_sleep.groupby('subjectID')\n",
    "                                   .endDateTime.agg(get_time_stat, flip=False)\n",
    "                                   .dt.total_seconds())\n",
    "\n",
    "    # Cut bedtime at median and in thirds.\n",
    "    tmp.loc[:, 'cut_bed_med'] = pd.qcut(tmp['mean_bedtime'], 2, \n",
    "                                        labels=['before_med', 'after_med'])\n",
    "    tmp.loc[:, 'cut_bed_thirds'] = pd.qcut(tmp['mean_bedtime'], 3,\n",
    "                                           labels=['early', 'mid', 'late'])\n",
    "\n",
    "    # Cut waketime at median and in thirds.\n",
    "    tmp.loc[:, 'cut_wake_med'] = pd.qcut(tmp['mean_waketime'], 2,\n",
    "                                         labels=['before_med', 'after_med'])\n",
    "    tmp.loc[:, 'cut_wake_thirds'] = pd.qcut(tmp['mean_waketime'], 3,\n",
    "                                            labels=['early', 'mid', 'late'])\n",
    "\n",
    "    return tmp.filter(regex='overall_score|mean_|cut_').dropna()\n",
    "\n",
    "tmp = _anova(df_sleep, df_roster)\n",
    "tmp.head()"
   ]
  },
  {
   "cell_type": "markdown",
   "metadata": {},
   "source": [
    "### Median split"
   ]
  },
  {
   "cell_type": "code",
   "execution_count": 27,
   "metadata": {
    "collapsed": false
   },
   "outputs": [
    {
     "name": "stderr",
     "output_type": "stream",
     "text": [
      "/Users/jakubkaczmarzyk/anaconda/envs/fitbit/lib/python3.6/site-packages/rpy2/robjects/pandas2ri.py:57: UserWarning: Error while trying to convert the column \"cut_bed_med\". Fall back to string conversion. The error is: function takes at most 1 argument (2 given)\n",
      "  (name, str(e)))\n",
      "/Users/jakubkaczmarzyk/anaconda/envs/fitbit/lib/python3.6/site-packages/rpy2/robjects/pandas2ri.py:57: UserWarning: Error while trying to convert the column \"cut_bed_thirds\". Fall back to string conversion. The error is: function takes at most 1 argument (2 given)\n",
      "  (name, str(e)))\n",
      "/Users/jakubkaczmarzyk/anaconda/envs/fitbit/lib/python3.6/site-packages/rpy2/robjects/pandas2ri.py:57: UserWarning: Error while trying to convert the column \"cut_wake_med\". Fall back to string conversion. The error is: function takes at most 1 argument (2 given)\n",
      "  (name, str(e)))\n",
      "/Users/jakubkaczmarzyk/anaconda/envs/fitbit/lib/python3.6/site-packages/rpy2/robjects/pandas2ri.py:57: UserWarning: Error while trying to convert the column \"cut_wake_thirds\". Fall back to string conversion. The error is: function takes at most 1 argument (2 given)\n",
      "  (name, str(e)))\n"
     ]
    },
    {
     "data": {
      "text/plain": [
       "Type I\n",
       "Analysis of Variance Table\n",
       "\n",
       "Response: overall_score\n",
       "                               Df Sum Sq Mean Sq F value  Pr(>F)  \n",
       "C(cut_bed_med)                  1  10986 10985.9  5.0000 0.02806 *\n",
       "C(cut_wake_med)                 1  10600 10599.9  4.8243 0.03088 *\n",
       "C(cut_bed_med):C(cut_wake_med)  1    124   124.0  0.0565 0.81279  \n",
       "Residuals                      82 180168  2197.2                  \n",
       "---\n",
       "Signif. codes:  0 ‘***’ 0.001 ‘**’ 0.01 ‘*’ 0.05 ‘.’ 0.1 ‘ ’ 1\n",
       "\n",
       "Type III (default in SPSS)\n",
       "Single term deletions\n",
       "\n",
       "Model:\n",
       "overall_score ~ C(cut_bed_med) * C(cut_wake_med)\n",
       "                               Df Sum of Sq    RSS    AIC F value Pr(>F)  \n",
       "<none>                                      180168 665.67                 \n",
       "C(cut_bed_med)                  1    1780.3 181949 664.51  0.8103 0.3707  \n",
       "C(cut_wake_med)                 1    6508.6 186677 666.72  2.9623 0.0890 .\n",
       "C(cut_bed_med):C(cut_wake_med)  1     124.0 180292 663.73  0.0565 0.8128  \n",
       "---\n",
       "Signif. codes:  0 ‘***’ 0.001 ‘**’ 0.01 ‘*’ 0.05 ‘.’ 0.1 ‘ ’ 1\n"
      ]
     },
     "metadata": {},
     "output_type": "display_data"
    }
   ],
   "source": [
    "%%R --input tmp\n",
    "\n",
    "# ANOVA\n",
    "# DV: overall score at end of semester\n",
    "# IV: mean bedtime (before/after median)\n",
    "# IV: mean wake-up time (before/after median) \n",
    "\n",
    "fit <- aov(overall_score ~ C(cut_bed_med) * C(cut_wake_med), data=tmp)\n",
    "\n",
    "cat(\"Type I\\n\")\n",
    "print(anova(fit))\n",
    "\n",
    "cat(\"\\nType III (default in SPSS)\\n\")\n",
    "print(drop1(fit, ~., test=\"F\"))"
   ]
  },
  {
   "cell_type": "markdown",
   "metadata": {},
   "source": [
    "### Split in thirds"
   ]
  },
  {
   "cell_type": "code",
   "execution_count": 28,
   "metadata": {
    "collapsed": false,
    "scrolled": false
   },
   "outputs": [
    {
     "data": {
      "text/plain": [
       "Type I\n",
       "Analysis of Variance Table\n",
       "\n",
       "Response: overall_score\n",
       "                                     Df Sum Sq Mean Sq F value   Pr(>F)   \n",
       "C(cut_bed_thirds)                     2  29837 14918.3  7.1092 0.001468 **\n",
       "C(cut_wake_thirds)                    2   4817  2408.5  1.1478 0.322718   \n",
       "C(cut_bed_thirds):C(cut_wake_thirds)  4   5644  1411.0  0.6724 0.613113   \n",
       "Residuals                            77 161581  2098.4                    \n",
       "---\n",
       "Signif. codes:  0 ‘***’ 0.001 ‘**’ 0.01 ‘*’ 0.05 ‘.’ 0.1 ‘ ’ 1\n",
       "\n",
       "Type III (default in SPSS)\n",
       "Single term deletions\n",
       "\n",
       "Model:\n",
       "overall_score ~ C(cut_bed_thirds) * C(cut_wake_thirds)\n",
       "                                     Df Sum of Sq    RSS    AIC F value Pr(>F)\n",
       "<none>                                            161581 666.30               \n",
       "C(cut_bed_thirds)                     2      11.4 161592 662.31  0.0027 0.9973\n",
       "C(cut_wake_thirds)                    2      43.0 161624 662.33  0.0103 0.9898\n",
       "C(cut_bed_thirds):C(cut_wake_thirds)  4    5644.1 167225 661.26  0.6724 0.6131\n"
      ]
     },
     "metadata": {},
     "output_type": "display_data"
    }
   ],
   "source": [
    "%%R --input tmp\n",
    "\n",
    "# ANOVA\n",
    "# DV: overall score at end of semester (excluding final exam)\n",
    "# IV: mean bedtime (early, mid, late 1/3s)\n",
    "# IV: mean wake-up time (early, mid, late 1/3s)\n",
    "\n",
    "fit <- aov(overall_score ~ C(cut_bed_thirds) * C(cut_wake_thirds), data=tmp)\n",
    "\n",
    "cat(\"Type I\\n\")\n",
    "print(anova(fit))\n",
    "\n",
    "cat(\"\\nType III (default in SPSS)\\n\")\n",
    "print(drop1(fit, ~., test=\"F\"))"
   ]
  },
  {
   "cell_type": "markdown",
   "metadata": {},
   "source": [
    "# Scores by sleep duration and quality"
   ]
  },
  {
   "cell_type": "markdown",
   "metadata": {},
   "source": [
    "## T-test of assessment scores by outer thirds of sleep duration and quality"
   ]
  },
  {
   "cell_type": "code",
   "execution_count": 29,
   "metadata": {
    "collapsed": false
   },
   "outputs": [
    {
     "name": "stdout",
     "output_type": "stream",
     "text": [
      "T-test of assessment scores between outer thirds of subjects by sleep duration and quality.\n"
     ]
    },
    {
     "data": {
      "text/html": [
       "<div>\n",
       "<table border=\"1\" class=\"dataframe\">\n",
       "  <thead>\n",
       "    <tr style=\"text-align: right;\">\n",
       "      <th></th>\n",
       "      <th>assessment</th>\n",
       "      <th>mean_lower_third</th>\n",
       "      <th>mean_upper_third</th>\n",
       "      <th>T-score</th>\n",
       "      <th>p-value</th>\n",
       "    </tr>\n",
       "    <tr>\n",
       "      <th>measure</th>\n",
       "      <th></th>\n",
       "      <th></th>\n",
       "      <th></th>\n",
       "      <th></th>\n",
       "      <th></th>\n",
       "    </tr>\n",
       "  </thead>\n",
       "  <tbody>\n",
       "    <tr>\n",
       "      <th>duration</th>\n",
       "      <td>Quiz_1</td>\n",
       "      <td>8.931034</td>\n",
       "      <td>9.482759</td>\n",
       "      <td>-1.714325</td>\n",
       "      <td>0.091999</td>\n",
       "    </tr>\n",
       "    <tr>\n",
       "      <th>duration</th>\n",
       "      <td>Quiz_2</td>\n",
       "      <td>7.396552</td>\n",
       "      <td>8.224138</td>\n",
       "      <td>-1.561853</td>\n",
       "      <td>0.123957</td>\n",
       "    </tr>\n",
       "    <tr>\n",
       "      <th>duration</th>\n",
       "      <td>Quiz_3</td>\n",
       "      <td>6.517857</td>\n",
       "      <td>7.862069</td>\n",
       "      <td>-2.420254</td>\n",
       "      <td>0.018840</td>\n",
       "    </tr>\n",
       "    <tr>\n",
       "      <th>duration</th>\n",
       "      <td>Midterm_1</td>\n",
       "      <td>66.603448</td>\n",
       "      <td>75.775862</td>\n",
       "      <td>-2.417693</td>\n",
       "      <td>0.018899</td>\n",
       "    </tr>\n",
       "    <tr>\n",
       "      <th>duration</th>\n",
       "      <td>Quiz_4</td>\n",
       "      <td>7.267857</td>\n",
       "      <td>8.666667</td>\n",
       "      <td>-2.996618</td>\n",
       "      <td>0.004147</td>\n",
       "    </tr>\n",
       "    <tr>\n",
       "      <th>duration</th>\n",
       "      <td>Quiz_5</td>\n",
       "      <td>8.076923</td>\n",
       "      <td>8.758621</td>\n",
       "      <td>-2.379059</td>\n",
       "      <td>0.020991</td>\n",
       "    </tr>\n",
       "    <tr>\n",
       "      <th>duration</th>\n",
       "      <td>Quiz_6</td>\n",
       "      <td>6.553571</td>\n",
       "      <td>7.357143</td>\n",
       "      <td>-1.628398</td>\n",
       "      <td>0.109262</td>\n",
       "    </tr>\n",
       "    <tr>\n",
       "      <th>duration</th>\n",
       "      <td>Midterm_2</td>\n",
       "      <td>74.178571</td>\n",
       "      <td>81.410714</td>\n",
       "      <td>-2.698998</td>\n",
       "      <td>0.009265</td>\n",
       "    </tr>\n",
       "    <tr>\n",
       "      <th>duration</th>\n",
       "      <td>Quiz_7</td>\n",
       "      <td>7.980769</td>\n",
       "      <td>8.203704</td>\n",
       "      <td>-0.373337</td>\n",
       "      <td>0.710445</td>\n",
       "    </tr>\n",
       "    <tr>\n",
       "      <th>duration</th>\n",
       "      <td>Quiz_8</td>\n",
       "      <td>7.074074</td>\n",
       "      <td>7.461538</td>\n",
       "      <td>-0.536897</td>\n",
       "      <td>0.593673</td>\n",
       "    </tr>\n",
       "    <tr>\n",
       "      <th>duration</th>\n",
       "      <td>Midterm_3</td>\n",
       "      <td>66.553571</td>\n",
       "      <td>77.879310</td>\n",
       "      <td>-2.673596</td>\n",
       "      <td>0.009859</td>\n",
       "    </tr>\n",
       "    <tr>\n",
       "      <th>quality</th>\n",
       "      <td>Quiz_1</td>\n",
       "      <td>9.206897</td>\n",
       "      <td>9.571429</td>\n",
       "      <td>-1.591305</td>\n",
       "      <td>0.117273</td>\n",
       "    </tr>\n",
       "    <tr>\n",
       "      <th>quality</th>\n",
       "      <td>Quiz_2</td>\n",
       "      <td>7.620690</td>\n",
       "      <td>8.551724</td>\n",
       "      <td>-1.934928</td>\n",
       "      <td>0.058056</td>\n",
       "    </tr>\n",
       "    <tr>\n",
       "      <th>quality</th>\n",
       "      <td>Quiz_3</td>\n",
       "      <td>6.910714</td>\n",
       "      <td>7.879310</td>\n",
       "      <td>-2.083370</td>\n",
       "      <td>0.041878</td>\n",
       "    </tr>\n",
       "    <tr>\n",
       "      <th>quality</th>\n",
       "      <td>Midterm_1</td>\n",
       "      <td>66.724138</td>\n",
       "      <td>76.120690</td>\n",
       "      <td>-2.468849</td>\n",
       "      <td>0.016632</td>\n",
       "    </tr>\n",
       "    <tr>\n",
       "      <th>quality</th>\n",
       "      <td>Quiz_4</td>\n",
       "      <td>7.037037</td>\n",
       "      <td>8.785714</td>\n",
       "      <td>-3.191724</td>\n",
       "      <td>0.002379</td>\n",
       "    </tr>\n",
       "    <tr>\n",
       "      <th>quality</th>\n",
       "      <td>Quiz_5</td>\n",
       "      <td>8.288462</td>\n",
       "      <td>8.896552</td>\n",
       "      <td>-2.052490</td>\n",
       "      <td>0.045075</td>\n",
       "    </tr>\n",
       "    <tr>\n",
       "      <th>quality</th>\n",
       "      <td>Quiz_6</td>\n",
       "      <td>6.538462</td>\n",
       "      <td>7.586207</td>\n",
       "      <td>-2.051625</td>\n",
       "      <td>0.045162</td>\n",
       "    </tr>\n",
       "    <tr>\n",
       "      <th>quality</th>\n",
       "      <td>Midterm_2</td>\n",
       "      <td>73.277778</td>\n",
       "      <td>82.534483</td>\n",
       "      <td>-3.271157</td>\n",
       "      <td>0.001869</td>\n",
       "    </tr>\n",
       "    <tr>\n",
       "      <th>quality</th>\n",
       "      <td>Quiz_7</td>\n",
       "      <td>7.750000</td>\n",
       "      <td>8.571429</td>\n",
       "      <td>-1.399580</td>\n",
       "      <td>0.167577</td>\n",
       "    </tr>\n",
       "    <tr>\n",
       "      <th>quality</th>\n",
       "      <td>Quiz_8</td>\n",
       "      <td>6.820000</td>\n",
       "      <td>6.982759</td>\n",
       "      <td>-0.219549</td>\n",
       "      <td>0.827082</td>\n",
       "    </tr>\n",
       "    <tr>\n",
       "      <th>quality</th>\n",
       "      <td>Midterm_3</td>\n",
       "      <td>67.326923</td>\n",
       "      <td>79.879310</td>\n",
       "      <td>-2.937718</td>\n",
       "      <td>0.004885</td>\n",
       "    </tr>\n",
       "  </tbody>\n",
       "</table>\n",
       "</div>"
      ],
      "text/plain": [
       "         assessment  mean_lower_third  mean_upper_third   T-score   p-value\n",
       "measure                                                                    \n",
       "duration     Quiz_1          8.931034          9.482759 -1.714325  0.091999\n",
       "duration     Quiz_2          7.396552          8.224138 -1.561853  0.123957\n",
       "duration     Quiz_3          6.517857          7.862069 -2.420254  0.018840\n",
       "duration  Midterm_1         66.603448         75.775862 -2.417693  0.018899\n",
       "duration     Quiz_4          7.267857          8.666667 -2.996618  0.004147\n",
       "duration     Quiz_5          8.076923          8.758621 -2.379059  0.020991\n",
       "duration     Quiz_6          6.553571          7.357143 -1.628398  0.109262\n",
       "duration  Midterm_2         74.178571         81.410714 -2.698998  0.009265\n",
       "duration     Quiz_7          7.980769          8.203704 -0.373337  0.710445\n",
       "duration     Quiz_8          7.074074          7.461538 -0.536897  0.593673\n",
       "duration  Midterm_3         66.553571         77.879310 -2.673596  0.009859\n",
       "quality      Quiz_1          9.206897          9.571429 -1.591305  0.117273\n",
       "quality      Quiz_2          7.620690          8.551724 -1.934928  0.058056\n",
       "quality      Quiz_3          6.910714          7.879310 -2.083370  0.041878\n",
       "quality   Midterm_1         66.724138         76.120690 -2.468849  0.016632\n",
       "quality      Quiz_4          7.037037          8.785714 -3.191724  0.002379\n",
       "quality      Quiz_5          8.288462          8.896552 -2.052490  0.045075\n",
       "quality      Quiz_6          6.538462          7.586207 -2.051625  0.045162\n",
       "quality   Midterm_2         73.277778         82.534483 -3.271157  0.001869\n",
       "quality      Quiz_7          7.750000          8.571429 -1.399580  0.167577\n",
       "quality      Quiz_8          6.820000          6.982759 -0.219549  0.827082\n",
       "quality   Midterm_3         67.326923         79.879310 -2.937718  0.004885"
      ]
     },
     "execution_count": 29,
     "metadata": {},
     "output_type": "execute_result"
    }
   ],
   "source": [
    "def _ttest(df_sleep, df_roster):\n",
    "    \"\"\"Return pd.DataFrame of t-test results of assessment scores between\n",
    "    outer thirds of subjects by sleep duration and quality.\n",
    "    \"\"\"\n",
    "    from scipy import stats\n",
    "    tmp = df_roster.copy()\n",
    "    tmp.loc[:, 'mean_dur'] = get_sleep_measure_stat(df_sleep, 'sleepDuration')\n",
    "    tmp.loc[:, 'mean_qual'] = get_sleep_measure_stat(df_sleep, \n",
    "                                                     'sleepQualityScoreA')\n",
    "    tmp.loc[:, 'duration_group'] = pd.qcut(tmp.loc[:, 'mean_dur'], 3,\n",
    "                                           labels=[0, 1, 2])\n",
    "    tmp.loc[:, 'quality_group'] = pd.qcut(tmp.loc[:, 'mean_qual'], 3,\n",
    "                                          labels=[0, 1, 2])\n",
    "    results = []\n",
    "    for group in ['duration', 'quality']:\n",
    "        column = \"{}_group\".format(group)\n",
    "        for assessment, _ in utils.assessment_dates:\n",
    "            a = tmp.loc[tmp[column]==0, assessment]\n",
    "            b = tmp.loc[tmp[column]==2, assessment]\n",
    "            t, p = stats.ttest_ind(a, b, nan_policy='omit')\n",
    "            results.append((group, assessment, a.mean(), b.mean(), t, p))\n",
    "    columns = ['measure', 'assessment', 'mean_lower_third', 'mean_upper_third',\n",
    "               'T-score', 'p-value']\n",
    "\n",
    "    return pd.DataFrame(results, columns=columns).set_index('measure')\n",
    "\n",
    "print(\"T-test of assessment scores between outer thirds of subjects by \"\n",
    "      \"sleep duration and quality.\")\n",
    "_ttest(df_sleep, df_roster)"
   ]
  },
  {
   "cell_type": "markdown",
   "metadata": {},
   "source": [
    "## ANOVA: sleep (duration & quality) x morning/night/no-preference"
   ]
  },
  {
   "cell_type": "code",
   "execution_count": 30,
   "metadata": {
    "collapsed": false,
    "scrolled": true
   },
   "outputs": [
    {
     "data": {
      "text/html": [
       "<div>\n",
       "<table border=\"1\" class=\"dataframe\">\n",
       "  <thead>\n",
       "    <tr style=\"text-align: right;\">\n",
       "      <th></th>\n",
       "      <th>mean_dur</th>\n",
       "      <th>mean_qual</th>\n",
       "      <th>preference</th>\n",
       "    </tr>\n",
       "    <tr>\n",
       "      <th>subjectID</th>\n",
       "      <th></th>\n",
       "      <th></th>\n",
       "      <th></th>\n",
       "    </tr>\n",
       "  </thead>\n",
       "  <tbody>\n",
       "    <tr>\n",
       "      <th>MBL002</th>\n",
       "      <td>356.969072</td>\n",
       "      <td>71.061856</td>\n",
       "      <td>Night person</td>\n",
       "    </tr>\n",
       "    <tr>\n",
       "      <th>MBL003</th>\n",
       "      <td>472.290000</td>\n",
       "      <td>84.830000</td>\n",
       "      <td>Night person</td>\n",
       "    </tr>\n",
       "    <tr>\n",
       "      <th>MBL004</th>\n",
       "      <td>397.845238</td>\n",
       "      <td>78.083333</td>\n",
       "      <td>No preference</td>\n",
       "    </tr>\n",
       "    <tr>\n",
       "      <th>MBL005</th>\n",
       "      <td>424.040404</td>\n",
       "      <td>83.272727</td>\n",
       "      <td>Night person</td>\n",
       "    </tr>\n",
       "    <tr>\n",
       "      <th>MBL007</th>\n",
       "      <td>477.213483</td>\n",
       "      <td>88.112360</td>\n",
       "      <td>Night person</td>\n",
       "    </tr>\n",
       "  </tbody>\n",
       "</table>\n",
       "</div>"
      ],
      "text/plain": [
       "             mean_dur  mean_qual     preference\n",
       "subjectID                                      \n",
       "MBL002     356.969072  71.061856   Night person\n",
       "MBL003     472.290000  84.830000   Night person\n",
       "MBL004     397.845238  78.083333  No preference\n",
       "MBL005     424.040404  83.272727   Night person\n",
       "MBL007     477.213483  88.112360   Night person"
      ]
     },
     "execution_count": 30,
     "metadata": {},
     "output_type": "execute_result"
    }
   ],
   "source": [
    "pref_col = \"Are_you_a_morning_or_night_person___when_do_you_feel_most_productive__\"\n",
    "\n",
    "tmp = df_roster.copy()\n",
    "tmp.loc[:, 'mean_dur'] = get_sleep_measure_stat(df_sleep, 'sleepDuration')\n",
    "tmp.loc[:, 'mean_qual'] = get_sleep_measure_stat(df_sleep, 'sleepQualityScoreA')\n",
    "tmp = tmp.loc[:, ['mean_dur', 'mean_qual', pref_col]]\n",
    "tmp.rename(columns={pref_col: 'preference'}, inplace=True)\n",
    "tmp.dropna(inplace=True)\n",
    "check_dfs()\n",
    "tmp.head()"
   ]
  },
  {
   "cell_type": "code",
   "execution_count": 31,
   "metadata": {
    "collapsed": false,
    "scrolled": false
   },
   "outputs": [
    {
     "data": {
      "text/plain": [
       "ANOVA of sleep duration x morning/night/no-preference person\n",
       "              Df Sum Sq Mean Sq F value Pr(>F)\n",
       "C(preference)  2    789   394.3   0.214  0.808\n",
       "Residuals     64 118126  1845.7               \n",
       "\n",
       "ANOVA of sleep quality x morning/night/no-preference person\n",
       "              Df Sum Sq Mean Sq F value Pr(>F)\n",
       "C(preference)  2   27.7   13.83   0.497   0.61\n",
       "Residuals     64 1779.2   27.80               \n"
      ]
     },
     "metadata": {},
     "output_type": "display_data"
    }
   ],
   "source": [
    "%%R --input tmp\n",
    "\n",
    "# Duration\n",
    "cat(\"ANOVA of sleep duration x morning/night/no-preference person\\n\")\n",
    "fit <- aov(mean_dur ~ C(preference), data=tmp)\n",
    "print(summary(fit))\n",
    "\n",
    "# Quality\n",
    "cat(\"\\nANOVA of sleep quality x morning/night/no-preference person\\n\")\n",
    "fit <- aov(mean_qual ~ C(preference), data=tmp)\n",
    "print(summary(fit))"
   ]
  },
  {
   "cell_type": "markdown",
   "metadata": {},
   "source": [
    "## Sleep duration/quality x sleep time or wake time"
   ]
  },
  {
   "cell_type": "code",
   "execution_count": 32,
   "metadata": {
    "collapsed": false,
    "scrolled": false
   },
   "outputs": [
    {
     "name": "stdout",
     "output_type": "stream",
     "text": [
      "Median wake time: 09:02:30\n",
      "\n",
      "Sample sizes:\n",
      "bed_group  wake_group   \n",
      "after_2a   after_median     2487\n",
      "           before_median    1107\n",
      "before_2a  after_median     1393\n",
      "           before_median    2799\n",
      "dtype: int64\n",
      "\n",
      "T-tests of sleep duration and sleep quality by bedtime before or after 2am and by waketime before or after mean. The mean_* columns contain mean sleep duration or mean sleep quality.\n",
      "- Those who go to sleep before 2am tend to sleep longer and better.\n",
      "- Those who wake up after median tend to sleep longer and better.\n"
     ]
    },
    {
     "data": {
      "text/html": [
       "<div>\n",
       "<table border=\"1\" class=\"dataframe\">\n",
       "  <thead>\n",
       "    <tr style=\"text-align: right;\">\n",
       "      <th></th>\n",
       "      <th>measure</th>\n",
       "      <th>mean_before</th>\n",
       "      <th>mean_after</th>\n",
       "      <th>p-val</th>\n",
       "      <th>T-score</th>\n",
       "    </tr>\n",
       "    <tr>\n",
       "      <th>group</th>\n",
       "      <th></th>\n",
       "      <th></th>\n",
       "      <th></th>\n",
       "      <th></th>\n",
       "      <th></th>\n",
       "    </tr>\n",
       "  </thead>\n",
       "  <tbody>\n",
       "    <tr>\n",
       "      <th>bed time</th>\n",
       "      <td>sleepDuration</td>\n",
       "      <td>462.277672</td>\n",
       "      <td>388.171953</td>\n",
       "      <td>1.625235e-214</td>\n",
       "      <td>32.268481</td>\n",
       "    </tr>\n",
       "    <tr>\n",
       "      <th>bed time</th>\n",
       "      <td>sleepQualityScoreA</td>\n",
       "      <td>83.378101</td>\n",
       "      <td>76.045353</td>\n",
       "      <td>5.819574e-154</td>\n",
       "      <td>27.037636</td>\n",
       "    </tr>\n",
       "    <tr>\n",
       "      <th>wake time</th>\n",
       "      <td>sleepDuration</td>\n",
       "      <td>398.222734</td>\n",
       "      <td>458.118557</td>\n",
       "      <td>1.260157e-138</td>\n",
       "      <td>-25.578078</td>\n",
       "    </tr>\n",
       "    <tr>\n",
       "      <th>wake time</th>\n",
       "      <td>sleepQualityScoreA</td>\n",
       "      <td>77.805172</td>\n",
       "      <td>82.196134</td>\n",
       "      <td>3.455704e-55</td>\n",
       "      <td>-15.771863</td>\n",
       "    </tr>\n",
       "  </tbody>\n",
       "</table>\n",
       "</div>"
      ],
      "text/plain": [
       "                      measure  mean_before  mean_after          p-val  \\\n",
       "group                                                                   \n",
       "bed time        sleepDuration   462.277672  388.171953  1.625235e-214   \n",
       "bed time   sleepQualityScoreA    83.378101   76.045353  5.819574e-154   \n",
       "wake time       sleepDuration   398.222734  458.118557  1.260157e-138   \n",
       "wake time  sleepQualityScoreA    77.805172   82.196134   3.455704e-55   \n",
       "\n",
       "             T-score  \n",
       "group                 \n",
       "bed time   32.268481  \n",
       "bed time   27.037636  \n",
       "wake time -25.578078  \n",
       "wake time -15.771863  "
      ]
     },
     "execution_count": 32,
     "metadata": {},
     "output_type": "execute_result"
    }
   ],
   "source": [
    "def _map_bedtime(bedtime):\n",
    "    \"\"\"Return category based on bedtime (pd.Timestamp).\"\"\"\n",
    "    mapping = {0: 'before_2a', 1: 'before_2a'}\n",
    "    mapping.update({k: 'after_2a' for k in range(2, 12)})\n",
    "    mapping.update({k: 'before_2a' for k in range(12, 24)})\n",
    "    return mapping[bedtime.hour]\n",
    "\n",
    "\n",
    "def _ttest(df_sleep):\n",
    "    from scipy import stats\n",
    "    \n",
    "    tmp = df_sleep.copy()\n",
    "    tmp.loc[:, 'bed_group'] = tmp['startDateTime'].apply(_map_bedtime)\n",
    "\n",
    "    median = get_time_stat(df_sleep['endDateTime'], stat='median')\n",
    "    median = (pd.datetime.min + median).time()  # from timedelta to time.\n",
    "\n",
    "    tmp.loc[tmp['endDateTime'].dt.time <= median, 'wake_group'] = 'before_median'\n",
    "    tmp.loc[tmp['endDateTime'].dt.time > median, 'wake_group'] = 'after_median'\n",
    "\n",
    "    print(\"Median wake time:\", median)\n",
    "\n",
    "    print(\"\\nSample sizes:\")\n",
    "    print(tmp.groupby(['bed_group', 'wake_group']).size())\n",
    "    \n",
    "    results = []\n",
    "    for measure in ['sleepDuration', 'sleepQualityScoreA']:\n",
    "        a = tmp.loc[tmp['bed_group'] == 'before_2a', measure]\n",
    "        b = tmp.loc[tmp['bed_group'] == 'after_2a', measure]\n",
    "        t, p = stats.ttest_ind(a, b, nan_policy='omit')\n",
    "        results.append(('bed time', measure, a.mean(), b.mean(), p, t))\n",
    "\n",
    "        a = tmp.loc[tmp['wake_group'] == 'before_median', measure]\n",
    "        b = tmp.loc[tmp['wake_group'] == 'after_median', measure]\n",
    "        t, p = stats.ttest_ind(a, b, nan_policy='omit')\n",
    "        results.append(('wake time', measure, a.mean(), b.mean(), p, t))\n",
    "\n",
    "    print(\"\\nT-tests of sleep duration and sleep quality by bedtime before or \"\n",
    "          \"after 2am and by waketime before or after mean. The mean_* columns \"\n",
    "          \"contain mean sleep duration or mean sleep quality.\")\n",
    "    print(\"- Those who go to sleep before 2am tend to sleep longer and better.\")\n",
    "    print(\"- Those who wake up after median tend to sleep longer and better.\")\n",
    "\n",
    "    columns = ['group', 'measure', 'mean_before', 'mean_after', 'p-val', \n",
    "               'T-score']\n",
    "    return pd.DataFrame(results, columns=columns).set_index('group').sort_index()\n",
    "\n",
    "check_dfs()\n",
    "_ttest(df_sleep)"
   ]
  },
  {
   "cell_type": "markdown",
   "metadata": {},
   "source": [
    "# Sleep and exercise"
   ]
  },
  {
   "cell_type": "markdown",
   "metadata": {},
   "source": [
    "## T-test between most and least amount of moderately to very intense activity of ...\n",
    "\n",
    "- Assessment scores\n",
    "- Sleep quality\n",
    "- Sleep quality (but exclude varsity and club athletes from analysis)"
   ]
  },
  {
   "cell_type": "code",
   "execution_count": 33,
   "metadata": {
    "collapsed": false,
    "scrolled": false
   },
   "outputs": [
    {
     "data": {
      "image/png": "[encoded data removed]",
      "text/plain": [
       "<matplotlib.figure.Figure at 0x11c771e10>"
      ]
     },
     "metadata": {},
     "output_type": "display_data"
    }
   ],
   "source": [
    "def _get_exercise_amount(df_mult):\n",
    "    results = []\n",
    "    for subj, data in df_mult.groupby('subjectID'):\n",
    "        # Sum occurrences of MODERATELY and VERY active.\n",
    "        value_counts = data['activityLevel'].value_counts()\n",
    "        value_counts = value_counts[['MODERATELY_ACTIVE', 'VERY_ACTIVE']].sum()\n",
    "        results.append((subj, value_counts))\n",
    "    cols = ['subjectID', 'exercise']\n",
    "    return pd.DataFrame(results, columns=cols).set_index('subjectID')\n",
    "\n",
    "\n",
    "df_mult = utils.load_mult_measures_data()\n",
    "tmp = _get_exercise_amount(df_mult)\n",
    "tmp.plot.hist(title=(\"Histogram of sum of moderately and very active \"\n",
    "                     \"timepoints per subject\"))\n",
    "plt.show()\n",
    "\n",
    "bins = pd.qcut(tmp['exercise'], 2, labels=['lower', 'upper'])\n",
    "tmp = df_roster.copy()\n",
    "tmp.loc[:, 'exercise_category'] = bins"
   ]
  },
  {
   "cell_type": "markdown",
   "metadata": {},
   "source": [
    "### Assessment scores"
   ]
  },
  {
   "cell_type": "code",
   "execution_count": 34,
   "metadata": {
    "collapsed": false
   },
   "outputs": [
    {
     "name": "stdout",
     "output_type": "stream",
     "text": [
      "Overall score by median-split of exercise:\n",
      "T = 0.257; p = 0.797847\n",
      "\n",
      "Assessment scores by median-split of exercise:\n"
     ]
    },
    {
     "data": {
      "text/html": [
       "<div>\n",
       "<table border=\"1\" class=\"dataframe\">\n",
       "  <thead>\n",
       "    <tr style=\"text-align: right;\">\n",
       "      <th></th>\n",
       "      <th>lower_mean</th>\n",
       "      <th>upper_mean</th>\n",
       "      <th>T-score</th>\n",
       "      <th>p-val</th>\n",
       "    </tr>\n",
       "    <tr>\n",
       "      <th>assessment</th>\n",
       "      <th></th>\n",
       "      <th></th>\n",
       "      <th></th>\n",
       "      <th></th>\n",
       "    </tr>\n",
       "  </thead>\n",
       "  <tbody>\n",
       "    <tr>\n",
       "      <th>Quiz_1</th>\n",
       "      <td>9.395349</td>\n",
       "      <td>9.214286</td>\n",
       "      <td>0.744340</td>\n",
       "      <td>0.458773</td>\n",
       "    </tr>\n",
       "    <tr>\n",
       "      <th>Quiz_2</th>\n",
       "      <td>8.204545</td>\n",
       "      <td>7.880952</td>\n",
       "      <td>0.756731</td>\n",
       "      <td>0.451328</td>\n",
       "    </tr>\n",
       "    <tr>\n",
       "      <th>Quiz_3</th>\n",
       "      <td>7.420455</td>\n",
       "      <td>7.357143</td>\n",
       "      <td>0.145213</td>\n",
       "      <td>0.884891</td>\n",
       "    </tr>\n",
       "    <tr>\n",
       "      <th>Midterm_1</th>\n",
       "      <td>75.090909</td>\n",
       "      <td>71.174419</td>\n",
       "      <td>1.284063</td>\n",
       "      <td>0.202609</td>\n",
       "    </tr>\n",
       "    <tr>\n",
       "      <th>Quiz_4</th>\n",
       "      <td>7.928571</td>\n",
       "      <td>7.951220</td>\n",
       "      <td>-0.053277</td>\n",
       "      <td>0.957643</td>\n",
       "    </tr>\n",
       "    <tr>\n",
       "      <th>Quiz_5</th>\n",
       "      <td>8.772727</td>\n",
       "      <td>8.487500</td>\n",
       "      <td>1.170783</td>\n",
       "      <td>0.245077</td>\n",
       "    </tr>\n",
       "    <tr>\n",
       "      <th>Quiz_6</th>\n",
       "      <td>7.256098</td>\n",
       "      <td>6.658537</td>\n",
       "      <td>1.369404</td>\n",
       "      <td>0.174705</td>\n",
       "    </tr>\n",
       "    <tr>\n",
       "      <th>Midterm_2</th>\n",
       "      <td>77.255814</td>\n",
       "      <td>78.392857</td>\n",
       "      <td>-0.485961</td>\n",
       "      <td>0.628275</td>\n",
       "    </tr>\n",
       "    <tr>\n",
       "      <th>Quiz_7</th>\n",
       "      <td>8.134146</td>\n",
       "      <td>7.743902</td>\n",
       "      <td>0.760731</td>\n",
       "      <td>0.449054</td>\n",
       "    </tr>\n",
       "    <tr>\n",
       "      <th>Quiz_8</th>\n",
       "      <td>7.076923</td>\n",
       "      <td>7.536585</td>\n",
       "      <td>-0.814967</td>\n",
       "      <td>0.417572</td>\n",
       "    </tr>\n",
       "    <tr>\n",
       "      <th>Midterm_3</th>\n",
       "      <td>74.630952</td>\n",
       "      <td>74.595238</td>\n",
       "      <td>0.010078</td>\n",
       "      <td>0.991984</td>\n",
       "    </tr>\n",
       "  </tbody>\n",
       "</table>\n",
       "</div>"
      ],
      "text/plain": [
       "            lower_mean  upper_mean   T-score     p-val\n",
       "assessment                                            \n",
       "Quiz_1        9.395349    9.214286  0.744340  0.458773\n",
       "Quiz_2        8.204545    7.880952  0.756731  0.451328\n",
       "Quiz_3        7.420455    7.357143  0.145213  0.884891\n",
       "Midterm_1    75.090909   71.174419  1.284063  0.202609\n",
       "Quiz_4        7.928571    7.951220 -0.053277  0.957643\n",
       "Quiz_5        8.772727    8.487500  1.170783  0.245077\n",
       "Quiz_6        7.256098    6.658537  1.369404  0.174705\n",
       "Midterm_2    77.255814   78.392857 -0.485961  0.628275\n",
       "Quiz_7        8.134146    7.743902  0.760731  0.449054\n",
       "Quiz_8        7.076923    7.536585 -0.814967  0.417572\n",
       "Midterm_3    74.630952   74.595238  0.010078  0.991984"
      ]
     },
     "execution_count": 34,
     "metadata": {},
     "output_type": "execute_result"
    }
   ],
   "source": [
    "def _ttest(df):\n",
    "    from scipy import stats\n",
    "    \n",
    "    # Overall.\n",
    "    a = df.loc[df['exercise_category']=='lower', 'overall_score']\n",
    "    b = df.loc[df['exercise_category']=='upper', 'overall_score']\n",
    "    t, p = stats.ttest_ind(a, b, nan_policy='omit')\n",
    "    print(\"Overall score by median-split of exercise:\")\n",
    "    print(\"T = {:.3f}; p = {:3f}\".format(t, p))\n",
    "\n",
    "    # For each assessment.\n",
    "    results = []\n",
    "    for assessment, _ in utils.assessment_dates:\n",
    "        a = df.loc[df['exercise_category']=='lower', assessment]\n",
    "        b = df.loc[df['exercise_category']=='upper', assessment]\n",
    "        t, p = stats.ttest_ind(a, b, nan_policy='omit')\n",
    "        results.append((assessment, a.mean(), b.mean(), t, p))\n",
    "    \n",
    "    cols = [\"assessment\", \"lower_mean\", \"upper_mean\", \"T-score\", \"p-val\"]\n",
    "    print(\"\\nAssessment scores by median-split of exercise:\")\n",
    "    return pd.DataFrame(results, columns=cols).set_index('assessment')\n",
    "\n",
    "_ttest(tmp)"
   ]
  },
  {
   "cell_type": "markdown",
   "metadata": {},
   "source": [
    "### Sleep quality"
   ]
  },
  {
   "cell_type": "code",
   "execution_count": 35,
   "metadata": {
    "collapsed": false
   },
   "outputs": [
    {
     "name": "stdout",
     "output_type": "stream",
     "text": [
      "T-test of mean sleep quality by median-split of exercise:\n",
      "Lower mean: 283.590909091\n",
      "Upper mean: 280.88372093\n",
      "T = 0.257; p = 0.798\n"
     ]
    }
   ],
   "source": [
    "def _ttest(df):\n",
    "    from scipy import stats\n",
    "    df.loc[:, 'mean_qual'] = get_sleep_measure_stat(df_sleep,\n",
    "                                                     'sleepQualityScoreA')\n",
    "    a = df.loc[df['exercise_category']=='lower', 'overall_score']\n",
    "    b = df.loc[df['exercise_category']=='upper', 'overall_score']\n",
    "    t, p = stats.ttest_ind(a, b, nan_policy='omit')\n",
    "    \n",
    "    print(\"Lower mean:\", a.mean())\n",
    "    print(\"Upper mean:\", b.mean())\n",
    "    print(\"T = {:.3f}; p = {:.3f}\".format(t, p))\n",
    "\n",
    "print(\"T-test of mean sleep quality by median-split of exercise:\")\n",
    "_ttest(tmp)"
   ]
  },
  {
   "cell_type": "markdown",
   "metadata": {},
   "source": [
    "### Sleep quality excluding varisty and club athletes"
   ]
  },
  {
   "cell_type": "code",
   "execution_count": 36,
   "metadata": {
    "collapsed": false
   },
   "outputs": [
    {
     "name": "stdout",
     "output_type": "stream",
     "text": [
      "Lower mean: 282.774193548\n",
      "Upper mean: 270.6\n",
      "T = 0.838; p = 0.406\n"
     ]
    },
    {
     "name": "stderr",
     "output_type": "stream",
     "text": [
      "/Users/jakubkaczmarzyk/anaconda/envs/fitbit/lib/python3.6/site-packages/pandas/core/indexing.py:477: SettingWithCopyWarning: \n",
      "A value is trying to be set on a copy of a slice from a DataFrame.\n",
      "Try using .loc[row_indexer,col_indexer] = value instead\n",
      "\n",
      "See the caveats in the documentation: http://pandas.pydata.org/pandas-docs/stable/indexing.html#indexing-view-versus-copy\n",
      "  self.obj[item] = s\n"
     ]
    }
   ],
   "source": [
    "_ttest(tmp.loc[~tmp['Organized_Sport'].astype(bool), :])"
   ]
  },
  {
   "cell_type": "markdown",
   "metadata": {},
   "source": [
    "## Correlation between exercise and sleep duration/quality"
   ]
  },
  {
   "cell_type": "code",
   "execution_count": 37,
   "metadata": {
    "collapsed": false
   },
   "outputs": [],
   "source": [
    "def _make_df(df_mult):\n",
    "    tmp = df_mult.loc[df_mult['activityLevel']!='SEDENTARY', :].copy()\n",
    "    tmp = tmp.groupby(['subjectID', 'date'])['activityLevel'].size()\n",
    "    tmp = tmp.reset_index()\n",
    "    tmp.columns = ['subjectID', 'date', 'exercise']\n",
    "    tmp.loc[:, 'date'] = pd.to_datetime(tmp.loc[:, 'date'])\n",
    "    tmp.set_index(['subjectID', 'date'], inplace=True)\n",
    "\n",
    "    _d = df_sleep.set_index(['subjectID', 'date'])\n",
    "    return pd.merge(tmp, _d, how='right', left_index=True, right_index=True)\n",
    "\n",
    "tmp = _make_df(df_mult)"
   ]
  },
  {
   "cell_type": "code",
   "execution_count": 38,
   "metadata": {
    "collapsed": false,
    "scrolled": false
   },
   "outputs": [
    {
     "name": "stdout",
     "output_type": "stream",
     "text": [
      "Correlation between exercise amount and ...\n",
      "... sleep duration: R = -0.23; p = 3.2571928834189526e-92\n",
      "... sleep quality: R = -0.20; p = 4.320158972781748e-73\n"
     ]
    },
    {
     "data": {
      "image/png": "[encoded data removed]",
      "text/plain": [
       "<matplotlib.figure.Figure at 0x11f75d780>"
      ]
     },
     "metadata": {},
     "output_type": "display_data"
    },
    {
     "data": {
      "image/png": "[encoded data removed]",
      "text/plain": [
       "<matplotlib.figure.Figure at 0x11d234630>"
      ]
     },
     "metadata": {},
     "output_type": "display_data"
    }
   ],
   "source": [
    "print(\"Correlation between exercise amount and ...\")\n",
    "\n",
    "r, p = correlate_two_series(tmp['sleepDuration'], tmp['exercise'])\n",
    "print(\"... sleep duration: R = {:.2f}; p = {}\".format(r, p))\n",
    "\n",
    "r, p = correlate_two_series(tmp['sleepQualityScoreA'], tmp['exercise'])\n",
    "print(\"... sleep quality: R = {:.2f}; p = {}\".format(r, p))\n",
    "\n",
    "\n",
    "sns.regplot(tmp['exercise'], tmp['sleepDuration'])\n",
    "plt.title(\"Scatter plot of sleep duration by exercise amount\")\n",
    "plt.show()\n",
    "\n",
    "sns.regplot(tmp['exercise'], tmp['sleepQualityScoreA'])\n",
    "plt.title(\"Scatter plot of sleep quality by exercise amount\")\n",
    "plt.show()"
   ]
  },
  {
   "cell_type": "markdown",
   "metadata": {},
   "source": [
    "# Napping"
   ]
  },
  {
   "cell_type": "code",
   "execution_count": null,
   "metadata": {
    "collapsed": true
   },
   "outputs": [],
   "source": []
  },
  {
   "cell_type": "code",
   "execution_count": null,
   "metadata": {
    "collapsed": false
   },
   "outputs": [],
   "source": []
  },
  {
   "cell_type": "code",
   "execution_count": null,
   "metadata": {
    "collapsed": true
   },
   "outputs": [],
   "source": []
  },
  {
   "cell_type": "code",
   "execution_count": null,
   "metadata": {
    "collapsed": true
   },
   "outputs": [],
   "source": []
  },
  {
   "cell_type": "markdown",
   "metadata": {},
   "source": [
    "# Misc"
   ]
  },
  {
   "cell_type": "markdown",
   "metadata": {},
   "source": [
    "# Correlation dataframes"
   ]
  },
  {
   "cell_type": "code",
   "execution_count": null,
   "metadata": {
    "collapsed": true
   },
   "outputs": [],
   "source": [
    "import openpyxl\n",
    "out_name = \"correlation_sheets.xlsx\"\n",
    "book = openpyxl.load_workbook(out_name)\n",
    "writer = pd.ExcelWriter(out_name, engine='openpyxl') \n",
    "writer.book = book\n",
    "writer.sheets = dict((ws.title, ws) for ws in book.worksheets)"
   ]
  },
  {
   "cell_type": "code",
   "execution_count": null,
   "metadata": {
    "collapsed": true
   },
   "outputs": [],
   "source": [
    "# Giant correlation sheet for sleep week before assessment\n",
    "# that looks at sleep quality x score and sleep quantity x score.\n",
    "dfs = []\n",
    "for assessment, date in utils.assessment_dates:\n",
    "    df = summarize_sleep_week_before(df_sleep, df_roster, assessment, date)\n",
    "    df.loc[:, 'week'] = \"before {}\".format(assessment)\n",
    "    dfs.append(df)\n",
    "df = pd.concat(dfs)\n",
    "df.sort_values(['subjectID', 'week'], inplace=True)\n",
    "df.rename(columns={'outcome':'score'}, inplace=True)\n",
    "# Reorder columns.\n",
    "cols = ['subjectID', 'week', 'sleep_quality', 'sleep_duration', 'score']\n",
    "df = df.loc[:, cols]\n",
    "# Correlate!\n",
    "df.groupby('week').corr();\n",
    "\n",
    "# df.to_excel(writer, sheet_name=\"week_before\", index=False)\n",
    "# df.groupby('week').corr().to_excel(writer, sheet_name=\"week_before_corr\")"
   ]
  },
  {
   "cell_type": "code",
   "execution_count": null,
   "metadata": {
    "collapsed": true
   },
   "outputs": [],
   "source": [
    "# Giant correlation sheet for sleep day before assessment\n",
    "roster_tmp = roster.copy()\n",
    "roster_tmp.set_index('subjectID', inplace=True)\n",
    "\n",
    "dfs = []\n",
    "for assessment, date in assessment_dates:\n",
    "    d = sleep_df.loc[date, ['subjectID', 'sleepDuration', 'sleepQualityScoreA']]\n",
    "    d.set_index('subjectID', inplace=True)\n",
    "    d.loc[:, 'score'] = roster_tmp[assessment]\n",
    "    d.loc[:, 'day'] = \"before {}\".format(assessment)\n",
    "    dfs.append(d)\n",
    "df = pd.concat(dfs)\n",
    "df.reset_index(level=0, inplace=True)\n",
    "df.sort_values(['subjectID', 'day'], inplace=True)\n",
    "df.rename(columns={'sleepDuration':'sleep_duration',\n",
    "                   'sleepQualityScoreA':'sleep_quality'}, inplace=True)\n",
    "cols = ['subjectID', 'day', 'sleep_quality', 'sleep_duration', 'score']\n",
    "df = df.loc[:, cols]\n",
    "# Correlate!\n",
    "df.groupby('day').corr();\n",
    "\n",
    "# df.to_excel(writer, sheet_name=\"day_before\", index=False)\n",
    "# df.groupby('day').corr().to_excel(writer, sheet_name=\"day_before_corr\")"
   ]
  },
  {
   "cell_type": "code",
   "execution_count": null,
   "metadata": {
    "collapsed": true
   },
   "outputs": [],
   "source": [
    "# Giant correlation sheet for average sleep over entire semester.\n",
    "assessments = [a for a, _ in assessment_dates]\n",
    "g = sleep_df.groupby('subjectID')\n",
    "df = g[['sleepDuration', 'sleepQualityScoreA']].mean()\n",
    "df.columns = ['sleep_duration', 'sleep_quality']\n",
    "df = pd.concat((df, roster_tmp[assessments]), axis=1);\n",
    "\n",
    "# df.to_excel(writer, sheet_name=\"full_semester\", index=True)"
   ]
  },
  {
   "cell_type": "code",
   "execution_count": null,
   "metadata": {
    "collapsed": true
   },
   "outputs": [],
   "source": [
    "writer.close()"
   ]
  }
 ],
 "metadata": {
  "kernelspec": {
   "display_name": "Python [conda env:fitbit]",
   "language": "python",
   "name": "conda-env-fitbit-py"
  },
  "language_info": {
   "codemirror_mode": {
    "name": "ipython",
    "version": 3
   },
   "file_extension": ".py",
   "mimetype": "text/x-python",
   "name": "python",
   "nbconvert_exporter": "python",
   "pygments_lexer": "ipython3",
   "version": "3.6.1"
  },
  "toc": {
   "colors": {
    "hover_highlight": "#DAA520",
    "running_highlight": "#FF0000",
    "selected_highlight": "#FFD700"
   },
   "moveMenuLeft": true,
   "nav_menu": {
    "height": "512px",
    "width": "252px"
   },
   "navigate_menu": true,
   "number_sections": true,
   "sideBar": true,
   "threshold": 4,
   "toc_cell": true,
   "toc_section_display": "block",
   "toc_window_display": false,
   "widenNotebook": false
  }
 },
 "nbformat": 4,
 "nbformat_minor": 2
}
