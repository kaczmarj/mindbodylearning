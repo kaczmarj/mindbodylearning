{
 "cells": [
  {
   "cell_type": "markdown",
   "metadata": {},
   "source": [
    "# Fitbit Results"
   ]
  },
  {
   "cell_type": "markdown",
   "metadata": {
    "toc": "true"
   },
   "source": [
    "# Table of Contents\n",
    " <p><div class=\"lev1 toc-item\"><a href=\"#Fitbit-Results\" data-toc-modified-id=\"Fitbit-Results-1\"><span class=\"toc-item-num\">1&nbsp;&nbsp;</span>Fitbit Results</a></div><div class=\"lev1 toc-item\"><a href=\"#Analyses-to-do\" data-toc-modified-id=\"Analyses-to-do-2\"><span class=\"toc-item-num\">2&nbsp;&nbsp;</span>Analyses to do</a></div><div class=\"lev2 toc-item\"><a href=\"#With-Fitbit-data\" data-toc-modified-id=\"With-Fitbit-data-21\"><span class=\"toc-item-num\">2.1&nbsp;&nbsp;</span>With Fitbit data</a></div><div class=\"lev2 toc-item\"><a href=\"#Roster-only\" data-toc-modified-id=\"Roster-only-22\"><span class=\"toc-item-num\">2.2&nbsp;&nbsp;</span>Roster only</a></div><div class=\"lev1 toc-item\"><a href=\"#Code-setup-and-data-import\" data-toc-modified-id=\"Code-setup-and-data-import-3\"><span class=\"toc-item-num\">3&nbsp;&nbsp;</span>Code setup and data import</a></div><div class=\"lev2 toc-item\"><a href=\"#Define-dates-of-assessments\" data-toc-modified-id=\"Define-dates-of-assessments-31\"><span class=\"toc-item-num\">3.1&nbsp;&nbsp;</span>Define dates of assessments</a></div><div class=\"lev2 toc-item\"><a href=\"#Define-excluded-subjects\" data-toc-modified-id=\"Define-excluded-subjects-32\"><span class=\"toc-item-num\">3.2&nbsp;&nbsp;</span>Define excluded subjects</a></div><div class=\"lev1 toc-item\"><a href=\"#Simple-descriptive-statistics\" data-toc-modified-id=\"Simple-descriptive-statistics-4\"><span class=\"toc-item-num\">4&nbsp;&nbsp;</span>Simple descriptive statistics</a></div><div class=\"lev2 toc-item\"><a href=\"#Percent-usage\" data-toc-modified-id=\"Percent-usage-41\"><span class=\"toc-item-num\">4.1&nbsp;&nbsp;</span>Percent usage</a></div><div class=\"lev2 toc-item\"><a href=\"#Sample-sizes\" data-toc-modified-id=\"Sample-sizes-42\"><span class=\"toc-item-num\">4.2&nbsp;&nbsp;</span>Sample sizes</a></div><div class=\"lev1 toc-item\"><a href=\"#Fitbit-means-by-group-and-gender\" data-toc-modified-id=\"Fitbit-means-by-group-and-gender-5\"><span class=\"toc-item-num\">5&nbsp;&nbsp;</span>Fitbit means by group and gender</a></div><div class=\"lev2 toc-item\"><a href=\"#Heart-rate\" data-toc-modified-id=\"Heart-rate-51\"><span class=\"toc-item-num\">5.1&nbsp;&nbsp;</span>Heart rate</a></div><div class=\"lev2 toc-item\"><a href=\"#Multiple-measures\" data-toc-modified-id=\"Multiple-measures-52\"><span class=\"toc-item-num\">5.2&nbsp;&nbsp;</span>Multiple measures</a></div><div class=\"lev2 toc-item\"><a href=\"#Resting-heart-rate\" data-toc-modified-id=\"Resting-heart-rate-53\"><span class=\"toc-item-num\">5.3&nbsp;&nbsp;</span>Resting heart rate</a></div><div class=\"lev2 toc-item\"><a href=\"#Sleep\" data-toc-modified-id=\"Sleep-54\"><span class=\"toc-item-num\">5.4&nbsp;&nbsp;</span>Sleep</a></div><div class=\"lev1 toc-item\"><a href=\"#Differences-in-Fitbit-data-(t-test-or-Anova)\" data-toc-modified-id=\"Differences-in-Fitbit-data-(t-test-or-Anova)-6\"><span class=\"toc-item-num\">6&nbsp;&nbsp;</span>Differences in Fitbit data (t-test or Anova)</a></div><div class=\"lev1 toc-item\"><a href=\"#Differences-in-assessment-scores\" data-toc-modified-id=\"Differences-in-assessment-scores-7\"><span class=\"toc-item-num\">7&nbsp;&nbsp;</span>Differences in assessment scores</a></div><div class=\"lev2 toc-item\"><a href=\"#By-gender\" data-toc-modified-id=\"By-gender-71\"><span class=\"toc-item-num\">7.1&nbsp;&nbsp;</span>By gender</a></div><div class=\"lev2 toc-item\"><a href=\"#By-condition\" data-toc-modified-id=\"By-condition-72\"><span class=\"toc-item-num\">7.2&nbsp;&nbsp;</span>By condition</a></div><div class=\"lev2 toc-item\"><a href=\"#By-morning/night-person\" data-toc-modified-id=\"By-morning/night-person-73\"><span class=\"toc-item-num\">7.3&nbsp;&nbsp;</span>By morning/night person</a></div><div class=\"lev2 toc-item\"><a href=\"#By-changing-exercise-habits\" data-toc-modified-id=\"By-changing-exercise-habits-74\"><span class=\"toc-item-num\">7.4&nbsp;&nbsp;</span>By changing exercise habits</a></div><div class=\"lev2 toc-item\"><a href=\"#By-teacher-assistant\" data-toc-modified-id=\"By-teacher-assistant-75\"><span class=\"toc-item-num\">7.5&nbsp;&nbsp;</span>By teacher assistant</a></div><div class=\"lev2 toc-item\"><a href=\"#By-lab-start-time\" data-toc-modified-id=\"By-lab-start-time-76\"><span class=\"toc-item-num\">7.6&nbsp;&nbsp;</span>By lab start time</a></div><div class=\"lev2 toc-item\"><a href=\"#By-morning/night-person-x-lab-start-time\" data-toc-modified-id=\"By-morning/night-person-x-lab-start-time-77\"><span class=\"toc-item-num\">7.7&nbsp;&nbsp;</span>By morning/night person x lab start time</a></div><div class=\"lev2 toc-item\"><a href=\"#By-bed-time\" data-toc-modified-id=\"By-bed-time-78\"><span class=\"toc-item-num\">7.8&nbsp;&nbsp;</span>By bed time</a></div><div class=\"lev2 toc-item\"><a href=\"#Add-more...\" data-toc-modified-id=\"Add-more...-79\"><span class=\"toc-item-num\">7.9&nbsp;&nbsp;</span>Add more...</a></div><div class=\"lev1 toc-item\"><a href=\"#Methods-to-normalize-heart-rate-data\" data-toc-modified-id=\"Methods-to-normalize-heart-rate-data-8\"><span class=\"toc-item-num\">8&nbsp;&nbsp;</span>Methods to normalize heart rate data</a></div><div class=\"lev1 toc-item\"><a href=\"#Heart-rate-and-assessment-scores\" data-toc-modified-id=\"Heart-rate-and-assessment-scores-9\"><span class=\"toc-item-num\">9&nbsp;&nbsp;</span>Heart rate and assessment scores</a></div><div class=\"lev2 toc-item\"><a href=\"#During-assessments\" data-toc-modified-id=\"During-assessments-91\"><span class=\"toc-item-num\">9.1&nbsp;&nbsp;</span>During assessments</a></div><div class=\"lev3 toc-item\"><a href=\"#During-quizzes\" data-toc-modified-id=\"During-quizzes-911\"><span class=\"toc-item-num\">9.1.1&nbsp;&nbsp;</span>During quizzes</a></div><div class=\"lev3 toc-item\"><a href=\"#During-midterms-and-final\" data-toc-modified-id=\"During-midterms-and-final-912\"><span class=\"toc-item-num\">9.1.2&nbsp;&nbsp;</span>During midterms and final</a></div><div class=\"lev2 toc-item\"><a href=\"#One-hour-before-assessment\" data-toc-modified-id=\"One-hour-before-assessment-92\"><span class=\"toc-item-num\">9.2&nbsp;&nbsp;</span>One hour before assessment</a></div><div class=\"lev3 toc-item\"><a href=\"#One-hour-before-quizzes\" data-toc-modified-id=\"One-hour-before-quizzes-921\"><span class=\"toc-item-num\">9.2.1&nbsp;&nbsp;</span>One hour before quizzes</a></div><div class=\"lev3 toc-item\"><a href=\"#One-hour-before-midterms-and-final\" data-toc-modified-id=\"One-hour-before-midterms-and-final-922\"><span class=\"toc-item-num\">9.2.2&nbsp;&nbsp;</span>One hour before midterms and final</a></div><div class=\"lev2 toc-item\"><a href=\"#One-day-before-assessment\" data-toc-modified-id=\"One-day-before-assessment-93\"><span class=\"toc-item-num\">9.3&nbsp;&nbsp;</span>One day before assessment</a></div><div class=\"lev2 toc-item\"><a href=\"#Same-day-as-assessment\" data-toc-modified-id=\"Same-day-as-assessment-94\"><span class=\"toc-item-num\">9.4&nbsp;&nbsp;</span>Same day as assessment</a></div><div class=\"lev1 toc-item\"><a href=\"#Sleep-analyses\" data-toc-modified-id=\"Sleep-analyses-10\"><span class=\"toc-item-num\">10&nbsp;&nbsp;</span>Sleep analyses</a></div><div class=\"lev2 toc-item\"><a href=\"#Correlate-mean-sleep-duration/quality-with-assessment-score\" data-toc-modified-id=\"Correlate-mean-sleep-duration/quality-with-assessment-score-101\"><span class=\"toc-item-num\">10.1&nbsp;&nbsp;</span>Correlate mean sleep duration/quality with assessment score</a></div><div class=\"lev2 toc-item\"><a href=\"#Correlate-sleep-night-before-with-assessment-score\" data-toc-modified-id=\"Correlate-sleep-night-before-with-assessment-score-102\"><span class=\"toc-item-num\">10.2&nbsp;&nbsp;</span>Correlate sleep night before with assessment score</a></div><div class=\"lev2 toc-item\"><a href=\"#Correlate-sleep-week-before-with-assessment-score\" data-toc-modified-id=\"Correlate-sleep-week-before-with-assessment-score-103\"><span class=\"toc-item-num\">10.3&nbsp;&nbsp;</span>Correlate sleep week before with assessment score</a></div><div class=\"lev2 toc-item\"><a href=\"#T-test-of-assessment-scores-by-outer-thirds-of-sleep-duration\" data-toc-modified-id=\"T-test-of-assessment-scores-by-outer-thirds-of-sleep-duration-104\"><span class=\"toc-item-num\">10.4&nbsp;&nbsp;</span>T-test of assessment scores by outer thirds of sleep duration</a></div><div class=\"lev2 toc-item\"><a href=\"#Correlation-of-sleep-duration/quality-and-assessment-scores-in-longest-sleepers\" data-toc-modified-id=\"Correlation-of-sleep-duration/quality-and-assessment-scores-in-longest-sleepers-105\"><span class=\"toc-item-num\">10.5&nbsp;&nbsp;</span>Correlation of sleep duration/quality and assessment scores in longest sleepers</a></div><div class=\"lev1 toc-item\"><a href=\"#Exercise-analyses\" data-toc-modified-id=\"Exercise-analyses-11\"><span class=\"toc-item-num\">11&nbsp;&nbsp;</span>Exercise analyses</a></div><div class=\"lev2 toc-item\"><a href=\"#Most-vs-least-amount-of-moderately-to-very-intense-activity\" data-toc-modified-id=\"Most-vs-least-amount-of-moderately-to-very-intense-activity-111\"><span class=\"toc-item-num\">11.1&nbsp;&nbsp;</span>Most vs least amount of moderately to very intense activity</a></div><div class=\"lev3 toc-item\"><a href=\"#Assessment-scores\" data-toc-modified-id=\"Assessment-scores-1111\"><span class=\"toc-item-num\">11.1.1&nbsp;&nbsp;</span>Assessment scores</a></div><div class=\"lev3 toc-item\"><a href=\"#Sleep-quality\" data-toc-modified-id=\"Sleep-quality-1112\"><span class=\"toc-item-num\">11.1.2&nbsp;&nbsp;</span>Sleep quality</a></div><div class=\"lev3 toc-item\"><a href=\"#Sleep-quality-excluding-varsity-and-club-athletes\" data-toc-modified-id=\"Sleep-quality-excluding-varsity-and-club-athletes-1113\"><span class=\"toc-item-num\">11.1.3&nbsp;&nbsp;</span>Sleep quality excluding varsity and club athletes</a></div><div class=\"lev2 toc-item\"><a href=\"#Correlation-between-exercise-and-sleep-duration-/-quality\" data-toc-modified-id=\"Correlation-between-exercise-and-sleep-duration-/-quality-112\"><span class=\"toc-item-num\">11.2&nbsp;&nbsp;</span>Correlation between exercise and sleep duration / quality</a></div><div class=\"lev2 toc-item\"><a href=\"#AM-versus-PM-exercise\" data-toc-modified-id=\"AM-versus-PM-exercise-113\"><span class=\"toc-item-num\">11.3&nbsp;&nbsp;</span>AM versus PM exercise</a></div>"
   ]
  },
  {
   "cell_type": "markdown",
   "metadata": {},
   "source": [
    "# Analyses to do\n",
    "\n",
    "## With Fitbit data\n",
    "\n",
    "1. Two-way ANOVA with time of day of exercise (AM vs PM), Morning vs Night person, & assessment score.\n",
    "    - How to get time of day of exercise?\n",
    "1. T-test by condition: heart rate on exercise class days. Use this as a check of the data.\n",
    "\n",
    "\n",
    "## Roster only\n",
    "\n",
    "1. T-tests of morning/night person and assessment scores.\n",
    "1. Stress level versus assessment score(s). Which assessments?\n",
    "1. Change in exercise habits versus change in assessment scores?\n",
    "1. Comparison of majors. But first have to classify majors.\n",
    "1. Amount of non-social recreation versus assessment scores.\n",
    "1. Amount of social recreation versus assessment scores."
   ]
  },
  {
   "cell_type": "markdown",
   "metadata": {},
   "source": [
    "# Code setup and data import"
   ]
  },
  {
   "cell_type": "code",
   "execution_count": 1,
   "metadata": {
    "collapsed": true
   },
   "outputs": [],
   "source": [
    "%matplotlib inline"
   ]
  },
  {
   "cell_type": "code",
   "execution_count": 2,
   "metadata": {
    "collapsed": false
   },
   "outputs": [],
   "source": [
    "from __future__ import division, print_function\n",
    "\n",
    "from glob import glob\n",
    "import os.path as op\n",
    "\n",
    "import matplotlib.pyplot as plt\n",
    "import numpy as np\n",
    "import pandas as pd\n",
    "from scipy import stats\n",
    "import seaborn as sns\n",
    "import statsmodels.api as sm\n",
    "from statsmodels.formula.api import ols\n",
    "from statsmodels.stats.anova import anova_lm\n",
    "from statsmodels.graphics.factorplots import interaction_plot"
   ]
  },
  {
   "cell_type": "markdown",
   "metadata": {},
   "source": [
    "## Define dates of assessments"
   ]
  },
  {
   "cell_type": "code",
   "execution_count": 3,
   "metadata": {
    "collapsed": true
   },
   "outputs": [],
   "source": [
    "# Define the dates of assessments. Check these by Kana.\n",
    "# Dates must be in YYYY-MM-DD format.\n",
    "assessment_dates = [\n",
    "    ('Quiz_1', '2016-09-15'), \n",
    "    ('Quiz_2', '2016-09-22'),\n",
    "    ('Quiz_3', '2016-09-29'), \n",
    "    ('Midterm_1', '2016-10-05'),\n",
    "    ('Quiz_4', '2016-10-13'), \n",
    "    ('Quiz_5', '2016-10-20'),\n",
    "    ('Quiz_6', '2016-10-27'), \n",
    "    ('Midterm_2', '2016-11-02'),\n",
    "    ('Quiz_7', '2016-11-10'), \n",
    "    ('Quiz_8', '2016-11-17'),\n",
    "    ('Midterm_3', '2016-11-30'), \n",
    "    ('Quiz_9', '2016-12-08'),\n",
    "    ('Final', '2016-12-20'),\n",
    "]\n",
    "\n",
    "# Start and end times of midterms and final.\n",
    "midterm_final_datetimes = [\n",
    "    # assesssment, start time, end time\n",
    "    ('Midterm_1', '10-05-2016 11:05', '10-05-2016 11:55'),\n",
    "    ('Midterm_2', '11-02-2016 11:05', '11-02-2016 11:55'),\n",
    "    # Do not add final.\n",
    "]"
   ]
  },
  {
   "cell_type": "markdown",
   "metadata": {},
   "source": [
    "## Define excluded subjects\n",
    "\n",
    "Below Fitbit usage threshold of 75% (in order of usage from least to greatest):\n",
    "\n",
    "    MBL094, MBL011, MBL045, MBL052, MBL042, MBL016, MBL093, MBL066, MBL028,\n",
    "    MBL059\n",
    "    \n",
    "Group 2 (failed or dropped PE):\n",
    "\n",
    "    MBL016, MBL023, MBL045, MBL059, MBL066"
   ]
  },
  {
   "cell_type": "code",
   "execution_count": 4,
   "metadata": {
    "collapsed": false
   },
   "outputs": [],
   "source": [
    "# It is OK to include duplicates in this list.\n",
    "# We convert to a set to remove duplicates.\n",
    "excluded_subjects = ['MBL094', 'MBL011', 'MBL045', 'MBL052', 'MBL042', \n",
    "                     'MBL016', 'MBL093', 'MBL066', 'MBL028', 'MBL059',\n",
    "                     'MBL016', 'MBL023', 'MBL045', 'MBL059', 'MBL066',]\n",
    "excluded_subjects = set(excluded_subjects)"
   ]
  },
  {
   "cell_type": "code",
   "execution_count": 5,
   "metadata": {
    "collapsed": false
   },
   "outputs": [],
   "source": [
    "# Import Fitbit data.\n",
    "hr_df = pd.read_csv('heart_rate-master-complete.csv')\n",
    "mult_df = pd.read_csv('multiple_measures-master-complete.csv')\n",
    "rest_hr_df = pd.read_csv('rest_hr-master-complete.csv')\n",
    "sleep_df = pd.read_csv('sleep-master-complete.csv')\n",
    "\n",
    "# Convert some columns in sleep dataframe to pd.Timestamp.\n",
    "sleep_df['date'] = pd.to_datetime(sleep_df['date'], yearfirst=True)\n",
    "sleep_df['startDateTime'] = pd.to_datetime(sleep_df['startDateTime'], yearfirst=True)\n",
    "sleep_df['endDateTime'] = pd.to_datetime(sleep_df['endDateTime'], yearfirst=True)\n",
    "# Set the 'date' column of the sleep dataframe as the index.\n",
    "sleep_df.set_index('date', drop=False, inplace=True)"
   ]
  },
  {
   "cell_type": "code",
   "execution_count": 6,
   "metadata": {
    "collapsed": false
   },
   "outputs": [],
   "source": [
    "# Import roster.\n",
    "roster = pd.read_excel('roster_Feb16.xlsx')\n",
    "# Replace spaces and special chars in column names with underscore.\n",
    "roster.rename(columns=lambda x: x.replace(\" \", \"_\"), inplace=True)\n",
    "roster.rename(columns=lambda x: x.replace(\"?\", \"_\"), inplace=True)\n",
    "roster.rename(columns=lambda x: x.replace(\"(\", \"_\"), inplace=True)\n",
    "roster.rename(columns=lambda x: x.replace(\")\", \"_\"), inplace=True)\n",
    "# Remove some information.\n",
    "roster.drop(['account_email', 'lastname', 'firstname'], axis=1, inplace=True)\n",
    "# Replace values of 'X' with NaN.\n",
    "roster.replace(to_replace=\"X\", value=np.nan, inplace=True)\n",
    "\n",
    "# Import CSV of each subject's recitation.\n",
    "recitation = pd.read_csv('../recitation_membership.csv')"
   ]
  },
  {
   "cell_type": "code",
   "execution_count": 7,
   "metadata": {
    "collapsed": true
   },
   "outputs": [],
   "source": [
    "def remove_excluded_subjs(df, to_exclude=excluded_subjects):\n",
    "    \"\"\"Return pd.DataFrame with specified subjects removed.\n",
    "\n",
    "    df: pd.DataFrame with which to work.\n",
    "    to_exclude: array-like of subject IDs to remove.\n",
    "    \"\"\"\n",
    "    return df[~df.subjectID.isin(to_exclude)]\n",
    "\n",
    "def check_subjects_removed(df, to_exclude=excluded_subjects):\n",
    "    \"\"\"Raises error if subject in `to_exclude` is in `df.subjectID`.\n",
    "\n",
    "    df: pd.DataFrame with which to work.\n",
    "    to_exclude: array-like of subject IDs to remove.\n",
    "    \"\"\"\n",
    "    if pd.Series(list(to_exclude)).isin(df.subjectID).any():\n",
    "        raise ValueError(\"Some subjects not excluded.\")\n",
    "\n",
    "# Remove excluded subjects.\n",
    "hr_df = remove_excluded_subjs(hr_df)\n",
    "mult_df = remove_excluded_subjs(mult_df)\n",
    "rest_hr_df = remove_excluded_subjs(rest_hr_df)\n",
    "sleep_df = remove_excluded_subjs(sleep_df)\n",
    "roster = remove_excluded_subjs(roster)\n",
    "recitation = remove_excluded_subjs(recitation)\n",
    "\n",
    "# Confirm that the exluded subjects are not in the data.\n",
    "check_subjects_removed(hr_df)\n",
    "check_subjects_removed(mult_df)\n",
    "check_subjects_removed(rest_hr_df)\n",
    "check_subjects_removed(sleep_df)\n",
    "check_subjects_removed(roster)\n",
    "check_subjects_removed(recitation)"
   ]
  },
  {
   "cell_type": "markdown",
   "metadata": {},
   "source": [
    "# Simple descriptive statistics"
   ]
  },
  {
   "cell_type": "markdown",
   "metadata": {},
   "source": [
    "## Percent usage\n",
    "\n",
    "Get each subject's percent usage, equal to the number of non-zero heart rate samples divided by total number of heart rate samples."
   ]
  },
  {
   "cell_type": "code",
   "execution_count": 8,
   "metadata": {
    "collapsed": false,
    "scrolled": false
   },
   "outputs": [
    {
     "name": "stdout",
     "output_type": "stream",
     "text": [
      "FITBIT USAGE (number of non-zero heart rate samples / total samples)\n",
      "Mean: 88.77 %\n",
      "Median: 89.87 %\n"
     ]
    },
    {
     "data": {
      "text/plain": [
       "array([[<matplotlib.axes._subplots.AxesSubplot object at 0x10f770510>]], dtype=object)"
      ]
     },
     "execution_count": 8,
     "metadata": {},
     "output_type": "execute_result"
    },
    {
     "data": {
      "image/png": "[encoded data removed]",
      "text/plain": [
       "<matplotlib.figure.Figure at 0x1101d7410>"
      ]
     },
     "metadata": {},
     "output_type": "display_data"
    }
   ],
   "source": [
    "# This will not display data for any removed subjects.\n",
    "def summarize_percent_usage(hr_df):\n",
    "    \"\"\"Return sorted dataframe of percent usage.\n",
    "    hr_df: pd.DataFrame of heart rate.\n",
    "    \"\"\"\n",
    "    df = pd.DataFrame.from_dict(\n",
    "        {subj: [data.bpm.astype(bool).mean() * 100]\n",
    "         for subj, data in hr_df.groupby('subjectID')}, orient='index')\n",
    "    df.columns = ['percent_usage']\n",
    "    return df.sort_values(by='percent_usage')\n",
    "\n",
    "percent_usage = summarize_percent_usage(hr_df.copy())\n",
    "print(\"FITBIT USAGE (number of non-zero heart rate samples / total samples)\")\n",
    "print(\"Mean: {:.2f} %\".format(percent_usage.percent_usage.mean()))\n",
    "print(\"Median: {:.2f} %\".format(percent_usage.percent_usage.median()))\n",
    "\n",
    "# # Use this to print subjects who fall below a threshold.\n",
    "# print(percent_usage[percent_usage.percent_usage < 75])\n",
    "\n",
    "# Plot a histogram of percent usage.\n",
    "percent_usage.hist(bins=20)"
   ]
  },
  {
   "cell_type": "markdown",
   "metadata": {},
   "source": [
    "## Sample sizes"
   ]
  },
  {
   "cell_type": "code",
   "execution_count": 9,
   "metadata": {
    "collapsed": false,
    "scrolled": false
   },
   "outputs": [
    {
     "name": "stdout",
     "output_type": "stream",
     "text": [
      "SAMPLE SIZES\n",
      "\n",
      "N = 89\n",
      "\n",
      "Group\n",
      "1:\t67\n",
      "2:\t22\n",
      "\n",
      "Gender\n",
      "Female:\t45\n",
      "Male:\t44\n",
      "\n",
      "Year\n",
      "1:\t85\n",
      "4:\t2\n",
      "3:\t1\n",
      "2:\t1\n",
      "\n",
      "Age\n",
      "18.0:\t69\n",
      "19.0:\t9\n",
      "17.0:\t7\n",
      "23.0:\t1\n",
      "21.0:\t1\n",
      "22.0:\t1\n",
      "20.0:\t1\n",
      "\n",
      "Ethnicity\n",
      "White Non-Hispanic/Latino:\t27\n",
      "Asian:\t25\n",
      "White Hispanic/Latino:\t20\n",
      "Black/African American:\t5\n",
      "White Non-Hispanic/Latino, Asian:\t4\n",
      "Hispanic/Latino:\t1\n",
      "Asian, Native Hawaiian/Pacific Islander:\t1\n",
      "Puerto Rican:\t1\n",
      "White Non-Hispanic/Latino, Native Hawaiian/Pacific Islander:\t1\n",
      "White Hispanic/Latino, Asian:\t1\n",
      "Middle Eastern:\t1\n",
      "White Non-Hispanic/Latino, White Hispanic/Latino:\t1\n",
      "White Non-Hispanic/Latino, White Hispanic/Latino, Black/African American:\t1\n",
      "\n"
     ]
    }
   ],
   "source": [
    "def print_value_counts(series):\n",
    "    \"\"\"Print the value counts in a pretty way.\n",
    "    series: pd.Series\n",
    "    \"\"\"\n",
    "    counts = pd.value_counts(series)\n",
    "    print(counts.name.title())\n",
    "    for i, col in zip(counts.index, counts):\n",
    "        print(\"{}:\\t{}\".format(i, col))\n",
    "\n",
    "print(\"SAMPLE SIZES\\n\")\n",
    "print(\"N = {}\\n\".format(len(roster.subjectID)))\n",
    "cols_to_print = ['group', 'Gender', 'year', 'Age', 'Ethnicity']\n",
    "for col in cols_to_print:\n",
    "    print_value_counts(roster[col])\n",
    "    print()"
   ]
  },
  {
   "cell_type": "markdown",
   "metadata": {},
   "source": [
    "# Fitbit means by group and gender\n",
    "\n",
    "Print mean and standard deviation of Fitbit measures by group and by gender."
   ]
  },
  {
   "cell_type": "markdown",
   "metadata": {},
   "source": [
    "## Heart rate"
   ]
  },
  {
   "cell_type": "code",
   "execution_count": 10,
   "metadata": {
    "collapsed": false,
    "scrolled": true
   },
   "outputs": [
    {
     "name": "stdout",
     "output_type": "stream",
     "text": [
      "Group 1\n",
      "\theart rate: 75.09 +/- 17.23\n",
      "Group 2\n",
      "\theart rate: 75.23 +/- 16.78\n",
      "Female\n",
      "\theart rate: 76.48 +/- 17.42\n",
      "Male\n",
      "\theart rate: 73.74 +/- 16.70\n"
     ]
    }
   ],
   "source": [
    "tmp = hr_df.merge(roster, on=['subjectID', 'group'])\n",
    "tmp.replace(to_replace=0, value=np.nan, inplace=True)\n",
    "for group, data in tmp.groupby('group'):\n",
    "    print(\"Group {}\".format(group))\n",
    "    print(\"\\theart rate: {:.2f} +/- {:.2f}\".format(data.bpm.mean(), data.bpm.std()))\n",
    "for gender, data in tmp.groupby('Gender'):\n",
    "    print(\"{}\".format(gender))\n",
    "    print(\"\\theart rate: {:.2f} +/- {:.2f}\".format(data.bpm.mean(), data.bpm.std()))"
   ]
  },
  {
   "cell_type": "markdown",
   "metadata": {},
   "source": [
    "## Multiple measures"
   ]
  },
  {
   "cell_type": "code",
   "execution_count": 11,
   "metadata": {
    "collapsed": false
   },
   "outputs": [
    {
     "name": "stdout",
     "output_type": "stream",
     "text": [
      "Group 1\n",
      "\tsteps: 124.26 +/- 271.75\n",
      "\tdistance: 0.06 +/- 0.13\n",
      "\tfloors: 0.21 +/- 1.04\n",
      "\tactiveMinutes: 0.63 +/- 2.48\n",
      "\tcaloriesBurned: 27.26 +/- 19.15\n",
      "Group 2\n",
      "\tsteps: 130.93 +/- 289.09\n",
      "\tdistance: 0.06 +/- 0.14\n",
      "\tfloors: 0.20 +/- 0.92\n",
      "\tactiveMinutes: 0.71 +/- 2.66\n",
      "\tcaloriesBurned: 26.38 +/- 18.93\n",
      "Female\n",
      "\tsteps: 124.90 +/- 283.82\n",
      "\tdistance: 0.06 +/- 0.13\n",
      "\tfloors: 0.19 +/- 0.87\n",
      "\tactiveMinutes: 0.61 +/- 2.45\n",
      "\tcaloriesBurned: 23.74 +/- 16.81\n",
      "Male\n",
      "\tsteps: 126.94 +/- 268.07\n",
      "\tdistance: 0.06 +/- 0.13\n",
      "\tfloors: 0.23 +/- 1.14\n",
      "\tactiveMinutes: 0.69 +/- 2.59\n",
      "\tcaloriesBurned: 30.42 +/- 20.64\n"
     ]
    }
   ],
   "source": [
    "tmp = mult_df.merge(roster, on=['subjectID', 'group'])\n",
    "for group, data in tmp.groupby('group'):\n",
    "    print(\"Group {}\".format(group))\n",
    "    print(\"\\tsteps: {:.2f} +/- {:.2f}\".format(data.steps.mean(), data.steps.std()))\n",
    "    print(\"\\tdistance: {:.2f} +/- {:.2f}\".format(data.distance.mean(), data.distance.std()))\n",
    "    print(\"\\tfloors: {:.2f} +/- {:.2f}\".format(data.floors.mean(), data.floors.std()))\n",
    "    print(\"\\tactiveMinutes: {:.2f} +/- {:.2f}\".format(data.activeMinutes.mean(), data.activeMinutes.std()))\n",
    "    print(\"\\tcaloriesBurned: {:.2f} +/- {:.2f}\".format(data.caloriesBurned.mean(), data.caloriesBurned.std()))\n",
    "\n",
    "for gender, data in tmp.groupby('Gender'):\n",
    "    print(\"{}\".format(gender))\n",
    "    print(\"\\tsteps: {:.2f} +/- {:.2f}\".format(data.steps.mean(), data.steps.std()))\n",
    "    print(\"\\tdistance: {:.2f} +/- {:.2f}\".format(data.distance.mean(), data.distance.std()))\n",
    "    print(\"\\tfloors: {:.2f} +/- {:.2f}\".format(data.floors.mean(), data.floors.std()))\n",
    "    print(\"\\tactiveMinutes: {:.2f} +/- {:.2f}\".format(data.activeMinutes.mean(), data.activeMinutes.std()))\n",
    "    print(\"\\tcaloriesBurned: {:.2f} +/- {:.2f}\".format(data.caloriesBurned.mean(), data.caloriesBurned.std()))"
   ]
  },
  {
   "cell_type": "markdown",
   "metadata": {},
   "source": [
    "## Resting heart rate"
   ]
  },
  {
   "cell_type": "code",
   "execution_count": 12,
   "metadata": {
    "collapsed": false
   },
   "outputs": [
    {
     "name": "stdout",
     "output_type": "stream",
     "text": [
      "Group 1\n",
      "\tresting heart rate: 63.75 +/- 8.31\n",
      "Group 2\n",
      "\tresting heart rate: 63.49 +/- 6.08\n",
      "Female\n",
      "\tresting heart rate: 65.40 +/- 8.10\n",
      "Male\n",
      "\tresting heart rate: 61.93 +/- 7.09\n"
     ]
    }
   ],
   "source": [
    "tmp = rest_hr_df.merge(roster, on=['subjectID', 'group'])\n",
    "tmp.replace(to_replace=0, value=np.nan, inplace=True)\n",
    "for group, data in tmp.groupby('group'):\n",
    "    print(\"Group {}\".format(group))\n",
    "    print(\"\\tresting heart rate: {:.2f} +/- {:.2f}\".format(data.resting_bpm.mean(),\n",
    "                                                           data.resting_bpm.std()))\n",
    "for gender, data in tmp.groupby('Gender'):\n",
    "    print(\"{}\".format(gender))\n",
    "    print(\"\\tresting heart rate: {:.2f} +/- {:.2f}\".format(data.resting_bpm.mean(),\n",
    "                                                           data.resting_bpm.std()))"
   ]
  },
  {
   "cell_type": "markdown",
   "metadata": {},
   "source": [
    "## Sleep"
   ]
  },
  {
   "cell_type": "code",
   "execution_count": 13,
   "metadata": {
    "collapsed": false,
    "scrolled": false
   },
   "outputs": [
    {
     "name": "stdout",
     "output_type": "stream",
     "text": [
      "Group 1\n",
      "\tsleepDuration: 426.53 +/- 106.93\n",
      "\tawakeCount: 1.43 +/- 1.85\n",
      "\trestlessCount: 13.28 +/- 7.33\n",
      "\tawakeDuration: 3.23 +/- 6.01\n",
      "\trestlessDuration: 26.91 +/- 20.27\n",
      "\tminAsleep: 396.57 +/- 100.52\n",
      "\tsleepQualityScoreA: 79.84 +/- 12.75\n",
      "Group 2\n",
      "\tsleepDuration: 431.62 +/- 107.16\n",
      "\tawakeCount: 1.51 +/- 1.70\n",
      "\trestlessCount: 14.43 +/- 8.19\n",
      "\tawakeDuration: 3.38 +/- 5.67\n",
      "\trestlessDuration: 27.21 +/- 17.15\n",
      "\tminAsleep: 401.09 +/- 98.20\n",
      "\tsleepQualityScoreA: 79.99 +/- 11.91\n",
      "Female\n",
      "\tsleepDuration: 432.01 +/- 102.46\n",
      "\tawakeCount: 1.22 +/- 1.42\n",
      "\trestlessCount: 12.53 +/- 7.36\n",
      "\tawakeDuration: 2.80 +/- 5.28\n",
      "\trestlessDuration: 26.39 +/- 22.50\n",
      "\tminAsleep: 402.87 +/- 96.47\n",
      "\tsleepQualityScoreA: 81.13 +/- 11.94\n",
      "Male\n",
      "\tsleepDuration: 423.55 +/- 111.27\n",
      "\tawakeCount: 1.68 +/- 2.12\n",
      "\trestlessCount: 14.64 +/- 7.65\n",
      "\tawakeDuration: 3.74 +/- 6.48\n",
      "\trestlessDuration: 27.58 +/- 15.93\n",
      "\tminAsleep: 392.48 +/- 103.12\n",
      "\tsleepQualityScoreA: 78.60 +/- 13.01\n"
     ]
    }
   ],
   "source": [
    "tmp = sleep_df.merge(roster, on=['subjectID', 'group'])\n",
    "for group, data in tmp.groupby('group'):\n",
    "    print(\"Group {}\".format(group))\n",
    "    print(\"\\tsleepDuration: {:.2f} +/- {:.2f}\".format(data.sleepDuration.mean(), data.sleepDuration.std()))\n",
    "    print(\"\\tawakeCount: {:.2f} +/- {:.2f}\".format(data.awakeCount.mean(), data.awakeCount.std()))\n",
    "    print(\"\\trestlessCount: {:.2f} +/- {:.2f}\".format(data.restlessCount.mean(), data.restlessCount.std()))\n",
    "    print(\"\\tawakeDuration: {:.2f} +/- {:.2f}\".format(data.awakeDuration.mean(), data.awakeDuration.std()))\n",
    "    print(\"\\trestlessDuration: {:.2f} +/- {:.2f}\".format(data.restlessDuration.mean(), data.restlessDuration.std()))\n",
    "    print(\"\\tminAsleep: {:.2f} +/- {:.2f}\".format(data.minAsleep.mean(), data.minAsleep.std()))\n",
    "    print(\"\\tsleepQualityScoreA: {:.2f} +/- {:.2f}\".format(data.sleepQualityScoreA.mean(), data.sleepQualityScoreA.std()))\n",
    "\n",
    "for gender, data in tmp.groupby('Gender'):\n",
    "    print(\"{}\".format(gender))\n",
    "    print(\"\\tsleepDuration: {:.2f} +/- {:.2f}\".format(data.sleepDuration.mean(), data.sleepDuration.std()))\n",
    "    print(\"\\tawakeCount: {:.2f} +/- {:.2f}\".format(data.awakeCount.mean(), data.awakeCount.std()))\n",
    "    print(\"\\trestlessCount: {:.2f} +/- {:.2f}\".format(data.restlessCount.mean(), data.restlessCount.std()))\n",
    "    print(\"\\tawakeDuration: {:.2f} +/- {:.2f}\".format(data.awakeDuration.mean(), data.awakeDuration.std()))\n",
    "    print(\"\\trestlessDuration: {:.2f} +/- {:.2f}\".format(data.restlessDuration.mean(), data.restlessDuration.std()))\n",
    "    print(\"\\tminAsleep: {:.2f} +/- {:.2f}\".format(data.minAsleep.mean(), data.minAsleep.std()))\n",
    "    print(\"\\tsleepQualityScoreA: {:.2f} +/- {:.2f}\".format(data.sleepQualityScoreA.mean(), data.sleepQualityScoreA.std()))"
   ]
  },
  {
   "cell_type": "markdown",
   "metadata": {},
   "source": [
    "# Differences in Fitbit data (t-test or Anova)"
   ]
  },
  {
   "cell_type": "markdown",
   "metadata": {},
   "source": [
    "What is the best way to organize this? What should top-level be? Fitbit measure? Or the groups we are comparing?"
   ]
  },
  {
   "cell_type": "code",
   "execution_count": null,
   "metadata": {
    "collapsed": true
   },
   "outputs": [],
   "source": []
  },
  {
   "cell_type": "markdown",
   "metadata": {},
   "source": [
    "# Differences in assessment scores\n",
    "\n",
    "__NOTE__: Many survey questions were asked twice (pre/post). In the roster dataframe, columns that end in '.1' have the post responses."
   ]
  },
  {
   "cell_type": "code",
   "execution_count": 14,
   "metadata": {
    "collapsed": false
   },
   "outputs": [],
   "source": [
    "def compute_assessment_ttest(df, column, category1, category2, assessment):\n",
    "    \"\"\"Compute two-sample ind. t-test between the assessment scores of two\n",
    "    groups, and print results.\n",
    "    \n",
    "    df: pd.DataFrame of data.\n",
    "    column: str indicating the column name used to split df into groups.\n",
    "    category1: value that `df[column]` equals to make first group.\n",
    "    category2: value that `df[column]` equals to make second group.\n",
    "    assessment: column `df[assessment]` with values to compare between groups.\n",
    "    \"\"\"\n",
    "    series1 = df[df[column] == category1][assessment]\n",
    "    series2 = df[df[column] == category2][assessment]\n",
    "    t_test = stats.ttest_ind(series1, series2, nan_policy='omit')\n",
    "    # Show asterisk if p < 0.05.\n",
    "    asterisk = \" *\" if t_test.pvalue < 0.05 else \"\"\n",
    "    str_out = \"{}{}\\n\".format(assessment, asterisk)\n",
    "    str_out += (\"p = {:.3f}, T = {:.2f}\"\n",
    "                \"\".format(t_test.pvalue, t_test.statistic))\n",
    "    str_out += (\"\\n\\t{}\\t{}\\nN\\t{}\\t{}\\nMean\\t{:.2f}\\t{:.2f}\"\n",
    "                \"\".format(category1, category2, len(series1), len(series2),\n",
    "                          series1.mean(), series2.mean()))\n",
    "    print(str_out)\n",
    "    \n",
    "\n",
    "def compute_assessment_oneway_anova(df, column, assessment):\n",
    "    \"\"\"Compute one-way Anova among assessment scores of >2 groups, and print\n",
    "    results.\n",
    "    \n",
    "    df: pd.DataFrame of data.\n",
    "    column: str indicating the column name used to split `df` into groups.\n",
    "    assessment: column `df[assessment]` with values to compare among groups.\n",
    "    \"\"\"\n",
    "    # Our OLS formula. C() means categorical.\n",
    "    formula = \"{} ~ C({})\".format(assessment, column)\n",
    "    # Fit Anova.\n",
    "    lm = ols(formula, df, missing='drop').fit()\n",
    "    asterisk = \" *\" if lm.f_pvalue < 0.05 else \"\"\n",
    "    \n",
    "    # Get the categories.\n",
    "    groups = df[column].unique().tolist()\n",
    "    # Generates a list of tuples, where each tuple is (category, mean, N)\n",
    "    groups = [(g, df[df[column] == g][assessment].mean(), \n",
    "               df[df[column] == g][assessment].shape[0]) for g in groups]\n",
    "    \n",
    "    str_out = str_out = \"{}{}\\n\".format(assessment, asterisk)\n",
    "    str_out += (\"p = {:.3f}, F = {:.3f}\"\n",
    "                    \"\".format(lm.f_pvalue, lm.fvalue))\n",
    "    str_out += '\\n\\t' + '\\t'.join(str(group) for group, _, _ in groups)\n",
    "    str_out += '\\nN\\t' + '\\t'.join(str(N) for _, _, N in groups)\n",
    "    str_out += '\\nMean\\t' + '\\t'.join('{:.2f}'.format(mean_) for _, mean_, _ in groups)\n",
    "\n",
    "    print(str_out)"
   ]
  },
  {
   "cell_type": "markdown",
   "metadata": {},
   "source": [
    "##  By gender\n",
    "\n",
    "Using two-sample independent t-test"
   ]
  },
  {
   "cell_type": "code",
   "execution_count": 15,
   "metadata": {
    "collapsed": false
   },
   "outputs": [
    {
     "name": "stdout",
     "output_type": "stream",
     "text": [
      "T-TESTS COMPARING QUIZ SCORES BY GENDER\n",
      "\n",
      "Quiz_1\n",
      "p = 0.751, T = 0.32\n",
      "\tMale\tFemale\n",
      "N\t44\t45\n",
      "Mean\t9.35\t9.27\n",
      "\n",
      "Quiz_2\n",
      "p = 0.125, T = -1.55\n",
      "\tMale\tFemale\n",
      "N\t44\t45\n",
      "Mean\t7.71\t8.36\n",
      "\n",
      "Quiz_3 *\n",
      "p = 0.043, T = -2.05\n",
      "\tMale\tFemale\n",
      "N\t44\t45\n",
      "Mean\t6.98\t7.83\n",
      "\n",
      "Midterm_1\n",
      "p = 0.062, T = -1.89\n",
      "\tMale\tFemale\n",
      "N\t44\t45\n",
      "Mean\t69.57\t75.39\n",
      "\n",
      "Quiz_4\n",
      "p = 0.728, T = -0.35\n",
      "\tMale\tFemale\n",
      "N\t44\t45\n",
      "Mean\t7.84\t7.99\n",
      "\n",
      "Quiz_5\n",
      "p = 0.122, T = -1.56\n",
      "\tMale\tFemale\n",
      "N\t44\t45\n",
      "Mean\t8.43\t8.81\n",
      "\n",
      "Quiz_6 *\n",
      "p = 0.024, T = -2.29\n",
      "\tMale\tFemale\n",
      "N\t44\t45\n",
      "Mean\t6.48\t7.44\n",
      "\n",
      "Midterm_2 *\n",
      "p = 0.049, T = -2.00\n",
      "\tMale\tFemale\n",
      "N\t44\t45\n",
      "Mean\t75.36\t79.87\n",
      "\n",
      "Quiz_7\n",
      "p = 0.155, T = -1.44\n",
      "\tMale\tFemale\n",
      "N\t44\t45\n",
      "Mean\t7.44\t8.20\n",
      "\n",
      "Quiz_8\n",
      "p = 0.550, T = -0.60\n",
      "\tMale\tFemale\n",
      "N\t44\t45\n",
      "Mean\t6.97\t7.33\n",
      "\n",
      "Midterm_3\n",
      "p = 0.124, T = -1.55\n",
      "\tMale\tFemale\n",
      "N\t44\t45\n",
      "Mean\t71.58\t76.95\n",
      "\n",
      "Quiz_9\n",
      "p = 0.530, T = -0.63\n",
      "\tMale\tFemale\n",
      "N\t44\t45\n",
      "Mean\t7.42\t7.71\n",
      "\n",
      "Final *\n",
      "p = 0.007, T = -2.76\n",
      "\tMale\tFemale\n",
      "N\t44\t45\n",
      "Mean\t125.20\t142.07\n",
      "\n"
     ]
    }
   ],
   "source": [
    "print(\"T-TESTS COMPARING QUIZ SCORES BY GENDER\\n\")\n",
    "for assessment, _ in assessment_dates:\n",
    "    compute_assessment_ttest(roster, 'Gender', 'Male', 'Female', assessment)\n",
    "    print('')"
   ]
  },
  {
   "cell_type": "markdown",
   "metadata": {},
   "source": [
    "## By condition\n",
    "\n",
    "Using two-sample independent t-test"
   ]
  },
  {
   "cell_type": "code",
   "execution_count": 16,
   "metadata": {
    "collapsed": false
   },
   "outputs": [
    {
     "name": "stdout",
     "output_type": "stream",
     "text": [
      "T-TESTS COMPARING QUIZ SCORES BY CONDITION\n",
      "\n",
      "Quiz_1\n",
      "p = 0.142, T = 1.48\n",
      "\t1\t2\n",
      "N\t67\t22\n",
      "Mean\t9.41\t9.00\n",
      "\n",
      "Quiz_2\n",
      "p = 0.284, T = -1.08\n",
      "\t1\t2\n",
      "N\t67\t22\n",
      "Mean\t7.91\t8.43\n",
      "\n",
      "Quiz_3\n",
      "p = 0.771, T = -0.29\n",
      "\t1\t2\n",
      "N\t67\t22\n",
      "Mean\t7.38\t7.52\n",
      "\n",
      "Midterm_1\n",
      "p = 0.060, T = -1.91\n",
      "\t1\t2\n",
      "N\t67\t22\n",
      "Mean\t70.83\t77.64\n",
      "\n",
      "Quiz_4\n",
      "p = 0.127, T = -1.54\n",
      "\t1\t2\n",
      "N\t67\t22\n",
      "Mean\t7.73\t8.48\n",
      "\n",
      "Quiz_5\n",
      "p = 0.592, T = -0.54\n",
      "\t1\t2\n",
      "N\t67\t22\n",
      "Mean\t8.58\t8.74\n",
      "\n",
      "Quiz_6\n",
      "p = 0.448, T = 0.76\n",
      "\t1\t2\n",
      "N\t67\t22\n",
      "Mean\t7.06\t6.67\n",
      "\n",
      "Midterm_2\n",
      "p = 0.642, T = -0.47\n",
      "\t1\t2\n",
      "N\t67\t22\n",
      "Mean\t77.39\t78.64\n",
      "\n",
      "Quiz_7\n",
      "p = 0.096, T = -1.68\n",
      "\t1\t2\n",
      "N\t67\t22\n",
      "Mean\t7.58\t8.59\n",
      "\n",
      "Quiz_8\n",
      "p = 0.098, T = 1.68\n",
      "\t1\t2\n",
      "N\t67\t22\n",
      "Mean\t7.45\t6.33\n",
      "\n",
      "Midterm_3\n",
      "p = 0.100, T = -1.66\n",
      "\t1\t2\n",
      "N\t67\t22\n",
      "Mean\t72.70\t79.38\n",
      "\n",
      "Quiz_9\n",
      "p = 0.578, T = 0.56\n",
      "\t1\t2\n",
      "N\t67\t22\n",
      "Mean\t7.65\t7.34\n",
      "\n",
      "Final\n",
      "p = 0.935, T = 0.08\n",
      "\t1\t2\n",
      "N\t67\t22\n",
      "Mean\t133.97\t133.36\n",
      "\n"
     ]
    }
   ],
   "source": [
    "print(\"T-TESTS COMPARING QUIZ SCORES BY CONDITION\\n\")\n",
    "for assessment, _ in assessment_dates:\n",
    "    compute_assessment_ttest(roster, 'group', 1, 2, assessment)\n",
    "    print()"
   ]
  },
  {
   "cell_type": "markdown",
   "metadata": {
    "collapsed": true
   },
   "source": [
    "## By morning/night person"
   ]
  },
  {
   "cell_type": "code",
   "execution_count": 17,
   "metadata": {
    "collapsed": false
   },
   "outputs": [
    {
     "name": "stdout",
     "output_type": "stream",
     "text": [
      "T-TESTS COMPARING QUIZ SCORES BY MORNING/NIGHT PERSON\n",
      "\n",
      "Quiz_1\n",
      "p = 0.968, T = 0.04\n",
      "\tNight person\tMorning person\n",
      "N\t40\t16\n",
      "Mean\t9.36\t9.34\n",
      "\n",
      "Quiz_2\n",
      "p = 0.140, T = -1.50\n",
      "\tNight person\tMorning person\n",
      "N\t40\t16\n",
      "Mean\t8.26\t9.00\n",
      "\n",
      "Quiz_3\n",
      "p = 0.417, T = -0.82\n",
      "\tNight person\tMorning person\n",
      "N\t40\t16\n",
      "Mean\t7.35\t7.84\n",
      "\n",
      "Midterm_1\n",
      "p = 0.585, T = -0.55\n",
      "\tNight person\tMorning person\n",
      "N\t40\t16\n",
      "Mean\t72.08\t74.44\n",
      "\n",
      "Quiz_4\n",
      "p = 0.174, T = -1.38\n",
      "\tNight person\tMorning person\n",
      "N\t40\t16\n",
      "Mean\t7.86\t8.59\n",
      "\n",
      "Quiz_5 *\n",
      "p = 0.045, T = -2.05\n",
      "\tNight person\tMorning person\n",
      "N\t40\t16\n",
      "Mean\t8.46\t9.16\n",
      "\n",
      "Quiz_6\n",
      "p = 0.924, T = 0.10\n",
      "\tNight person\tMorning person\n",
      "N\t40\t16\n",
      "Mean\t7.03\t6.97\n",
      "\n",
      "Midterm_2\n",
      "p = 0.353, T = -0.94\n",
      "\tNight person\tMorning person\n",
      "N\t40\t16\n",
      "Mean\t78.28\t81.06\n",
      "\n",
      "Quiz_7\n",
      "p = 0.188, T = -1.34\n",
      "\tNight person\tMorning person\n",
      "N\t40\t16\n",
      "Mean\t7.64\t8.50\n",
      "\n",
      "Quiz_8\n",
      "p = 0.924, T = 0.10\n",
      "\tNight person\tMorning person\n",
      "N\t40\t16\n",
      "Mean\t7.06\t6.97\n",
      "\n",
      "Midterm_3 *\n",
      "p = 0.033, T = -2.19\n",
      "\tNight person\tMorning person\n",
      "N\t40\t16\n",
      "Mean\t74.74\t82.81\n",
      "\n",
      "Quiz_9\n",
      "p = 0.318, T = -1.01\n",
      "\tNight person\tMorning person\n",
      "N\t40\t16\n",
      "Mean\t7.39\t7.97\n",
      "\n",
      "Final\n",
      "p = 0.154, T = -1.45\n",
      "\tNight person\tMorning person\n",
      "N\t40\t16\n",
      "Mean\t131.13\t144.19\n",
      "\n"
     ]
    }
   ],
   "source": [
    "print(\"T-TESTS COMPARING QUIZ SCORES BY MORNING/NIGHT PERSON\\n\")\n",
    "col = 'Are_you_a_morning_or_night_person___when_do_you_feel_most_productive__'\n",
    "for assessment, _ in assessment_dates:\n",
    "    compute_assessment_ttest(roster, col, 'Night person', 'Morning person', \n",
    "                             assessment)\n",
    "    print()"
   ]
  },
  {
   "cell_type": "markdown",
   "metadata": {},
   "source": [
    "## By changing exercise habits"
   ]
  },
  {
   "cell_type": "code",
   "execution_count": 18,
   "metadata": {
    "collapsed": false
   },
   "outputs": [
    {
     "name": "stdout",
     "output_type": "stream",
     "text": [
      "ANOVA COMPARING ASSESSMENT SCORES BY CHANGING EXERCISE HABITS\n",
      "\n",
      "Quiz_1 *\n",
      "p = 0.050, F = 3.119\n",
      "\tYes - I exercise less\tYes - I exercise more\tNo\tnan\n",
      "N\t15\t31\t34\t0\n",
      "Mean\t9.80\t9.00\t9.50\tnan\n",
      "\n",
      "Quiz_2\n",
      "p = 0.243, F = 1.442\n",
      "\tYes - I exercise less\tYes - I exercise more\tNo\tnan\n",
      "N\t15\t31\t34\t0\n",
      "Mean\t8.70\t7.85\t8.42\tnan\n",
      "\n",
      "Quiz_3\n",
      "p = 0.854, F = 0.158\n",
      "\tYes - I exercise less\tYes - I exercise more\tNo\tnan\n",
      "N\t15\t31\t34\t0\n",
      "Mean\t7.37\t7.40\t7.63\tnan\n",
      "\n",
      "Midterm_1\n",
      "p = 0.728, F = 0.319\n",
      "\tYes - I exercise less\tYes - I exercise more\tNo\tnan\n",
      "N\t15\t31\t34\t0\n",
      "Mean\t71.33\t74.77\t73.34\tnan\n",
      "\n",
      "Quiz_4\n",
      "p = 0.697, F = 0.362\n",
      "\tYes - I exercise less\tYes - I exercise more\tNo\tnan\n",
      "N\t15\t31\t34\t0\n",
      "Mean\t7.96\t7.74\t8.17\tnan\n",
      "\n",
      "Quiz_5\n",
      "p = 0.104, F = 2.336\n",
      "\tYes - I exercise less\tYes - I exercise more\tNo\tnan\n",
      "N\t15\t31\t34\t0\n",
      "Mean\t8.83\t8.34\t8.91\tnan\n",
      "\n",
      "Quiz_6\n",
      "p = 0.592, F = 0.528\n",
      "\tYes - I exercise less\tYes - I exercise more\tNo\tnan\n",
      "N\t15\t31\t34\t0\n",
      "Mean\t6.86\t6.85\t7.33\tnan\n",
      "\n",
      "Midterm_2\n",
      "p = 0.945, F = 0.057\n",
      "\tYes - I exercise less\tYes - I exercise more\tNo\tnan\n",
      "N\t15\t31\t34\t0\n",
      "Mean\t78.80\t77.76\t78.46\tnan\n",
      "\n",
      "Quiz_7\n",
      "p = 0.983, F = 0.018\n",
      "\tYes - I exercise less\tYes - I exercise more\tNo\tnan\n",
      "N\t15\t31\t34\t0\n",
      "Mean\t7.96\t7.98\t7.88\tnan\n",
      "\n",
      "Quiz_8\n",
      "p = 0.688, F = 0.376\n",
      "\tYes - I exercise less\tYes - I exercise more\tNo\tnan\n",
      "N\t15\t31\t34\t0\n",
      "Mean\t6.79\t7.41\t7.50\tnan\n",
      "\n",
      "Midterm_3\n",
      "p = 0.370, F = 1.007\n",
      "\tYes - I exercise less\tYes - I exercise more\tNo\tnan\n",
      "N\t15\t31\t34\t0\n",
      "Mean\t79.46\t72.66\t76.62\tnan\n",
      "\n",
      "Quiz_9\n",
      "p = 0.299, F = 1.227\n",
      "\tYes - I exercise less\tYes - I exercise more\tNo\tnan\n",
      "N\t15\t31\t34\t0\n",
      "Mean\t8.32\t7.86\t7.38\tnan\n",
      "\n",
      "Final\n",
      "p = 0.473, F = 0.755\n",
      "\tYes - I exercise less\tYes - I exercise more\tNo\tnan\n",
      "N\t15\t31\t34\t0\n",
      "Mean\t143.80\t134.53\t133.38\tnan\n",
      "\n"
     ]
    }
   ],
   "source": [
    "print(\"ANOVA COMPARING ASSESSMENT SCORES BY CHANGING EXERCISE HABITS\\n\")\n",
    "col = 'Has_your_exercising_habit_changed_since_the_beginning_of_the_semester_'\n",
    "for assessment, _ in assessment_dates:\n",
    "    # compute_assessment_ttest(roster, col, 'Yes - I exercise more', \n",
    "    #                          'Yes - I exercise less', assessment)\n",
    "    compute_assessment_oneway_anova(roster, col, assessment)\n",
    "    print()"
   ]
  },
  {
   "cell_type": "markdown",
   "metadata": {
    "collapsed": true
   },
   "source": [
    "## By teacher assistant"
   ]
  },
  {
   "cell_type": "code",
   "execution_count": 19,
   "metadata": {
    "collapsed": false
   },
   "outputs": [
    {
     "name": "stdout",
     "output_type": "stream",
     "text": [
      "ANOVA COMPARING ASSESSMENT SCORES BY TEACHER ASSISTANT\n",
      "Quiz_1\n",
      "p = 0.201, F = 1.379\n",
      "\tEveline Postelnicu\tRebecca A Gallivan\tDina V Yuryev\tJongwon Choi\tJerome Michon\tJulia Ortony\tSanket Sunil Navale\tKayahan Saritas\tKatheryn L Scott\tErick I Hernandez\tJonathan S Paras\tJordan Ladd\n",
      "N\t8\t6\t5\t12\t8\t10\t12\t11\t6\t1\t7\t3\n",
      "Mean\t9.19\t8.83\t9.00\t9.67\t9.81\t9.40\t8.64\t9.64\t10.00\t7.50\t9.21\t9.00\n",
      "\n",
      "Quiz_2\n",
      "p = 0.483, F = 0.968\n",
      "\tEveline Postelnicu\tRebecca A Gallivan\tDina V Yuryev\tJongwon Choi\tJerome Michon\tJulia Ortony\tSanket Sunil Navale\tKayahan Saritas\tKatheryn L Scott\tErick I Hernandez\tJonathan S Paras\tJordan Ladd\n",
      "N\t8\t6\t5\t12\t8\t10\t12\t11\t6\t1\t7\t3\n",
      "Mean\t8.25\t7.58\t6.50\t8.59\t7.94\t8.20\t7.96\t7.82\t8.83\t10.00\t7.07\t9.83\n",
      "\n",
      "Quiz_3\n",
      "p = 0.549, F = 0.895\n",
      "\tEveline Postelnicu\tRebecca A Gallivan\tDina V Yuryev\tJongwon Choi\tJerome Michon\tJulia Ortony\tSanket Sunil Navale\tKayahan Saritas\tKatheryn L Scott\tErick I Hernandez\tJonathan S Paras\tJordan Ladd\n",
      "N\t8\t6\t5\t12\t8\t10\t12\t11\t6\t1\t7\t3\n",
      "Mean\t6.38\t7.58\t8.00\t6.96\t7.81\t8.00\t6.88\t8.23\t8.00\t9.00\t6.43\t7.67\n",
      "\n",
      "Midterm_1\n",
      "p = 0.254, F = 1.277\n",
      "\tEveline Postelnicu\tRebecca A Gallivan\tDina V Yuryev\tJongwon Choi\tJerome Michon\tJulia Ortony\tSanket Sunil Navale\tKayahan Saritas\tKatheryn L Scott\tErick I Hernandez\tJonathan S Paras\tJordan Ladd\n",
      "N\t8\t6\t5\t12\t8\t10\t12\t11\t6\t1\t7\t3\n",
      "Mean\t75.44\t76.08\t54.50\t74.62\t76.69\t69.65\t72.54\t77.00\t75.75\t73.50\t63.29\t75.67\n",
      "\n",
      "Quiz_4\n",
      "p = 0.116, F = 1.626\n",
      "\tEveline Postelnicu\tRebecca A Gallivan\tDina V Yuryev\tJongwon Choi\tJerome Michon\tJulia Ortony\tSanket Sunil Navale\tKayahan Saritas\tKatheryn L Scott\tErick I Hernandez\tJonathan S Paras\tJordan Ladd\n",
      "N\t8\t6\t5\t12\t8\t10\t12\t11\t6\t1\t7\t3\n",
      "Mean\t6.81\t8.00\t6.80\t8.59\t8.07\t6.55\t8.14\t8.55\t9.08\tnan\t7.86\t9.00\n",
      "\n",
      "Quiz_5\n",
      "p = 0.614, F = 0.827\n",
      "\tEveline Postelnicu\tRebecca A Gallivan\tDina V Yuryev\tJongwon Choi\tJerome Michon\tJulia Ortony\tSanket Sunil Navale\tKayahan Saritas\tKatheryn L Scott\tErick I Hernandez\tJonathan S Paras\tJordan Ladd\n",
      "N\t8\t6\t5\t12\t8\t10\t12\t11\t6\t1\t7\t3\n",
      "Mean\t8.67\t9.17\t9.12\t8.67\t8.69\t8.05\t8.33\t8.68\t9.00\t9.50\t8.14\t9.33\n",
      "\n",
      "Quiz_6\n",
      "p = 0.731, F = 0.690\n",
      "\tEveline Postelnicu\tRebecca A Gallivan\tDina V Yuryev\tJongwon Choi\tJerome Michon\tJulia Ortony\tSanket Sunil Navale\tKayahan Saritas\tKatheryn L Scott\tErick I Hernandez\tJonathan S Paras\tJordan Ladd\n",
      "N\t8\t6\t5\t12\t8\t10\t12\t11\t6\t1\t7\t3\n",
      "Mean\t7.21\t5.83\t5.50\t7.04\t7.14\t7.30\t6.75\t7.18\t8.17\tnan\t6.86\t6.75\n",
      "\n",
      "Midterm_2\n",
      "p = 0.076, F = 1.792\n",
      "\tEveline Postelnicu\tRebecca A Gallivan\tDina V Yuryev\tJongwon Choi\tJerome Michon\tJulia Ortony\tSanket Sunil Navale\tKayahan Saritas\tKatheryn L Scott\tErick I Hernandez\tJonathan S Paras\tJordan Ladd\n",
      "N\t8\t6\t5\t12\t8\t10\t12\t11\t6\t1\t7\t3\n",
      "Mean\t79.44\t84.00\t65.40\t78.54\t75.56\t73.50\t80.08\t78.59\t84.42\tnan\t71.75\t82.67\n",
      "\n",
      "Quiz_7\n",
      "p = 0.844, F = 0.573\n",
      "\tEveline Postelnicu\tRebecca A Gallivan\tDina V Yuryev\tJongwon Choi\tJerome Michon\tJulia Ortony\tSanket Sunil Navale\tKayahan Saritas\tKatheryn L Scott\tErick I Hernandez\tJonathan S Paras\tJordan Ladd\n",
      "N\t8\t6\t5\t12\t8\t10\t12\t11\t6\t1\t7\t3\n",
      "Mean\t7.62\t9.00\t7.62\t8.14\t7.12\t6.90\t7.83\t8.60\t8.20\t10.00\t6.92\t8.50\n",
      "\n",
      "Quiz_8\n",
      "p = 0.287, F = 1.230\n",
      "\tEveline Postelnicu\tRebecca A Gallivan\tDina V Yuryev\tJongwon Choi\tJerome Michon\tJulia Ortony\tSanket Sunil Navale\tKayahan Saritas\tKatheryn L Scott\tErick I Hernandez\tJonathan S Paras\tJordan Ladd\n",
      "N\t8\t6\t5\t12\t8\t10\t12\t11\t6\t1\t7\t3\n",
      "Mean\t7.21\t8.25\t6.90\t8.40\t5.64\t5.78\t7.00\t8.45\t7.58\tnan\t5.93\t7.33\n",
      "\n",
      "Midterm_3 *\n",
      "p = 0.047, F = 1.940\n",
      "\tEveline Postelnicu\tRebecca A Gallivan\tDina V Yuryev\tJongwon Choi\tJerome Michon\tJulia Ortony\tSanket Sunil Navale\tKayahan Saritas\tKatheryn L Scott\tErick I Hernandez\tJonathan S Paras\tJordan Ladd\n",
      "N\t8\t6\t5\t12\t8\t10\t12\t11\t6\t1\t7\t3\n",
      "Mean\t73.94\t79.00\t49.50\t77.79\t82.83\t71.56\t73.33\t75.45\t81.92\t73.00\t67.50\t86.00\n",
      "\n",
      "Quiz_9\n",
      "p = 0.427, F = 1.030\n",
      "\tEveline Postelnicu\tRebecca A Gallivan\tDina V Yuryev\tJongwon Choi\tJerome Michon\tJulia Ortony\tSanket Sunil Navale\tKayahan Saritas\tKatheryn L Scott\tErick I Hernandez\tJonathan S Paras\tJordan Ladd\n",
      "N\t8\t6\t5\t12\t8\t10\t12\t11\t6\t1\t7\t3\n",
      "Mean\t8.50\t7.17\t6.90\t7.42\t7.14\t6.25\t7.71\t8.56\t8.58\tnan\t7.64\t7.50\n",
      "\n",
      "Final *\n",
      "p = 0.006, F = 2.675\n",
      "\tEveline Postelnicu\tRebecca A Gallivan\tDina V Yuryev\tJongwon Choi\tJerome Michon\tJulia Ortony\tSanket Sunil Navale\tKayahan Saritas\tKatheryn L Scott\tErick I Hernandez\tJonathan S Paras\tJordan Ladd\n",
      "N\t8\t6\t5\t12\t8\t10\t12\t11\t6\t1\t7\t3\n",
      "Mean\t134.94\t147.42\t103.90\t139.59\t147.12\t133.05\t131.00\t128.86\t155.42\t34.00\t123.86\t142.33\n",
      "\n"
     ]
    }
   ],
   "source": [
    "# Strip leading and trailing white-space from each TA's name.\n",
    "roster['TA'] = roster['TA'].str.strip()\n",
    "\n",
    "print(\"ANOVA COMPARING ASSESSMENT SCORES BY TEACHER ASSISTANT\")\n",
    "col = 'TA'\n",
    "for assessment, _ in assessment_dates:\n",
    "    compute_assessment_oneway_anova(roster, col, assessment)\n",
    "    print()"
   ]
  },
  {
   "cell_type": "markdown",
   "metadata": {},
   "source": [
    "## By lab start time"
   ]
  },
  {
   "cell_type": "code",
   "execution_count": 20,
   "metadata": {
    "collapsed": false
   },
   "outputs": [
    {
     "name": "stdout",
     "output_type": "stream",
     "text": [
      "ANOVA COMPARING ASSESSMENT SCORES BY RECITATION START TIME\n",
      "Quiz_1\n",
      "p = 0.283, F = 1.265\n",
      "\t2\t10\t11\t3\t12\t4\t9\n",
      "N\t31\t15\t23\t4\t13\t1\t2\n",
      "Mean\t9.33\t9.63\t8.95\t9.88\t9.42\t7.50\t9.50\n",
      "\n",
      "Quiz_2\n",
      "p = 0.418, F = 1.020\n",
      "\t2\t10\t11\t3\t12\t4\t9\n",
      "N\t31\t15\t23\t4\t13\t1\t2\n",
      "Mean\t7.76\t7.53\t8.32\t9.25\t8.50\t10.00\t6.75\n",
      "\n",
      "Quiz_3\n",
      "p = 0.630, F = 0.726\n",
      "\t2\t10\t11\t3\t12\t4\t9\n",
      "N\t31\t15\t23\t4\t13\t1\t2\n",
      "Mean\t7.08\t7.96\t7.07\t8.12\t7.85\t9.00\t7.75\n",
      "\n",
      "Midterm_1\n",
      "p = 0.290, F = 1.249\n",
      "\t2\t10\t11\t3\t12\t4\t9\n",
      "N\t31\t15\t23\t4\t13\t1\t2\n",
      "Mean\t72.35\t68.87\t74.91\t82.00\t73.12\t73.50\t51.25\n",
      "\n",
      "Quiz_4\n",
      "p = 0.991, F = 0.106\n",
      "\t2\t10\t11\t3\t12\t4\t9\n",
      "N\t31\t15\t23\t4\t13\t1\t2\n",
      "Mean\t7.87\t8.00\t7.96\t8.17\t7.96\tnan\t7.00\n",
      "\n",
      "Quiz_5\n",
      "p = 0.576, F = 0.796\n",
      "\t2\t10\t11\t3\t12\t4\t9\n",
      "N\t31\t15\t23\t4\t13\t1\t2\n",
      "Mean\t8.66\t8.75\t8.65\t9.12\t8.08\t9.50\t9.00\n",
      "\n",
      "Quiz_6\n",
      "p = 0.413, F = 1.018\n",
      "\t2\t10\t11\t3\t12\t4\t9\n",
      "N\t31\t15\t23\t4\t13\t1\t2\n",
      "Mean\t6.97\t6.13\t7.16\t7.83\t7.54\tnan\t5.50\n",
      "\n",
      "Midterm_2\n",
      "p = 0.245, F = 1.368\n",
      "\t2\t10\t11\t3\t12\t4\t9\n",
      "N\t31\t15\t23\t4\t13\t1\t2\n",
      "Mean\t78.63\t76.27\t79.35\t80.50\t75.96\tnan\t60.75\n",
      "\n",
      "Quiz_7\n",
      "p = 0.516, F = 0.877\n",
      "\t2\t10\t11\t3\t12\t4\t9\n",
      "N\t31\t15\t23\t4\t13\t1\t2\n",
      "Mean\t7.98\t8.11\t7.96\t5.75\t7.33\t10.00\t10.00\n",
      "\n",
      "Quiz_8 *\n",
      "p = 0.014, F = 3.070\n",
      "\t2\t10\t11\t3\t12\t4\t9\n",
      "N\t31\t15\t23\t4\t13\t1\t2\n",
      "Mean\t7.30\t8.50\t7.27\t2.50\t6.54\tnan\t6.00\n",
      "\n",
      "Midterm_3\n",
      "p = 0.121, F = 1.746\n",
      "\t2\t10\t11\t3\t12\t4\t9\n",
      "N\t31\t15\t23\t4\t13\t1\t2\n",
      "Mean\t75.00\t72.17\t75.46\t92.17\t73.46\t73.00\t46.75\n",
      "\n",
      "Quiz_9\n",
      "p = 0.600, F = 0.734\n",
      "\t2\t10\t11\t3\t12\t4\t9\n",
      "N\t31\t15\t23\t4\t13\t1\t2\n",
      "Mean\t7.98\t7.57\t7.32\t6.17\t7.59\tnan\t6.25\n",
      "\n",
      "Final *\n",
      "p = 0.004, F = 3.560\n",
      "\t2\t10\t11\t3\t12\t4\t9\n",
      "N\t31\t15\t23\t4\t13\t1\t2\n",
      "Mean\t139.05\t124.87\t134.73\t157.50\t135.08\t34.00\t104.50\n",
      "\n"
     ]
    }
   ],
   "source": [
    "print(\"ANOVA COMPARING ASSESSMENT SCORES BY RECITATION START TIME\")\n",
    "col = 'Recitation_Time'\n",
    "for assessment, _ in assessment_dates:\n",
    "    compute_assessment_oneway_anova(roster, col, assessment)\n",
    "    print()"
   ]
  },
  {
   "cell_type": "markdown",
   "metadata": {},
   "source": [
    "## By morning/night person x lab start time"
   ]
  },
  {
   "cell_type": "code",
   "execution_count": 21,
   "metadata": {
    "collapsed": false,
    "scrolled": false
   },
   "outputs": [
    {
     "name": "stdout",
     "output_type": "stream",
     "text": [
      "TWO-WAY ANOVA COMPARING ASSESSMENT SCORES BY MORNING/NIGHT and LAB START TIME\n",
      "sample sizes:\n",
      "morning_night_person  Recitation_Time_24\n",
      "Morning person        10                     2\n",
      "                      11                     4\n",
      "                      12                     1\n",
      "                      14                     8\n",
      "                      15                     1\n",
      "Night person          10                     8\n",
      "                      11                     8\n",
      "                      12                     8\n",
      "                      14                    12\n",
      "                      15                     3\n",
      "                      16                     1\n",
      "No preference         10                     2\n",
      "                      11                     4\n",
      "                      12                     2\n",
      "                      14                     5\n",
      "dtype: int64\n",
      "Quiz_1\n",
      "                                               sum_sq    df          F  \\\n",
      "C(morning_night_person)                      0.177919   2.0   0.102055   \n",
      "C(Recitation_Time)                         -63.941475   6.0 -12.225652   \n",
      "C(morning_night_person):C(Recitation_Time)  23.278139  12.0   2.225398   \n",
      "Residual                                    45.327597  52.0        NaN   \n",
      "\n",
      "                                              PR(>F)  \n",
      "C(morning_night_person)                     0.903161  \n",
      "C(Recitation_Time)                          1.000000  \n",
      "C(morning_night_person):C(Recitation_Time)  0.023693  \n",
      "Residual                                         NaN  \n"
     ]
    },
    {
     "data": {
      "image/png": "[encoded data removed]",
      "text/plain": [
       "<matplotlib.figure.Figure at 0x10ff03410>"
      ]
     },
     "metadata": {},
     "output_type": "display_data"
    },
    {
     "name": "stdout",
     "output_type": "stream",
     "text": [
      "Quiz_2\n",
      "                                                sum_sq    df         F  \\\n",
      "C(morning_night_person)                      28.613399   2.0  4.944873   \n",
      "C(Recitation_Time)                          -61.226742   6.0 -3.527001   \n",
      "C(morning_night_person):C(Recitation_Time)  113.646718  12.0  3.273342   \n",
      "Residual                                    153.341667  53.0       NaN   \n",
      "\n",
      "                                              PR(>F)  \n",
      "C(morning_night_person)                     0.010739  \n",
      "C(Recitation_Time)                          1.000000  \n",
      "C(morning_night_person):C(Recitation_Time)  0.001394  \n",
      "Residual                                         NaN  \n"
     ]
    },
    {
     "data": {
      "image/png": "[encoded data removed]",
      "text/plain": [
       "<matplotlib.figure.Figure at 0x10fa63610>"
      ]
     },
     "metadata": {},
     "output_type": "display_data"
    },
    {
     "name": "stdout",
     "output_type": "stream",
     "text": [
      "Quiz_3\n",
      "                                                sum_sq    df         F  \\\n",
      "C(morning_night_person)                       3.682577   2.0  0.442682   \n",
      "C(Recitation_Time)                           -6.988579   6.0 -0.280032   \n",
      "C(morning_night_person):C(Recitation_Time)   69.469105  12.0  1.391811   \n",
      "Residual                                    220.447917  53.0       NaN   \n",
      "\n",
      "                                              PR(>F)  \n",
      "C(morning_night_person)                     0.644665  \n",
      "C(Recitation_Time)                          1.000000  \n",
      "C(morning_night_person):C(Recitation_Time)  0.199181  \n",
      "Residual                                         NaN  \n"
     ]
    },
    {
     "data": {
      "image/png": "[encoded data removed]",
      "text/plain": [
       "<matplotlib.figure.Figure at 0x10fbf7c90>"
      ]
     },
     "metadata": {},
     "output_type": "display_data"
    },
    {
     "name": "stdout",
     "output_type": "stream",
     "text": [
      "Midterm_1\n",
      "                                                  sum_sq    df         F  \\\n",
      "C(morning_night_person)                       143.662920   2.0  0.355205   \n",
      "C(Recitation_Time)                           2432.221672   6.0  2.004546   \n",
      "C(morning_night_person):C(Recitation_Time)   4550.306073  12.0  1.875096   \n",
      "Residual                                    10920.177083  54.0       NaN   \n",
      "\n",
      "                                              PR(>F)  \n",
      "C(morning_night_person)                     0.702655  \n",
      "C(Recitation_Time)                          0.080974  \n",
      "C(morning_night_person):C(Recitation_Time)  0.058769  \n",
      "Residual                                         NaN  \n"
     ]
    },
    {
     "data": {
      "image/png": "[encoded data removed]",
      "text/plain": [
       "<matplotlib.figure.Figure at 0x10feba990>"
      ]
     },
     "metadata": {},
     "output_type": "display_data"
    },
    {
     "name": "stdout",
     "output_type": "stream",
     "text": [
      "Quiz_4\n",
      "Error: Singular matrix\n"
     ]
    },
    {
     "data": {
      "image/png": "[encoded data removed]",
      "text/plain": [
       "<matplotlib.figure.Figure at 0x11056d210>"
      ]
     },
     "metadata": {},
     "output_type": "display_data"
    },
    {
     "name": "stdout",
     "output_type": "stream",
     "text": [
      "Quiz_5\n",
      "                                               sum_sq    df         F  \\\n",
      "C(morning_night_person)                      1.295697   2.0  0.490004   \n",
      "C(Recitation_Time)                           4.294996   6.0  0.541424   \n",
      "C(morning_night_person):C(Recitation_Time)  61.804817  12.0  3.895533   \n",
      "Residual                                    68.750758  52.0       NaN   \n",
      "\n",
      "                                              PR(>F)  \n",
      "C(morning_night_person)                     0.615424  \n",
      "C(Recitation_Time)                          0.774250  \n",
      "C(morning_night_person):C(Recitation_Time)  0.000288  \n",
      "Residual                                         NaN  \n"
     ]
    },
    {
     "data": {
      "image/png": "[encoded data removed]",
      "text/plain": [
       "<matplotlib.figure.Figure at 0x1118b4050>"
      ]
     },
     "metadata": {},
     "output_type": "display_data"
    },
    {
     "name": "stdout",
     "output_type": "stream",
     "text": [
      "Quiz_6\n",
      "Error: Singular matrix\n"
     ]
    },
    {
     "data": {
      "image/png": "[encoded data removed]",
      "text/plain": [
       "<matplotlib.figure.Figure at 0x1116c2c50>"
      ]
     },
     "metadata": {},
     "output_type": "display_data"
    },
    {
     "name": "stdout",
     "output_type": "stream",
     "text": [
      "Midterm_2\n",
      "Error: Singular matrix\n"
     ]
    },
    {
     "data": {
      "image/png": "[encoded data removed]",
      "text/plain": [
       "<matplotlib.figure.Figure at 0x111fe7990>"
      ]
     },
     "metadata": {},
     "output_type": "display_data"
    },
    {
     "name": "stdout",
     "output_type": "stream",
     "text": [
      "Quiz_7\n",
      "                                                sum_sq    df         F  \\\n",
      "C(morning_night_person)                      18.498182   2.0  1.698430   \n",
      "C(Recitation_Time)                           28.416187   6.0  0.869687   \n",
      "C(morning_night_person):C(Recitation_Time)   46.170678  12.0  0.706535   \n",
      "Residual                                    272.283631  50.0       NaN   \n",
      "\n",
      "                                              PR(>F)  \n",
      "C(morning_night_person)                     0.193356  \n",
      "C(Recitation_Time)                          0.523745  \n",
      "C(morning_night_person):C(Recitation_Time)  0.737656  \n",
      "Residual                                         NaN  \n"
     ]
    },
    {
     "data": {
      "image/png": "[encoded data removed]",
      "text/plain": [
       "<matplotlib.figure.Figure at 0x111ea1f10>"
      ]
     },
     "metadata": {},
     "output_type": "display_data"
    },
    {
     "name": "stdout",
     "output_type": "stream",
     "text": [
      "Quiz_8\n",
      "Error: Singular matrix\n"
     ]
    },
    {
     "data": {
      "image/png": "[encoded data removed]",
      "text/plain": [
       "<matplotlib.figure.Figure at 0x112638650>"
      ]
     },
     "metadata": {},
     "output_type": "display_data"
    },
    {
     "name": "stdout",
     "output_type": "stream",
     "text": [
      "Midterm_3\n",
      "                                                  sum_sq    df          F  \\\n",
      "C(morning_night_person)                      1124.333598   2.0   3.271534   \n",
      "C(Recitation_Time)                         -31036.782394   6.0 -30.103134   \n",
      "C(morning_night_person):C(Recitation_Time)   4274.339001  12.0   2.072879   \n",
      "Residual                                     8935.463393  52.0        NaN   \n",
      "\n",
      "                                              PR(>F)  \n",
      "C(morning_night_person)                     0.045891  \n",
      "C(Recitation_Time)                          1.000000  \n",
      "C(morning_night_person):C(Recitation_Time)  0.035557  \n",
      "Residual                                         NaN  \n"
     ]
    },
    {
     "data": {
      "image/png": "[encoded data removed]",
      "text/plain": [
       "<matplotlib.figure.Figure at 0x112046290>"
      ]
     },
     "metadata": {},
     "output_type": "display_data"
    },
    {
     "name": "stdout",
     "output_type": "stream",
     "text": [
      "Quiz_9\n",
      "Error: Singular matrix\n"
     ]
    },
    {
     "data": {
      "image/png": "[encoded data removed]",
      "text/plain": [
       "<matplotlib.figure.Figure at 0x112987490>"
      ]
     },
     "metadata": {},
     "output_type": "display_data"
    },
    {
     "name": "stdout",
     "output_type": "stream",
     "text": [
      "Final\n",
      "                                                  sum_sq    df         F  \\\n",
      "C(morning_night_person)                      1927.354068   2.0  1.204855   \n",
      "C(Recitation_Time)                           9144.341635   6.0  1.905481   \n",
      "C(morning_night_person):C(Recitation_Time)  29554.851352  12.0  3.079292   \n",
      "Residual                                    42390.886310  53.0       NaN   \n",
      "\n",
      "                                              PR(>F)  \n",
      "C(morning_night_person)                     0.307811  \n",
      "C(Recitation_Time)                          0.097015  \n",
      "C(morning_night_person):C(Recitation_Time)  0.002338  \n",
      "Residual                                         NaN  \n"
     ]
    },
    {
     "data": {
      "image/png": "[encoded data removed]",
      "text/plain": [
       "<matplotlib.figure.Figure at 0x112963510>"
      ]
     },
     "metadata": {},
     "output_type": "display_data"
    }
   ],
   "source": [
    "print(\"TWO-WAY ANOVA COMPARING ASSESSMENT SCORES BY MORNING/NIGHT and LAB START TIME\")\n",
    "\n",
    "col_1 = 'Are_you_a_morning_or_night_person___when_do_you_feel_most_productive__'\n",
    "new_col_1 = 'morning_night_person'  # Rename col_1 to this.\n",
    "col_2 = 'Recitation_Time'\n",
    "\n",
    "tmp = roster.copy()\n",
    "tmp.rename(columns={col_1: new_col_1}, inplace=True)  # Rename col_1.\n",
    "# Convert 2, 3 and 4pm to 24H clock. Make this a new column and use it as the\n",
    "# x-axis in the interaction plot. Use the original recitation time (12H) in \n",
    "# ANOVA, because for some reason using the 24H values causes singularity matrix\n",
    "# error.\n",
    "tmp['Recitation_Time_24'] = tmp['Recitation_Time'].replace(to_replace=[2, 3, 4],\n",
    "                                                           value=[14, 15, 16])\n",
    "\n",
    "print(\"sample sizes:\")\n",
    "print(tmp.groupby([new_col_1, 'Recitation_Time_24']).size())\n",
    "\n",
    "for assessment, _ in assessment_dates:\n",
    "    print(assessment)\n",
    "    # Formula: effect of col_1 on grade, effect of col_2 on grade, and effect\n",
    "    # of interaction between col_1 and col_2 on grade.\n",
    "    formula = (\"{} ~ C({c1}) + C({c2}) + C({c1}):C({c2})\"\n",
    "                         \"\".format(assessment, c1=new_col_1, c2=col_2))\n",
    "    try:\n",
    "        lm = ols(formula, tmp, missing='drop').fit()  # Fit the model.\n",
    "        print(anova_lm(lm, typ=2))  # Print ANOVA summary table.\n",
    "    except np.linalg.linalg.LinAlgError as e:\n",
    "        print(\"Error: {}\".format(e))\n",
    "    \n",
    "    # Plot interaction.\n",
    "    interaction_plot(x=tmp['Recitation_Time_24'], trace=tmp[new_col_1], \n",
    "                     response=tmp[assessment]);\n",
    "    plt.title(\"Interaction plot for {}\".format(assessment))\n",
    "    plt.show()"
   ]
  },
  {
   "cell_type": "markdown",
   "metadata": {},
   "source": [
    "## By bed time"
   ]
  },
  {
   "cell_type": "code",
   "execution_count": 22,
   "metadata": {
    "collapsed": false,
    "scrolled": true
   },
   "outputs": [
    {
     "name": "stdout",
     "output_type": "stream",
     "text": [
      "ANOVA COMPARING ASSESSMENT SCORES BY BEDTIME\n",
      "Quiz_1\n",
      "p = 0.346, F = 1.134\n",
      "\t1a-2a\tafter 3a\t12a-1a\t2a-3a\t11p-12p\n",
      "N\t26\t34\t19\t8\t2\n",
      "Mean\t9.46\t9.00\t9.58\t9.50\t9.50\n",
      "\n",
      "Quiz_2\n",
      "p = 0.438, F = 0.953\n",
      "\t1a-2a\tafter 3a\t12a-1a\t2a-3a\t11p-12p\n",
      "N\t26\t34\t19\t8\t2\n",
      "Mean\t8.54\t7.70\t8.26\t7.50\t7.25\n",
      "\n",
      "Quiz_3\n",
      "p = 0.113, F = 1.932\n",
      "\t1a-2a\tafter 3a\t12a-1a\t2a-3a\t11p-12p\n",
      "N\t26\t34\t19\t8\t2\n",
      "Mean\t7.73\t6.79\t8.00\t7.12\t9.25\n",
      "\n",
      "Midterm_1\n",
      "p = 0.256, F = 1.356\n",
      "\t1a-2a\tafter 3a\t12a-1a\t2a-3a\t11p-12p\n",
      "N\t26\t34\t19\t8\t2\n",
      "Mean\t75.83\t69.10\t72.55\t72.25\t88.00\n",
      "\n",
      "Quiz_4\n",
      "p = 0.825, F = 0.376\n",
      "\t1a-2a\tafter 3a\t12a-1a\t2a-3a\t11p-12p\n",
      "N\t26\t34\t19\t8\t2\n",
      "Mean\t8.12\t7.84\t7.87\t7.36\t9.00\n",
      "\n",
      "Quiz_5 *\n",
      "p = 0.035, F = 2.720\n",
      "\t1a-2a\tafter 3a\t12a-1a\t2a-3a\t11p-12p\n",
      "N\t26\t34\t19\t8\t2\n",
      "Mean\t8.88\t8.14\t8.95\t9.07\t8.75\n",
      "\n",
      "Quiz_6\n",
      "p = 0.325, F = 1.183\n",
      "\t1a-2a\tafter 3a\t12a-1a\t2a-3a\t11p-12p\n",
      "N\t26\t34\t19\t8\t2\n",
      "Mean\t6.88\t6.56\t7.68\t7.43\t6.00\n",
      "\n",
      "Midterm_2\n",
      "p = 0.299, F = 1.244\n",
      "\t1a-2a\tafter 3a\t12a-1a\t2a-3a\t11p-12p\n",
      "N\t26\t34\t19\t8\t2\n",
      "Mean\t79.40\t75.09\t78.95\t76.81\t88.50\n",
      "\n",
      "Quiz_7\n",
      "p = 0.468, F = 0.899\n",
      "\t1a-2a\tafter 3a\t12a-1a\t2a-3a\t11p-12p\n",
      "N\t26\t34\t19\t8\t2\n",
      "Mean\t8.37\t7.52\t7.82\t6.93\t9.50\n",
      "\n",
      "Quiz_8\n",
      "p = 0.342, F = 1.144\n",
      "\t1a-2a\tafter 3a\t12a-1a\t2a-3a\t11p-12p\n",
      "N\t26\t34\t19\t8\t2\n",
      "Mean\t7.37\t6.43\t7.50\t8.00\t9.25\n",
      "\n",
      "Midterm_3\n",
      "p = 0.260, F = 1.347\n",
      "\t1a-2a\tafter 3a\t12a-1a\t2a-3a\t11p-12p\n",
      "N\t26\t34\t19\t8\t2\n",
      "Mean\t76.82\t70.02\t76.32\t74.94\t91.00\n",
      "\n",
      "Quiz_9\n",
      "p = 0.841, F = 0.353\n",
      "\t1a-2a\tafter 3a\t12a-1a\t2a-3a\t11p-12p\n",
      "N\t26\t34\t19\t8\t2\n",
      "Mean\t7.88\t7.47\t7.25\t7.57\t8.50\n",
      "\n",
      "Final\n",
      "p = 0.200, F = 1.534\n",
      "\t1a-2a\tafter 3a\t12a-1a\t2a-3a\t11p-12p\n",
      "N\t26\t34\t19\t8\t2\n",
      "Mean\t134.17\t126.88\t140.68\t135.75\t171.00\n",
      "\n"
     ]
    }
   ],
   "source": [
    "def create_bedtime_df(df):\n",
    "    \"\"\"Return pd.DataFrame with subjectID and most frequent bedtime\n",
    "    category.\n",
    "    \n",
    "    df: pd.DataFrame of sleep data.\n",
    "    \"\"\"\n",
    "    def map_bedtime(time):\n",
    "        \"\"\"Return bedtime category based on bedtime.\"\"\"\n",
    "        bedtime_mapping = {\n",
    "            21: '9p-10p',\n",
    "            22: '10p-11p',\n",
    "            23: '11p-12p',\n",
    "            0: '12a-1a',\n",
    "            1: '1a-2a',\n",
    "            2: '2a-3a',\n",
    "        }\n",
    "        try:\n",
    "            return bedtime_mapping[time.hour]\n",
    "        except KeyError:\n",
    "            # Bedtime between 3 am and noon.\n",
    "            if time.hour <= 12:\n",
    "                return 'after 3a'\n",
    "            # Bedtime between 1pm and 9pm.\n",
    "            else:\n",
    "                return 'before 9p'\n",
    "\n",
    "    df['bedtime'] = df.startDateTime.apply(map_bedtime)\n",
    "    \n",
    "    most_freq_bedtime = {\n",
    "        'subjectID': [],\n",
    "        'bedtime': [],\n",
    "    }\n",
    "    for subj, data in df.groupby('subjectID'):\n",
    "        val_counts = pd.value_counts(data['bedtime'])\n",
    "        most_freq_bedtime['subjectID'].append(subj)\n",
    "        most_freq_bedtime['bedtime'].append(val_counts.index[0])\n",
    "        \n",
    "    return pd.DataFrame(most_freq_bedtime)\n",
    "\n",
    "# Create temporary copy of roster and add bedtime column to that copy.\n",
    "tmp = roster.copy()\n",
    "bedtime_df = create_bedtime_df(sleep_df)\n",
    "tmp = tmp.merge(bedtime_df, on=['subjectID'])\n",
    "\n",
    "print(\"ANOVA COMPARING ASSESSMENT SCORES BY BEDTIME\")\n",
    "col = 'bedtime'\n",
    "for assessment, _ in assessment_dates:\n",
    "    compute_assessment_oneway_anova(tmp, col, assessment)\n",
    "    print()"
   ]
  },
  {
   "cell_type": "code",
   "execution_count": null,
   "metadata": {
    "collapsed": true
   },
   "outputs": [],
   "source": []
  },
  {
   "cell_type": "markdown",
   "metadata": {},
   "source": [
    "## Add more...\n",
    "\n",
    "- stress pre post (paired t-test)"
   ]
  },
  {
   "cell_type": "code",
   "execution_count": null,
   "metadata": {
    "collapsed": true
   },
   "outputs": [],
   "source": []
  },
  {
   "cell_type": "markdown",
   "metadata": {},
   "source": [
    "# Methods to normalize heart rate data\n",
    "\n",
    "Currently, we divide each sample by the resting heart rate.\n",
    "\n",
    "1. Try scaling heart rate by dividing each sample by max. This would also move the data range to [0, 1]. Not sure whether that's beneficial.\n",
    "1. Also try finding slope of line from max heart rate to resting heart rate.\n",
    "\n",
    "\n",
    "Whatever we choose, the function should return a DataFrame with subjectID, date, and scaling factor."
   ]
  },
  {
   "cell_type": "code",
   "execution_count": null,
   "metadata": {
    "collapsed": true
   },
   "outputs": [],
   "source": []
  },
  {
   "cell_type": "markdown",
   "metadata": {},
   "source": [
    "# Heart rate and assessment scores"
   ]
  },
  {
   "cell_type": "code",
   "execution_count": 23,
   "metadata": {
    "collapsed": false
   },
   "outputs": [],
   "source": [
    "def copy_hr_data_add_datetime(hr, rest_hr):\n",
    "    \"\"\"Copy the heart rate dataframe and convert relevant columns to datetime.\n",
    "    Use this function to create a new temporary dataframe for each analysis.\n",
    "    This function:\n",
    "        1. Copies the heart rate dataframe.\n",
    "        2. Adds each subject's recitation.\n",
    "        3. Adds resting heart rate data.\n",
    "        4. Creates a `scaled_bpm` column.\n",
    "        5. Converts date-like columns to datetime format.\n",
    "    \"\"\"\n",
    "    # Copy the heart rate data.\n",
    "    tmp = hr.copy()\n",
    "    \n",
    "    # Merge with recitation CSV to get recitation times.\n",
    "    tmp = tmp.merge(recitation, on=['subjectID'])\n",
    "    # Merge with resting heart rate data, and add scaled bpm.\n",
    "    tmp = tmp.merge(rest_hr.copy(), on=['date', 'subjectID', 'group'])\n",
    "    tmp['scaled_bpm'] = tmp.bpm.divide(tmp.resting_bpm)\n",
    "    \n",
    "    # Convert dateTime and date columns to datetime format.\n",
    "    tmp.dateTime = pd.to_datetime(tmp.dateTime)\n",
    "    tmp.date = pd.to_datetime(tmp.date)\n",
    "    # Make dateTime the index.\n",
    "    tmp.set_index('dateTime', inplace=True, drop=False)\n",
    "    # # Now that the index is dateTime, we can subset like this:\n",
    "    # tmp['2016-09-12':'2016-09-15']\n",
    "    \n",
    "    return tmp"
   ]
  },
  {
   "cell_type": "markdown",
   "metadata": {},
   "source": [
    "## During assessments"
   ]
  },
  {
   "cell_type": "markdown",
   "metadata": {},
   "source": [
    "### During quizzes\n",
    "\n",
    "This is separate from midterms and finals because the time of the quiz depends on each subject's recitation time."
   ]
  },
  {
   "cell_type": "code",
   "execution_count": 24,
   "metadata": {
    "collapsed": false
   },
   "outputs": [
    {
     "name": "stdout",
     "output_type": "stream",
     "text": [
      "CORRELATIONS OF SCALED HEART RATE DURING QUIZ WITH QUIZ SCORE\n",
      "\n",
      "Quiz_1: 0.09\n",
      "Quiz_2: -0.09\n",
      "Quiz_3: 0.01\n",
      "Quiz_4: -0.03\n",
      "Quiz_5: 0.02\n",
      "Quiz_6: -0.13\n",
      "Quiz_7: -0.13\n",
      "Quiz_8: 0.09\n",
      "Quiz_9: -0.03\n"
     ]
    }
   ],
   "source": [
    "tmp = copy_hr_data_add_datetime(hr_df, rest_hr_df)\n",
    "\n",
    "def correlate_hr_during_quiz(hr, assessment, date, roster=roster):\n",
    "    \"\"\"\n",
    "    hr: dataframe of heart rate data, with column 'scaled_bpm'.\n",
    "    roster: dataframe of roster data.\n",
    "    assessment: name of assessment. Must match column name in roster.\n",
    "    date: date of assessment.\n",
    "    \"\"\"\n",
    "    # Subset data only from the assessment date and each subject's recitation hour.\n",
    "    hr = hr[date][hr[date].index.hour == hr[date].recitation]\n",
    "    \n",
    "    # Check quiz times with Kana.\n",
    "    # Subset data from only the XX:10 to XX:20.\n",
    "    hr = hr[(hr.index.minute >= 10) & (hr.index.minute <= 20)]\n",
    "\n",
    "    # Make dataframe of mean and stdev of heart rate by subject.\n",
    "    hr = pd.DataFrame.from_dict(\n",
    "        {subj: [subj, data.scaled_bpm.mean(), data.scaled_bpm.std()] for subj, data in \n",
    "         hr.groupby('subjectID')}, \n",
    "        orient='index')\n",
    "    hr.rename(columns={0:'subjectID', 1:'mean', 2:'std'}, inplace=True)\n",
    "\n",
    "    # Merge with roster to get quiz scores.\n",
    "    hr = hr.merge(roster, on=['subjectID'])\n",
    "    \n",
    "    return hr['mean'].corr(hr[assessment])\n",
    "\n",
    "print(\"CORRELATIONS OF SCALED HEART RATE DURING QUIZ WITH QUIZ SCORE\\n\")\n",
    "for assessment, date in assessment_dates:\n",
    "    if \"quiz\" in assessment.lower():\n",
    "        corr = correlate_hr_during_quiz(tmp, assessment, date)\n",
    "        print(\"{}: {:.2f}\".format(assessment, corr))"
   ]
  },
  {
   "cell_type": "markdown",
   "metadata": {},
   "source": [
    "### During midterms and final"
   ]
  },
  {
   "cell_type": "code",
   "execution_count": 25,
   "metadata": {
    "collapsed": false
   },
   "outputs": [
    {
     "name": "stdout",
     "output_type": "stream",
     "text": [
      "CORRELATIONS OF SCALED HEART RATE DURING ASSESSMENT WITH SCORE\n",
      "\n",
      "Midterm_1: 0.09\n",
      "Midterm_2: -0.22\n"
     ]
    }
   ],
   "source": [
    "tmp = copy_hr_data_add_datetime(hr_df, rest_hr_df)\n",
    "\n",
    "def correlate_hr_during_midterm_final(hr, assessment, start_time, end_time, \n",
    "                                      roster=roster):\n",
    "    \"\"\"\n",
    "    hr: dataframe with heart rate data\n",
    "    start_time: start of the assessment (e.g., '10/05/2016 11:05')\n",
    "    end_time: end of the assessment (e.g., '10/05/2016 11:55)\n",
    "    end_time:\n",
    "    \"\"\"\n",
    "    hr = hr.copy()\n",
    "    \n",
    "    # Subset only data between start and end time. This includes end-points.\n",
    "    hr = hr[start_time:end_time]\n",
    "\n",
    "    # Make dataframe of mean and stdev of heart rate by subject.\n",
    "    hr = pd.DataFrame.from_dict(\n",
    "        {subj: [subj, data.scaled_bpm.mean(), data.scaled_bpm.std()] for subj, data in \n",
    "         hr.groupby('subjectID')}, \n",
    "        orient='index')\n",
    "    hr.rename(columns={0:'subjectID', 1:'mean', 2:'std'}, inplace=True)\n",
    "\n",
    "    # Merge with roster to get quiz scores.\n",
    "    hr = hr.merge(roster, on=['subjectID'])\n",
    "\n",
    "    return hr['mean'].corr(hr[assessment])\n",
    "\n",
    "print(\"CORRELATIONS OF SCALED HEART RATE DURING ASSESSMENT WITH SCORE\\n\")\n",
    "for assessment, start, end in midterm_final_datetimes:\n",
    "    corr = correlate_hr_during_midterm_final(tmp, assessment, start, end)\n",
    "    print(\"{}: {:.2f}\".format(assessment, corr))"
   ]
  },
  {
   "cell_type": "markdown",
   "metadata": {},
   "source": [
    "## One hour before assessment"
   ]
  },
  {
   "cell_type": "markdown",
   "metadata": {},
   "source": [
    "### One hour before quizzes"
   ]
  },
  {
   "cell_type": "code",
   "execution_count": 26,
   "metadata": {
    "collapsed": false
   },
   "outputs": [
    {
     "name": "stdout",
     "output_type": "stream",
     "text": [
      "CORRELATIONS OF SCALED HEART RATE ONE HOUR BEFORE QUIZ WITH QUIZ SCORE\n",
      "\n",
      "Quiz_1: -0.05\n",
      "Quiz_2: -0.06\n",
      "Quiz_3: 0.01\n",
      "Quiz_4: 0.07\n",
      "Quiz_5: -0.07\n",
      "Quiz_6: -0.07\n",
      "Quiz_7: -0.01\n",
      "Quiz_8: 0.00\n",
      "Quiz_9: 0.08\n"
     ]
    }
   ],
   "source": [
    "tmp = copy_hr_data_add_datetime(hr_df, rest_hr_df)\n",
    "\n",
    "def correlate_hr_hour_before_quiz(hr, assessment, date, roster=roster):\n",
    "    \"\"\"\n",
    "    hr: dataframe of heart rate data, with column 'scaled_bpm'.\n",
    "    roster: dataframe of roster data.\n",
    "    assessment: name of assessment. Must match column name in roster.\n",
    "    date: date of assessment.\n",
    "    \"\"\"\n",
    "    hr = hr.copy()\n",
    "\n",
    "    # Subset data only from the assessment date and each subject's recitation hour.\n",
    "    hr = hr[date][hr[date].index.hour == hr[date].recitation - 1]\n",
    "\n",
    "    # Make dataframe of mean and stdev of heart rate by subject.\n",
    "    hr = pd.DataFrame.from_dict(\n",
    "        {subj: [subj, data.scaled_bpm.mean(), data.scaled_bpm.std()] for subj, data in \n",
    "         hr.groupby('subjectID')}, \n",
    "        orient='index')\n",
    "    hr.rename(columns={0:'subjectID', 1:'mean', 2:'std'}, inplace=True)\n",
    "\n",
    "    # Merge with roster to get quiz scores.\n",
    "    hr = hr.merge(roster, on=['subjectID'])\n",
    "    \n",
    "    return hr['mean'].corr(hr[assessment])\n",
    "\n",
    "print(\"CORRELATIONS OF SCALED HEART RATE ONE HOUR BEFORE QUIZ WITH QUIZ SCORE\\n\")\n",
    "for assessment, date in assessment_dates:\n",
    "    if \"quiz\" in assessment.lower():\n",
    "        corr = correlate_hr_hour_before_quiz(tmp, assessment, date)\n",
    "        print(\"{}: {:.2f}\".format(assessment, corr))"
   ]
  },
  {
   "cell_type": "markdown",
   "metadata": {},
   "source": [
    "### One hour before midterms and final"
   ]
  },
  {
   "cell_type": "code",
   "execution_count": 27,
   "metadata": {
    "collapsed": false
   },
   "outputs": [
    {
     "name": "stdout",
     "output_type": "stream",
     "text": [
      "CORRELATIONS OF SCALED HEART RATE HOUR BEFORE ASSESSMENT WITH SCORE\n",
      "\n",
      "Midterm_1: 0.05\n",
      "Midterm_2: -0.11\n"
     ]
    }
   ],
   "source": [
    "tmp = copy_hr_data_add_datetime(hr_df, rest_hr_df)\n",
    "\n",
    "def correlate_hr_hour_before_midterm_final(hr, assessment, start_time, roster=roster):\n",
    "    \"\"\"\n",
    "    hr: dataframe with heart rate data\n",
    "    start_time: start of the assessment (e.g., '10/05/2016 11:05')\n",
    "    \"\"\"\n",
    "    hr = hr.copy()\n",
    "    \n",
    "    # Subtract one hour from the start time, to get the start time for this func\n",
    "    offset = pd.to_datetime(start_time) - pd.Timedelta(hours=1)\n",
    "    offset = str(offset)\n",
    "    \n",
    "    # Subset only data between start and end time. This includes end-points.\n",
    "    hr = hr[offset:start_time]\n",
    "\n",
    "    # Make dataframe of mean and stdev of heart rate by subject.\n",
    "    hr = pd.DataFrame.from_dict(\n",
    "        {subj: [subj, data.scaled_bpm.mean(), data.scaled_bpm.std()] for subj, data in \n",
    "         hr.groupby('subjectID')}, \n",
    "        orient='index')\n",
    "    hr.rename(columns={0:'subjectID', 1:'mean', 2:'std'}, inplace=True)\n",
    "\n",
    "    # Merge with roster to get quiz scores.\n",
    "    hr = hr.merge(roster, on=['subjectID'])\n",
    "\n",
    "    return hr['mean'].corr(hr[assessment])\n",
    "\n",
    "print(\"CORRELATIONS OF SCALED HEART RATE HOUR BEFORE ASSESSMENT WITH SCORE\\n\")\n",
    "for assessment, start, end in midterm_final_datetimes:\n",
    "    corr = correlate_hr_hour_before_midterm_final(tmp, assessment, start)\n",
    "    print(\"{}: {:.2f}\".format(assessment, corr))"
   ]
  },
  {
   "cell_type": "markdown",
   "metadata": {},
   "source": [
    "## One day before assessment"
   ]
  },
  {
   "cell_type": "code",
   "execution_count": 28,
   "metadata": {
    "collapsed": false
   },
   "outputs": [
    {
     "name": "stdout",
     "output_type": "stream",
     "text": [
      "CORRELATIONS OF SCALED HEART RATE DAY BEFORE ASSESSMENT WITH SCORE\n",
      "\n",
      "Quiz_1: 0.00\n",
      "Quiz_2: 0.13\n",
      "Quiz_3: -0.02\n",
      "Midterm_1: 0.09\n",
      "Quiz_4: -0.06\n",
      "Quiz_5: -0.05\n",
      "Quiz_6: 0.00\n",
      "Midterm_2: -0.18\n",
      "Quiz_7: -0.07\n",
      "Quiz_8: -0.10\n",
      "Midterm_3: 0.04\n",
      "Quiz_9: -0.02\n",
      "Final: 0.22\n"
     ]
    }
   ],
   "source": [
    "tmp = copy_hr_data_add_datetime(hr_df, rest_hr_df)\n",
    "\n",
    "def correlate_hr_day_assessment(hr, date, roster=roster):\n",
    "    \"\"\"\n",
    "    hr: dataframe with heart rate data\n",
    "    start_time: start of the assessment (e.g., '10/05/2016 11:05')\n",
    "    \"\"\"\n",
    "    hr = hr.copy()\n",
    "    \n",
    "    # Subset data from the day before the given date.\n",
    "    hr = hr[date]\n",
    "\n",
    "    # Make dataframe of mean and stdev of heart rate by subject.\n",
    "    hr = pd.DataFrame.from_dict(\n",
    "        {subj: [subj, data.scaled_bpm.mean(), data.scaled_bpm.std()] for subj, data in \n",
    "         hr.groupby('subjectID')}, \n",
    "        orient='index')\n",
    "    hr.rename(columns={0:'subjectID', 1:'mean', 2:'std'}, inplace=True)\n",
    "\n",
    "    # Merge with roster to get quiz scores.\n",
    "    hr = hr.merge(roster, on=['subjectID'])\n",
    "\n",
    "    return hr['mean'].corr(hr[assessment])\n",
    "\n",
    "print(\"CORRELATIONS OF SCALED HEART RATE DAY BEFORE ASSESSMENT WITH SCORE\\n\")\n",
    "for assessment, date in assessment_dates:\n",
    "    # Get date of the day before the assessment.\n",
    "    day_before = str(pd.to_datetime(date) - pd.Timedelta(days=1))\n",
    "    corr = correlate_hr_day_assessment(tmp, day_before)\n",
    "    print(\"{}: {:.2f}\".format(assessment, corr))"
   ]
  },
  {
   "cell_type": "markdown",
   "metadata": {},
   "source": [
    "## Same day as assessment"
   ]
  },
  {
   "cell_type": "code",
   "execution_count": 29,
   "metadata": {
    "collapsed": false
   },
   "outputs": [
    {
     "name": "stdout",
     "output_type": "stream",
     "text": [
      "CORRELATIONS OF SCALED HEART RATE DAY BEFORE ASSESSMENT WITH SCORE\n",
      "\n",
      "Quiz_1: 0.02\n",
      "Quiz_2: 0.11\n",
      "Quiz_3: 0.21\n",
      "Midterm_1: -0.05\n",
      "Quiz_4: -0.09\n",
      "Quiz_5: 0.07\n",
      "Quiz_6: 0.06\n",
      "Midterm_2: -0.15\n",
      "Quiz_7: -0.22\n",
      "Quiz_8: 0.14\n",
      "Midterm_3: 0.04\n",
      "Quiz_9: 0.12\n",
      "Final: 0.01\n"
     ]
    }
   ],
   "source": [
    "tmp = copy_hr_data_add_datetime(hr_df, rest_hr_df)\n",
    "\n",
    "print(\"CORRELATIONS OF SCALED HEART RATE DAY BEFORE ASSESSMENT WITH SCORE\\n\")\n",
    "for assessment, date in assessment_dates:\n",
    "    corr = correlate_hr_day_assessment(tmp, date)\n",
    "    print(\"{}: {:.2f}\".format(assessment, corr))"
   ]
  },
  {
   "cell_type": "markdown",
   "metadata": {
    "collapsed": true
   },
   "source": [
    "# Sleep analyses"
   ]
  },
  {
   "cell_type": "markdown",
   "metadata": {},
   "source": [
    "##  Correlate mean sleep duration/quality with assessment score"
   ]
  },
  {
   "cell_type": "code",
   "execution_count": 30,
   "metadata": {
    "collapsed": false
   },
   "outputs": [
    {
     "name": "stdout",
     "output_type": "stream",
     "text": [
      "CORRELATION OF OVERALL SLEEP WITH ASSESSMENT SCORE\n",
      "\n",
      "Assessment\tDuration\tQuality\n",
      "----------\t--------\t-------\n",
      "Quiz_1   \t0.19\t\t0.09\n",
      "Quiz_2   \t0.19\t\t0.23\n",
      "Quiz_3   \t0.38\t\t0.23\n",
      "Midterm_1   \t0.25\t\t0.31\n",
      "Quiz_4   \t0.31\t\t0.35\n",
      "Quiz_5   \t0.30\t\t0.21\n",
      "Quiz_6   \t0.18\t\t0.17\n",
      "Midterm_2   \t0.37\t\t0.40\n",
      "Quiz_7   \t0.10\t\t0.17\n",
      "Quiz_8   \t0.07\t\t0.15\n",
      "Midterm_3   \t0.32\t\t0.30\n",
      "Quiz_9   \t0.01\t\t0.16\n",
      "Final   \t0.13\t\t0.21\n"
     ]
    }
   ],
   "source": [
    "def correlate_mean_sleep_assessment(sleep_df, roster):\n",
    "    \"\"\"Correlate average sleep duration and quality with assessment scores.\n",
    "    \n",
    "    sleep_df: pd.DataFrame of sleep data.\n",
    "    roster: pd.DataFrame of the study roster.\n",
    "    \"\"\"\n",
    "    # Get mean sleep duration per subject.\n",
    "    roster['avg_sleep_dur'] = sleep_df.groupby('subjectID')['sleepDuration'].apply(\n",
    "                                    lambda x: x.values.mean()).values\n",
    "    # Get mean sleep quality per subject.\n",
    "    roster['avg_sleep_qual'] = sleep_df.groupby('subjectID')['sleepQualityScoreA'].apply(\n",
    "                                    lambda x: x.values.mean()).values\n",
    "\n",
    "    print(\"CORRELATION OF OVERALL SLEEP WITH ASSESSMENT SCORE\\n\")\n",
    "    print(\"Assessment\\tDuration\\tQuality\")\n",
    "    print(\"----------\\t--------\\t-------\")\n",
    "    for name, date in assessment_dates:\n",
    "        r_dur = roster['avg_sleep_dur'].corr(roster[name])\n",
    "        r_qual = roster['avg_sleep_qual'].corr(roster[name])\n",
    "        print(\"{}   \\t{:.2f}\\t\\t{:.2f}\".format(name, r_dur, r_qual))\n",
    "\n",
    "correlate_mean_sleep_assessment(sleep_df.copy(), roster.copy())"
   ]
  },
  {
   "cell_type": "markdown",
   "metadata": {},
   "source": [
    "## Correlate sleep night before with assessment score\n",
    "\n",
    "For each assessment date, correlate the sleep duration/quality and scores on that date."
   ]
  },
  {
   "cell_type": "code",
   "execution_count": 31,
   "metadata": {
    "collapsed": false
   },
   "outputs": [
    {
     "name": "stdout",
     "output_type": "stream",
     "text": [
      "CORRELATION OF SLEEP NIGHT BEFORE WITH ASSESSMENT SCORE\n",
      "\n",
      "Assessment\tDuration\tQuality\n",
      "----------\t--------\t-------\n",
      "Quiz_1   \t0.10\t\t0.11\n",
      "Quiz_2   \t0.08\t\t0.06\n",
      "Quiz_3   \t0.25\t\t0.18\n",
      "Midterm_1   \t0.09\t\t0.05\n",
      "Quiz_4   \t0.17\t\t0.20\n",
      "Quiz_5   \t0.10\t\t0.04\n",
      "Quiz_6   \t0.17\t\t0.15\n",
      "Midterm_2   \t0.07\t\t0.04\n",
      "Quiz_7   \t0.13\t\t0.10\n",
      "Quiz_8   \t0.03\t\t0.02\n",
      "Midterm_3   \t0.17\t\t0.13\n",
      "Quiz_9   \t0.32\t\t0.31\n",
      "Final   \t0.08\t\t0.11\n"
     ]
    }
   ],
   "source": [
    "def correlate_sleep_night_before_assessment(sleep_df, roster):\n",
    "    \"\"\"Correlate quality and duration of sleep the night before assessment\n",
    "    with assessment score.\n",
    "    \n",
    "    sleep_df: pd.DataFrame of sleep data.\n",
    "    roster: pd.DataFrame of the study roster.\n",
    "    \"\"\"\n",
    "    tmp = sleep_df.merge(roster, on=['subjectID', 'group'])\n",
    "    print(\"CORRELATION OF SLEEP NIGHT BEFORE WITH ASSESSMENT SCORE\\n\")\n",
    "    print(\"Assessment\\tDuration\\tQuality\")\n",
    "    print(\"----------\\t--------\\t-------\")\n",
    "    for name, date in assessment_dates:\n",
    "        # Only include data from current date.\n",
    "        this_date = tmp[tmp['date'] == date]\n",
    "        r_dur = this_date['sleepDuration'].corr(this_date[name])\n",
    "        r_qual = this_date['sleepQualityScoreA'].corr(this_date[name])\n",
    "        print(\"{}   \\t{:.2f}\\t\\t{:.2f}\".format(name, r_dur, r_qual))\n",
    "\n",
    "correlate_sleep_night_before_assessment(sleep_df.copy(), roster.copy())"
   ]
  },
  {
   "cell_type": "markdown",
   "metadata": {},
   "source": [
    "## Correlate sleep week before with assessment score\n",
    "\n",
    "Using Pearson correlation."
   ]
  },
  {
   "cell_type": "code",
   "execution_count": 32,
   "metadata": {
    "collapsed": false
   },
   "outputs": [
    {
     "name": "stdout",
     "output_type": "stream",
     "text": [
      "CORRELATIONS BETWEEN SLEEP DURATION/QUALITY WEEK BEFORE ASSESSMENT\n",
      "\n",
      "Quiz_8\n",
      "Sleep duration correlation:\t0.06\n",
      "Sleep quality correlation:\t0.12\n",
      "\n",
      "Midterm_1\n",
      "Sleep duration correlation:\t0.17\n",
      "Sleep quality correlation:\t0.22\n",
      "\n",
      "Midterm_2\n",
      "Sleep duration correlation:\t0.18\n",
      "Sleep quality correlation:\t0.21\n",
      "\n",
      "Midterm_3\n",
      "Sleep duration correlation:\t0.22\n",
      "Sleep quality correlation:\t0.21\n",
      "\n",
      "Quiz_4\n",
      "Sleep duration correlation:\t0.39\n",
      "Sleep quality correlation:\t0.41\n",
      "\n",
      "Quiz_5\n",
      "Sleep duration correlation:\t0.31\n",
      "Sleep quality correlation:\t0.25\n",
      "\n",
      "Quiz_6\n",
      "Sleep duration correlation:\t0.22\n",
      "Sleep quality correlation:\t0.21\n",
      "\n",
      "Quiz_7\n",
      "Sleep duration correlation:\t0.27\n",
      "Sleep quality correlation:\t0.22\n",
      "\n",
      "Quiz_1\n",
      "Sleep duration correlation:\t0.19\n",
      "Sleep quality correlation:\t0.16\n",
      "\n",
      "Quiz_2\n",
      "Sleep duration correlation:\t0.15\n",
      "Sleep quality correlation:\t0.19\n",
      "\n",
      "Quiz_3\n",
      "Sleep duration correlation:\t0.34\n",
      "Sleep quality correlation:\t0.29\n",
      "\n",
      "Final\n",
      "Sleep duration correlation:\t0.08\n",
      "Sleep quality correlation:\t0.18\n",
      "\n",
      "Quiz_9\n",
      "Sleep duration correlation:\t-0.03\n",
      "Sleep quality correlation:\t0.12\n",
      "\n"
     ]
    }
   ],
   "source": [
    "def summarize_sleep_before_assessment(sleep_df, assessment, \n",
    "                                      assessment_date):\n",
    "    \"\"\"Get summary of sleep per subject for the week before\n",
    "    an assessment.\n",
    "    \n",
    "    Returns\n",
    "    -------\n",
    "    this_week_summary : dict\n",
    "        Dictionary that contains mean sleep duration, \n",
    "        mean sleep quality, and assessment score for each subject\n",
    "        the week before the specified assessment.\n",
    "    \"\"\"\n",
    "    # Get range of dates (assessment date and 7 days prior).\n",
    "    assessment_date = pd.to_datetime(assessment_date)\n",
    "    start_date = assessment_date - pd.Timedelta(days=7)\n",
    "\n",
    "    # Convert pd.datetime objects to strings.\n",
    "    assessment_date = assessment_date.strftime('%Y-%m-%d')\n",
    "    start_date = start_date.strftime('%Y-%m-%d')\n",
    "    \n",
    "    # Subset data with these dates.\n",
    "    this_week = sleep_df[start_date:assessment_date]\n",
    "\n",
    "    this_week_summary = {\n",
    "        'subjectID': [],\n",
    "        'sleep_duration': [],\n",
    "        'sleep_quality': [],\n",
    "        'score': [],\n",
    "    }\n",
    "\n",
    "    for subj, data in this_week.groupby('subjectID'):\n",
    "        this_week_summary['subjectID'].append(subj)\n",
    "        this_week_summary['sleep_duration'].append(\n",
    "            data['sleepDuration'].mean())\n",
    "        this_week_summary['sleep_quality'].append(\n",
    "            data['sleepQualityScoreA'].mean())\n",
    "        this_week_summary['score'].append(\n",
    "            roster[roster['subjectID'] == subj][assessment].values[0])\n",
    "\n",
    "    return this_week_summary\n",
    "\n",
    "\n",
    "# Build a dictionary for all assessments.\n",
    "sleep_before_assessments = {}\n",
    "for assessment, date in assessment_dates:\n",
    "    sleep_before_assessments[assessment] = (\n",
    "        summarize_sleep_before_assessment(sleep_df.copy(), assessment, date))\n",
    "\n",
    "\n",
    "def show_r_values_for_sleep(dict_of_data, assessment):\n",
    "    \"\"\"Print correlation coefficients between sleep dur/quality and scores\n",
    "    on each assesment.\n",
    "    \n",
    "    dict_of_data: dictionary of dictionaries of summarized sleep data\n",
    "                  for week before assessment.\n",
    "    assessment: the name of the assessment.\n",
    "    \"\"\"\n",
    "    df = pd.DataFrame(dict_of_data[assessment])\n",
    "    sleep_dur_corr_with_scores = df['sleep_duration'].corr(df['score'])\n",
    "    sleep_qual_corr_with_scores = df['sleep_quality'].corr(df['score'])\n",
    "    print(\"{}\\nSleep duration correlation:\\t{:.2f}\\n\"\n",
    "          \"Sleep quality correlation:\\t{:.2f}\\n\".format(\n",
    "            assessment,\n",
    "            sleep_dur_corr_with_scores,\n",
    "            sleep_qual_corr_with_scores))\n",
    "\n",
    "print(\"CORRELATIONS BETWEEN SLEEP DURATION/QUALITY WEEK BEFORE ASSESSMENT\\n\")\n",
    "for assessment in sleep_before_assessments:\n",
    "    show_r_values_for_sleep(sleep_before_assessments, assessment)"
   ]
  },
  {
   "cell_type": "markdown",
   "metadata": {},
   "source": [
    "## T-test of assessment scores by outer thirds of sleep duration"
   ]
  },
  {
   "cell_type": "code",
   "execution_count": 33,
   "metadata": {
    "collapsed": false,
    "scrolled": false
   },
   "outputs": [
    {
     "name": "stdout",
     "output_type": "stream",
     "text": [
      "T-TESTS OF ASSESSMENT SCORES BY OUTER THIRDS OF SLEEP DURATION\n",
      "\n",
      "Quiz_1\n",
      "N: higher = 16; lower = 28\n",
      "assessment means: higher = 9.50; lower = 9.09\n",
      "sleepDuration means: higher = 520.81; lower = 325.46\n",
      "t-test: p = 0.166, T = -1.409\n",
      "\n",
      "Quiz_2\n",
      "N: higher = 20; lower = 32\n",
      "assessment means: higher = 8.15; lower = 7.98\n",
      "sleepDuration means: higher = 512.85; lower = 312.81\n",
      "t-test: p = 0.779, T = -0.282\n",
      "\n",
      "Quiz_3\n",
      "N: higher = 26; lower = 20\n",
      "assessment means: higher = 8.10; lower = 7.21\n",
      "sleepDuration means: higher = 517.00; lower = 321.60\n",
      "t-test: p = 0.179, T = -1.365\n",
      "\n",
      "Midterm_1\n",
      "N: higher = 22; lower = 28\n",
      "assessment means: higher = 76.27; lower = 71.43\n",
      "sleepDuration means: higher = 521.55; lower = 340.04\n",
      "t-test: p = 0.227, T = -1.222\n",
      "\n",
      "Quiz_4\n",
      "N: higher = 19; lower = 41\n",
      "assessment means: higher = 8.25; lower = 7.59\n",
      "sleepDuration means: higher = 520.47; lower = 315.17\n",
      "t-test: p = 0.280, T = -1.091\n",
      "\n",
      "Quiz_5\n",
      "N: higher = 18; lower = 30\n",
      "assessment means: higher = 8.53; lower = 8.45\n",
      "sleepDuration means: higher = 509.22; lower = 324.33\n",
      "t-test: p = 0.821, T = -0.227\n",
      "\n",
      "Quiz_6\n",
      "N: higher = 24; lower = 26\n",
      "assessment means: higher = 7.17; lower = 6.69\n",
      "sleepDuration means: higher = 521.58; lower = 299.23\n",
      "t-test: p = 0.417, T = -0.818\n",
      "\n",
      "Midterm_2\n",
      "N: higher = 20; lower = 36\n",
      "assessment means: higher = 80.80; lower = 77.73\n",
      "sleepDuration means: higher = 502.70; lower = 331.86\n",
      "t-test: p = 0.304, T = -1.038\n",
      "\n",
      "Quiz_7\n",
      "N: higher = 32; lower = 28\n",
      "assessment means: higher = 8.14; lower = 7.46\n",
      "sleepDuration means: higher = 522.12; lower = 319.39\n",
      "t-test: p = 0.334, T = -0.975\n",
      "\n",
      "Quiz_8\n",
      "N: higher = 32; lower = 29\n",
      "assessment means: higher = 7.42; lower = 7.19\n",
      "sleepDuration means: higher = 524.62; lower = 305.28\n",
      "t-test: p = 0.767, T = -0.298\n",
      "\n",
      "Midterm_3\n",
      "N: higher = 17; lower = 43\n",
      "assessment means: higher = 79.06; lower = 74.86\n",
      "sleepDuration means: higher = 518.29; lower = 309.63\n",
      "t-test: p = 0.394, T = -0.859\n",
      "\n",
      "Quiz_9 *\n",
      "N: higher = 23; lower = 29\n",
      "assessment means: higher = 8.55; lower = 7.02\n",
      "sleepDuration means: higher = 515.35; lower = 294.83\n",
      "t-test: p = 0.016, T = -2.494\n",
      "\n",
      "Final\n",
      "N: higher = 10; lower = 42\n",
      "assessment means: higher = 135.85; lower = 133.13\n",
      "sleepDuration means: higher = 544.10; lower = 294.02\n",
      "t-test: p = 0.814, T = -0.236\n",
      "\n"
     ]
    }
   ],
   "source": [
    "def compute_assessment_ttest_by_sleep_measure(sleep_df, date, \n",
    "                                              assessment,\n",
    "                                              measure):\n",
    "    \"\"\"Return results of t-test between assessment scores of \n",
    "    people who scored >= than the cutoff and people who scored\n",
    "    < than the cutoff.\n",
    "    \n",
    "    Parameters\n",
    "    ----------\n",
    "    date : str\n",
    "        Date of assessment.\n",
    "    assessment : str\n",
    "        Name of assessment.\n",
    "    cutoff : int, float\n",
    "        Where to split subjects. Units depend on sleep data.\n",
    "    measure : str\n",
    "        Name of a column in the sleep dataframe.\n",
    "    \"\"\"\n",
    "    # Subset the sleep data and merge with roster.\n",
    "    this_date = sleep_df[date].merge(roster, on=['subjectID', 'group'])\n",
    "\n",
    "    # Split subjects by thirds.\n",
    "    bottom_third = sleep_df.quantile(q=0.33)[measure]\n",
    "    upper_third = sleep_df.quantile(q=0.66)[measure]\n",
    "    lower = this_date[this_date[measure] <= bottom_third]\n",
    "    higher = this_date[this_date[measure] >= upper_third]\n",
    "\n",
    "    # Get mean scores on the specified assessment.\n",
    "    lower_assessment_mean = lower[assessment].mean()\n",
    "    higher_assessment_mean = higher[assessment].mean()\n",
    "\n",
    "    # Get mean scores on the specified sleep measure.\n",
    "    lower_measure_mean = lower[measure].mean()\n",
    "    higher_measure_mean = higher[measure].mean()\n",
    "\n",
    "    # Perform two-sample independent t-test.\n",
    "    t_test = stats.ttest_ind(lower[assessment],\n",
    "                             higher[assessment],\n",
    "                             nan_policy='omit')\n",
    "\n",
    "    asterisk = \" *\" if t_test.pvalue < 0.05 else \"\"\n",
    "\n",
    "    return (\"{}{}\\n\"\n",
    "            \"N: higher = {}; lower = {}\\n\"\n",
    "            \"assessment means: higher = {:.2f}; lower = {:.2f}\\n\"\n",
    "            \"{} means: higher = {:.2f}; lower = {:.2f}\\n\"\n",
    "            \"t-test: p = {:.3f}, T = {:.3f}\\n\".format(\n",
    "                assessment, asterisk,\n",
    "                len(higher), len(lower),\n",
    "                higher_assessment_mean,\n",
    "                lower_assessment_mean,\n",
    "                measure,\n",
    "                higher_measure_mean,\n",
    "                lower_measure_mean,\n",
    "                t_test.pvalue, t_test.statistic))\n",
    "\n",
    "print(\"T-TESTS OF ASSESSMENT SCORES BY OUTER THIRDS OF SLEEP DURATION\\n\")\n",
    "for assessment, date in assessment_dates:\n",
    "    print(compute_assessment_ttest_by_sleep_measure(sleep_df, date, \n",
    "                                                    assessment,\n",
    "                                                    \"sleepDuration\"))"
   ]
  },
  {
   "cell_type": "markdown",
   "metadata": {},
   "source": [
    "## Correlation of sleep duration/quality and assessment scores in longest sleepers"
   ]
  },
  {
   "cell_type": "code",
   "execution_count": 34,
   "metadata": {
    "collapsed": false,
    "scrolled": false
   },
   "outputs": [
    {
     "name": "stdout",
     "output_type": "stream",
     "text": [
      "CORRELATION BETWEEN SLEEP DURATION > 480 and SCORE\n",
      "\n",
      "Quiz_1: r = -0.05\n",
      "Quiz_2: r = 0.18\n",
      "Quiz_3: r = 0.00\n",
      "Midterm_1: r = -0.12\n",
      "Quiz_4: r = -0.04\n",
      "Quiz_5: r = -0.27\n",
      "Quiz_6: r = 0.01\n",
      "Midterm_2: r = 0.02\n",
      "Quiz_7: r = 0.16\n",
      "Quiz_8: r = 0.01\n",
      "Midterm_3: r = 0.35\n",
      "Quiz_9: r = -0.14\n",
      "Final: r = 0.12\n"
     ]
    }
   ],
   "source": [
    "import operator\n",
    "def correlate_sleep_dur_with_assessment_by_thresh(assess_key, sleep_df, roster, \n",
    "                                                  thresh, op):\n",
    "    \"\"\"For each assessment, split subjects by threshold, select subjects above\n",
    "    or below the threshold, and correlate their scores with their sleep duration.\n",
    "    \n",
    "    assess_key: list of tuples (assessment, date).\n",
    "    sleep_df: pd.DataFrame of sleep data.\n",
    "    roster: pd.DataFrame of study roster.\n",
    "    thresh: sleep duration threshold by which to divide subjects.\n",
    "    op: operator to select subjects. For example, '<' will select subjects\n",
    "            with sleep duration less than the threshold.\n",
    "    \"\"\"\n",
    "    ops = {'>': operator.gt,\n",
    "           '<': operator.lt,\n",
    "           '>=': operator.ge,\n",
    "           '<=': operator.le,\n",
    "           '=': operator.eq,\n",
    "          }\n",
    "    print(\"CORRELATION BETWEEN SLEEP DURATION {} {} and SCORE\\n\".format(op, thresh))\n",
    "    for assessment, date in assessment_dates:\n",
    "        this_date = sleep_df[date].merge(roster, on=['subjectID', 'group'])\n",
    "        # Subset subjects based on the thresold and operator.\n",
    "        sleepers = this_date[ops[op](this_date['sleepDuration'], thresh)]\n",
    "        # Calculate correlation coefficient.\n",
    "        corr_coeff = sleepers['sleepDuration'].corr(sleepers[assessment])\n",
    "        print(\"{}: r = {:.2f}\".format(assessment, corr_coeff))\n",
    "\n",
    "correlate_sleep_dur_with_assessment_by_thresh(assessment_dates, sleep_df.copy(), \n",
    "                                              roster.copy(), 480, op='>')"
   ]
  },
  {
   "cell_type": "markdown",
   "metadata": {},
   "source": [
    "# Exercise analyses"
   ]
  },
  {
   "cell_type": "markdown",
   "metadata": {},
   "source": [
    "## Most vs least amount of moderately to very intense activity\n",
    "\n",
    "- Assessment scores\n",
    "- Sleep quality\n",
    "- Sleep quality (but exclude varsity and club athletes from analysis)"
   ]
  },
  {
   "cell_type": "code",
   "execution_count": 35,
   "metadata": {
    "collapsed": false
   },
   "outputs": [
    {
     "name": "stdout",
     "output_type": "stream",
     "text": [
      "Split point: 460.0\n"
     ]
    }
   ],
   "source": [
    "# Get each subject's amount of moderately to very intense activity.\n",
    "\n",
    "def get_amount_exercise(df):\n",
    "    \"\"\"Return DataFrame of exercise amount per subject per date.\n",
    "    \n",
    "    df: pd.DataFrame\n",
    "    \"\"\"\n",
    "    dict_ = {\n",
    "        'subjectID': [],\n",
    "        'total_mod_very_activity': [],\n",
    "    }\n",
    "    for subj, data in df.groupby('subjectID'):\n",
    "        dict_['subjectID'].append(subj)\n",
    "        # Sum occurrences of MODERATELY and VERY active.\n",
    "        value_counts = data['activityLevel'].value_counts()\n",
    "        value_counts = value_counts[['MODERATELY_ACTIVE', 'VERY_ACTIVE']].sum()\n",
    "        dict_['total_mod_very_activity'].append(value_counts)\n",
    "    return pd.DataFrame(dict_)\n",
    "\n",
    "def perform_ind_t_test(g1, g2, col):\n",
    "    \"\"\"Return string of ind. t-test results.\n",
    "    \n",
    "    g1: pd.DataFrame for one group.\n",
    "    g2: pd.DataFrame for other group.\n",
    "    col: column to compare between g1 and g2.\"\"\"\n",
    "    t_test = stats.ttest_ind(g1[col], g2[col], nan_policy='omit')\n",
    "    asterisk = \" *\" if t_test.pvalue < 0.05 else \"\"\n",
    "    return (\"{}{}\\tp = {:.3f}, T = {:.3f}\"\n",
    "            \"\".format(col, asterisk, t_test.pvalue, t_test.statistic))\n",
    "\n",
    "# Create dataframe of each subject's sum of moderately and very intense activity\n",
    "# Use the median of those values as the split point to create two groups.\n",
    "df = get_amount_exercise(mult_df)\n",
    "split_point = df['total_mod_very_activity'].median()\n",
    "print(\"Split point: {}\".format(split_point))"
   ]
  },
  {
   "cell_type": "code",
   "execution_count": 36,
   "metadata": {
    "collapsed": false
   },
   "outputs": [
    {
     "data": {
      "text/plain": [
       "<matplotlib.text.Text at 0x10fed4450>"
      ]
     },
     "execution_count": 36,
     "metadata": {},
     "output_type": "execute_result"
    },
    {
     "data": {
      "image/png": "[encoded data removed]",
      "text/plain": [
       "<matplotlib.figure.Figure at 0x104075490>"
      ]
     },
     "metadata": {},
     "output_type": "display_data"
    }
   ],
   "source": [
    "df.total_mod_very_activity.plot.hist()\n",
    "plt.axvline(split_point, color='black')\n",
    "plt.title(\"Distribution of exercise sums (black line = median)\")"
   ]
  },
  {
   "cell_type": "markdown",
   "metadata": {},
   "source": [
    "### Assessment scores"
   ]
  },
  {
   "cell_type": "code",
   "execution_count": 37,
   "metadata": {
    "collapsed": false,
    "scrolled": true
   },
   "outputs": [
    {
     "name": "stdout",
     "output_type": "stream",
     "text": [
      "SAMPLE SIZES\n",
      "Above split point: 44\n",
      "Below split point: 45\n",
      "\n",
      "ASSESSMENT SCORE OF SUBJECTS ABOVE VERSUS BELOW MEDIAN ACTIVITY COUNT\n",
      "Quiz_1\tp = 0.521, T = -0.645\n",
      "Quiz_2\tp = 0.576, T = -0.561\n",
      "Quiz_3\tp = 0.846, T = -0.195\n",
      "Midterm_1\tp = 0.210, T = -1.262\n",
      "Quiz_4\tp = 0.784, T = 0.275\n",
      "Quiz_5\tp = 0.393, T = -0.858\n",
      "Quiz_6\tp = 0.238, T = -1.189\n",
      "Midterm_2\tp = 0.546, T = 0.607\n",
      "Quiz_7\tp = 0.724, T = -0.355\n",
      "Quiz_8\tp = 0.506, T = 0.668\n",
      "Midterm_3\tp = 0.882, T = 0.149\n",
      "Quiz_9\tp = 0.110, T = 1.617\n",
      "Final\tp = 0.585, T = 0.548\n"
     ]
    }
   ],
   "source": [
    "tmp = df.merge(roster, on='subjectID')\n",
    "group_1 = tmp[tmp['total_mod_very_activity'] > split_point]\n",
    "group_2 = tmp[tmp['total_mod_very_activity'] <= split_point]\n",
    "print(\"SAMPLE SIZES\\nAbove split point: {}\\nBelow split point: {}\"\n",
    "      \"\".format(len(group_1), len(group_2)))\n",
    "\n",
    "print(\"\\nASSESSMENT SCORE OF SUBJECTS ABOVE VERSUS BELOW MEDIAN ACTIVITY COUNT\")\n",
    "for assessment, _ in assessment_dates:\n",
    "    print(perform_ind_t_test(group_1, group_2, assessment))"
   ]
  },
  {
   "cell_type": "markdown",
   "metadata": {},
   "source": [
    "### Sleep quality"
   ]
  },
  {
   "cell_type": "code",
   "execution_count": 38,
   "metadata": {
    "collapsed": false
   },
   "outputs": [
    {
     "name": "stdout",
     "output_type": "stream",
     "text": [
      "SAMPLE SIZES\n",
      "Above split point: 44\n",
      "Below split point: 45\n",
      "\n",
      "SLEEP QUALITY OF SUBJECTS ABOVE VERSUS BELOW MEDIAN ACTIVITY COUNT\n",
      "mean_sleep_quality\tp = 0.278, T = -1.092\n"
     ]
    }
   ],
   "source": [
    "mean_sleep_df = pd.DataFrame.from_dict(\n",
    "    {s: [df.sleepQualityScoreA.mean()] for s, df in sleep_df.groupby('subjectID')},\n",
    "    orient='index')\n",
    "mean_sleep_df.columns = ['mean_sleep_quality']\n",
    "mean_sleep_df['subjectID'] = mean_sleep_df.index\n",
    "tmp = df.merge(mean_sleep_df, on='subjectID')\n",
    "\n",
    "group_1 = tmp[tmp['total_mod_very_activity'] > split_point]\n",
    "group_2 = tmp[tmp['total_mod_very_activity'] <= split_point]\n",
    "print(\"SAMPLE SIZES\\nAbove split point: {}\\nBelow split point: {}\"\n",
    "      \"\".format(len(group_1), len(group_2)))\n",
    "\n",
    "print(\"\\nSLEEP QUALITY OF SUBJECTS ABOVE VERSUS BELOW MEDIAN ACTIVITY COUNT\")\n",
    "print(perform_ind_t_test(group_1, group_2, 'mean_sleep_quality'))"
   ]
  },
  {
   "cell_type": "markdown",
   "metadata": {},
   "source": [
    "### Sleep quality excluding varsity and club athletes"
   ]
  },
  {
   "cell_type": "code",
   "execution_count": 39,
   "metadata": {
    "collapsed": false,
    "scrolled": true
   },
   "outputs": [
    {
     "name": "stdout",
     "output_type": "stream",
     "text": [
      "SAMPLE SIZES\n",
      "Above split point: 20\n",
      "Below split point: 32\n",
      "\n",
      "SLEEP QUALITY OF SUBJECTS ABOVE VERSUS BELOW MEDIAN ACTIVITY COUNT\n",
      "mean_sleep_quality *\tp = 0.038, T = -2.136\n"
     ]
    }
   ],
   "source": [
    "# Subjects in an organized sport. Most of these are club or varsity. In some \n",
    "# cases, it is not clear whether it is club or varsity (i.e., dance).\n",
    "subj_in_sports = roster[roster['Organized_Sport'] != 0]['subjectID']\n",
    "\n",
    "tmp = df.merge(mean_sleep_df, on='subjectID')\n",
    "tmp = tmp[~tmp.subjectID.isin(subj_in_sports)]\n",
    "\n",
    "group_1 = tmp[tmp['total_mod_very_activity'] > split_point]\n",
    "group_2 = tmp[tmp['total_mod_very_activity'] <= split_point]\n",
    "print(\"SAMPLE SIZES\\nAbove split point: {}\\nBelow split point: {}\"\n",
    "      \"\".format(len(group_1), len(group_2)))\n",
    "\n",
    "print(\"\\nSLEEP QUALITY OF SUBJECTS ABOVE VERSUS BELOW MEDIAN ACTIVITY COUNT\")\n",
    "print(perform_ind_t_test(group_1, group_2, 'mean_sleep_quality'))"
   ]
  },
  {
   "cell_type": "code",
   "execution_count": 40,
   "metadata": {
    "collapsed": false
   },
   "outputs": [
    {
     "name": "stdout",
     "output_type": "stream",
     "text": [
      "total_mod_very_activity    619.400000\n",
      "mean_sleep_quality          76.336822\n",
      "dtype: float64\n",
      "\n",
      "total_mod_very_activity    359.781250\n",
      "mean_sleep_quality          79.487633\n",
      "dtype: float64\n"
     ]
    }
   ],
   "source": [
    "print(group_1.mean())\n",
    "print()\n",
    "print(group_2.mean())"
   ]
  },
  {
   "cell_type": "markdown",
   "metadata": {},
   "source": [
    "## Correlation between exercise and sleep duration / quality\n",
    "\n",
    "Exercise is count of instances of 'VERY_ACTIVE' and 'MODERATELY_ACTIVE' in `mult_df['activityLevel']`."
   ]
  },
  {
   "cell_type": "code",
   "execution_count": 41,
   "metadata": {
    "collapsed": false
   },
   "outputs": [
    {
     "name": "stdout",
     "output_type": "stream",
     "text": [
      "CORRELATION BETWEEN SLEEP DURATION/QUALITY AND EXERCISE AMOUNT\n",
      "\n",
      "Exercise and ...\n",
      "\tsleep duration: r = -0.08\n",
      "\tsleep quality: r = -0.07\n"
     ]
    }
   ],
   "source": [
    "def summarize_exercise_amount():\n",
    "    \"\"\"Return DataFrame of exercise amount per subject per date.\"\"\"\n",
    "    exercise_dict = {\n",
    "        'subjectID': [],\n",
    "        'date': [],\n",
    "        'activityLevel': [],\n",
    "    }\n",
    "    for subj, subj_data in mult_df.groupby('subjectID'):\n",
    "        for date, date_data in subj_data.groupby('date'):\n",
    "            exercise_dict['subjectID'].append(subj)\n",
    "            exercise_dict['date'].append(date)\n",
    "            # # Sum occurrences of all but 'SEDENTARY'.\n",
    "            # value_counts = date_data['activityLevel'].value_counts().drop('SEDENTARY').sum()\n",
    "            # Sum occurrences of VERY and MODERATELY active.\n",
    "            value_counts = (date_data['activityLevel']\n",
    "                            .value_counts()[['VERY_ACTIVE', 'MODERATELY_ACTIVE']].sum())\n",
    "            # # Use this if summing activeMinutes.\n",
    "            # value_counts = date_data[measure].sum()\n",
    "            exercise_dict['activityLevel'].append(value_counts)\n",
    "    return pd.DataFrame(exercise_dict)\n",
    "\n",
    "\n",
    "def correlate_exercise_and_sleep(sleep_df, exercise_corr_df, measure):\n",
    "    \"\"\"Return coefficient of correlation between the measure\n",
    "    and exercise amount.\"\"\"\n",
    "    \n",
    "    exercise_corr_df['date'] = pd.to_datetime(exercise_corr_df['date'])\n",
    "\n",
    "    # Merge with sleep_df. We have to get around the fact that\n",
    "    # the date is the index in sleep_df by making a temporary DataFrame.\n",
    "    sleep_df['date'] = pd.to_datetime(sleep_df['date'])\n",
    "    exercise_corr_df = exercise_corr_df.merge(sleep_df, on=['subjectID', 'date'])\n",
    "\n",
    "    # Print the correlation coefficients.\n",
    "    return exercise_corr_df['activityLevel'].corr(exercise_corr_df[measure])\n",
    "\n",
    "\n",
    "exercise_corr_df = summarize_exercise_amount()\n",
    "print(\"CORRELATION BETWEEN SLEEP DURATION/QUALITY AND EXERCISE AMOUNT\\n\")\n",
    "print(\"Exercise and ...\")\n",
    "print(\"\\tsleep duration: r = {:.2f}\".format(\n",
    "        correlate_exercise_and_sleep(sleep_df.copy(), exercise_corr_df.copy(), 'sleepDuration')))\n",
    "print(\"\\tsleep quality: r = {:.2f}\".format(\n",
    "        correlate_exercise_and_sleep(sleep_df.copy(), exercise_corr_df.copy(), 'sleepQualityScoreA')))"
   ]
  },
  {
   "cell_type": "markdown",
   "metadata": {},
   "source": [
    "## AM versus PM exercise\n",
    "\n",
    "Is there a difference in quiz scores between people who exercise in the morning and people who exercise after noon?\n",
    "\n",
    "1. Look at each subject's daily heart rate. Is there a pattern for each subject?\n",
    "1. Get average relative heart rate for AM and PM. The greater value is the subject's group.\n",
    "1. Get average relative heart rate for bins of time of X duration. The greatest value is the subject's group."
   ]
  },
  {
   "cell_type": "code",
   "execution_count": 42,
   "metadata": {
    "collapsed": true
   },
   "outputs": [],
   "source": [
    "tmp_hr_df = hr_df.copy().merge(rest_hr_df.copy(), on=['date', 'subjectID', 'group'])\n",
    "\n",
    "tmp_hr_df['real_over_rest'] = tmp_hr_df['bpm'].divide(tmp_hr_df['resting_bpm'])\n",
    "\n",
    "def convert_to_military_time(time):\n",
    "    time = time.split(':')\n",
    "    return ''.join(time[:-1]).zfill(4)\n",
    "\n",
    "tmp_hr_df['military_time'] = tmp_hr_df.time.apply(convert_to_military_time)\n",
    "\n",
    "# Replace zeros with NaN.\n",
    "tmp_hr_df = tmp_hr_df.replace(to_replace=0, value=np.nan)\n",
    "\n",
    "# Merge with roster, so quiz and midterm scores are there.\n",
    "tmp_hr_df = tmp_hr_df.merge(roster, on=['subjectID', 'group'])"
   ]
  },
  {
   "cell_type": "code",
   "execution_count": 43,
   "metadata": {
    "collapsed": false,
    "scrolled": false
   },
   "outputs": [
    {
     "name": "stdout",
     "output_type": "stream",
     "text": [
      "Time\tCount\n",
      "----\t-----\n",
      "0\t0\n",
      "600\t3\n",
      "1200\t39\n",
      "1800\t47\n"
     ]
    }
   ],
   "source": [
    "# Assign cells to a particular bin.\n",
    "def make_bins(cell, n_bins):\n",
    "    \"\"\"Assign a cell to a particular bin.\"\"\"\n",
    "    bin_size = 2400 // n_bins\n",
    "    for i in range(2400, 0, -bin_size):\n",
    "        if cell < i:\n",
    "            val = i / bin_size\n",
    "    return val\n",
    "\n",
    "def get_bin_hr_means(n_bins):\n",
    "    \"\"\"Get mean relative heart rate per bin per subject.\"\"\"\n",
    "    tmp_hr_df['time_bin'] = tmp_hr_df.military_time.astype(int).apply(make_bins, args=(n_bins,))\n",
    "    rel_hr_means = {}\n",
    "    for subj, data in tmp_hr_df.groupby('subjectID'):\n",
    "        rel_hr_means[subj] = []\n",
    "        for time_bin, time_data in data.groupby('time_bin'):\n",
    "            rel_hr_means[subj].append(time_data['real_over_rest'].mean(skipna=True))\n",
    "    return rel_hr_means\n",
    "\n",
    "def get_max_hr_bins(means):\n",
    "    \"\"\"Get the bin of the max relative heart rate.\"\"\"\n",
    "    max_hr_bins = []\n",
    "    for index in means:\n",
    "        max_ = max(means[index])\n",
    "        i = means[index].index(max_)\n",
    "        max_hr_bins.append([index, max_, i])\n",
    "    return max_hr_bins\n",
    "\n",
    "def show_bincount(max_hr_bins, n_bins):\n",
    "    \"\"\"Print number of subjects in each bin.\"\"\"\n",
    "    bin_count = np.bincount(np.array([i[-1] for i in max_hr_bins]))\n",
    "\n",
    "    bin_size = 2400 // n_bins\n",
    "    str_out = \"Time\\tCount\\n----\\t-----\"\n",
    "    for bin_, count in zip(range(0, 2400, bin_size), bin_count):\n",
    "        str_out += \"\\n{}\\t{}\".format(bin_, count)\n",
    "    return str_out\n",
    "\n",
    "n_bins = 4\n",
    "# Get mean relative heart rate per bin per subject.\n",
    "bin_hr_means = get_bin_hr_means(n_bins=n_bins)\n",
    "# Get the bin of the max mean relative heart rate.\n",
    "max_hr_bins =  get_max_hr_bins(bin_hr_means)\n",
    "# Print the number of subjects in each bin.\n",
    "print(show_bincount(max_hr_bins, n_bins=n_bins))"
   ]
  },
  {
   "cell_type": "code",
   "execution_count": 44,
   "metadata": {
    "collapsed": false
   },
   "outputs": [
    {
     "name": "stdout",
     "output_type": "stream",
     "text": [
      "Quiz_1: 0.9987\n",
      "Quiz_2: 0.9990\n",
      "Quiz_3: 0.9257\n",
      "Midterm_1: 0.9970\n",
      "Quiz_4: 0.9608\n",
      "Quiz_5: 0.9985\n",
      "Quiz_6: 0.9993\n",
      "Midterm_2: 0.9958\n",
      "Quiz_7: 0.9584\n",
      "Quiz_8: 0.9891\n",
      "Midterm_3: 0.9403\n",
      "Quiz_9: 0.9820\n",
      "Final: 0.9884\n"
     ]
    }
   ],
   "source": [
    "# Merge the exercise time-bins with the roster so each subject has one time-bin.\n",
    "tmp_roster = roster.copy().merge(tmp_hr_df[['subjectID', 'time_bin']], on='subjectID')\n",
    "\n",
    "def compute_time_bin_anova_pvalue(column):\n",
    "    formula = '{} ~ C(time_bin)'.format(column)\n",
    "    lm = ols(formula, tmp_roster, missing='drop').fit()\n",
    "    asterisk = \" *\" if lm.f_pvalue < 0.05 else \"\"\n",
    "    return \"{}: {:.4f}{}\".format(column, lm.f_pvalue, asterisk)\n",
    "\n",
    "for column, __ in assessment_dates:\n",
    "    print(compute_time_bin_anova_pvalue(column))"
   ]
  },
  {
   "cell_type": "code",
   "execution_count": 45,
   "metadata": {
    "collapsed": false
   },
   "outputs": [
    {
     "name": "stderr",
     "output_type": "stream",
     "text": [
      "/Users/jakubkaczmarzyk/anaconda2/lib/python2.7/site-packages/statsmodels/sandbox/stats/multicomp.py:1281: RuntimeWarning: invalid value encountered in greater\n",
      "  reject = st_range > q_crit\n",
      "/Users/jakubkaczmarzyk/anaconda2/lib/python2.7/site-packages/statsmodels/sandbox/stats/multicomp.py:1283: RuntimeWarning: invalid value encountered in greater\n",
      "  reject2 = np.abs(meandiffs) > crit_int\n"
     ]
    },
    {
     "data": {
      "text/html": [
       "<table class=\"simpletable\">\n",
       "<caption>Multiple Comparison of Means - Tukey HSD,FWER=0.05</caption>\n",
       "<tr>\n",
       "  <th>group1</th> <th>group2</th> <th>meandiff</th> <th>lower</th> <th>upper</th> <th>reject</th>\n",
       "</tr>\n",
       "<tr>\n",
       "    <td>1.0</td>    <td>2.0</td>     <td>nan</td>    <td>nan</td>   <td>nan</td>   <td>False</td>\n",
       "</tr>\n",
       "<tr>\n",
       "    <td>1.0</td>    <td>3.0</td>     <td>nan</td>    <td>nan</td>   <td>nan</td>   <td>False</td>\n",
       "</tr>\n",
       "<tr>\n",
       "    <td>1.0</td>    <td>4.0</td>     <td>nan</td>    <td>nan</td>   <td>nan</td>   <td>False</td>\n",
       "</tr>\n",
       "<tr>\n",
       "    <td>2.0</td>    <td>3.0</td>     <td>nan</td>    <td>nan</td>   <td>nan</td>   <td>False</td>\n",
       "</tr>\n",
       "<tr>\n",
       "    <td>2.0</td>    <td>4.0</td>     <td>nan</td>    <td>nan</td>   <td>nan</td>   <td>False</td>\n",
       "</tr>\n",
       "<tr>\n",
       "    <td>3.0</td>    <td>4.0</td>     <td>nan</td>    <td>nan</td>   <td>nan</td>   <td>False</td>\n",
       "</tr>\n",
       "</table>"
      ],
      "text/plain": [
       "<class 'statsmodels.iolib.table.SimpleTable'>"
      ]
     },
     "execution_count": 45,
     "metadata": {},
     "output_type": "execute_result"
    }
   ],
   "source": [
    "# How do we get rid of NaN values in the input data?\n",
    "tk = sm.stats.multicomp.pairwise_tukeyhsd(tmp_hr_df['Quiz_1'], tmp_hr_df['time_bin'])\n",
    "tk.summary()"
   ]
  },
  {
   "cell_type": "code",
   "execution_count": 46,
   "metadata": {
    "collapsed": false
   },
   "outputs": [],
   "source": [
    "# # Save figures of relative heart rate over time to PDF.\n",
    "#\n",
    "# from matplotlib.backends.backend_pdf import PdfPages\n",
    "# with PdfPages('relative_hr_over_time.pdf') as pdf:\n",
    "#     fig, axs = plt.subplots(3, 2)\n",
    "#     fig.subplots_adjust(hspace = .8)\n",
    "#     axs = axs.ravel()\n",
    "#     i = 0\n",
    "#     for j, a in enumerate(hr_df.groupby(by=('subjectID'))):\n",
    "#         print j\n",
    "#         # Time-series plot.\n",
    "#         sns.tsplot(data=a[1], time='military_time', ax=axs[i],\n",
    "#                    value='real_over_rest', unit='subjectID',\n",
    "#                    condition='date', legend=False, alpha=0.1)\n",
    "#         # Plot vertical line at noon.\n",
    "#         axs[i].plot([1200, 1200], [0, 1], linewidth=3, color='black')\n",
    "#         axs[i].set_title(a[0])\n",
    "#         i += 1\n",
    "\n",
    "#         if i % 6 == 0 and i != 0:\n",
    "#             pdf.savefig()\n",
    "#             fig, axs = plt.subplots(3, 2)\n",
    "#             fig.subplots_adjust(hspace = .8)\n",
    "#             axs = axs.ravel()\n",
    "#             i = 0\n",
    "#     pdf.savefig()"
   ]
  }
 ],
 "metadata": {
  "anaconda-cloud": {},
  "kernelspec": {
   "display_name": "Python [Root]",
   "language": "python",
   "name": "Python [Root]"
  },
  "language_info": {
   "codemirror_mode": {
    "name": "ipython",
    "version": 2
   },
   "file_extension": ".py",
   "mimetype": "text/x-python",
   "name": "python",
   "nbconvert_exporter": "python",
   "pygments_lexer": "ipython2",
   "version": "2.7.12"
  },
  "toc": {
   "colors": {
    "hover_highlight": "#DAA520",
    "running_highlight": "#FF0000",
    "selected_highlight": "#FFD700"
   },
   "moveMenuLeft": true,
   "nav_menu": {
    "height": "336px",
    "width": "252px"
   },
   "navigate_menu": true,
   "number_sections": false,
   "sideBar": true,
   "threshold": 4,
   "toc_cell": true,
   "toc_position": {
    "height": "945px",
    "left": "0px",
    "right": "812px",
    "top": "106px",
    "width": "212px"
   },
   "toc_section_display": "block",
   "toc_window_display": false
  }
 },
 "nbformat": 4,
 "nbformat_minor": 0
}
